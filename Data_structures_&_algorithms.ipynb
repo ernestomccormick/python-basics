{
 "metadata": {
  "language_info": {
   "codemirror_mode": {
    "name": "ipython",
    "version": 3
   },
   "file_extension": ".py",
   "mimetype": "text/x-python",
   "name": "python",
   "nbconvert_exporter": "python",
   "pygments_lexer": "ipython3",
   "version": "3.8.5-final"
  },
  "orig_nbformat": 2,
  "kernelspec": {
   "name": "python38564bit345e80f6122a4e7ab0d4399afbb95183",
   "display_name": "Python 3.8.5 64-bit"
  }
 },
 "nbformat": 4,
 "nbformat_minor": 2,
 "cells": [
  {
   "cell_type": "markdown",
   "metadata": {},
   "source": [
    "# DATA STRUCTURES AND ALGORITHMS"
   ]
  },
  {
   "cell_type": "markdown",
   "metadata": {},
   "source": [
    "## Calling methods\n",
    "\n",
    "Used with . operator.\n",
    "<br>\n",
    "**Accessor** are methods that return info about the object but doesn't change it.\n",
    "**Mutators** change the state of the object.\n",
    "<br>\n",
    "In the example: response.lower().startswith(y), will execute first lower.\n"
   ]
  },
  {
   "cell_type": "markdown",
   "metadata": {},
   "source": [
    "## int Class\n",
    "Example of  literals in binary, octal and hexadecimal are respectively 0b1011, 0o52, and 0x7f.\n",
    "<br>\n",
    "***\n",
    "The integer constructor, int(), returns value 0 by default. But this constructor can be used to construct an integer value based upon an existing value of another type.\n",
    "<br>\n",
    "***\n",
    "<img src=\"class_mutability.png\" />"
   ]
  },
  {
   "cell_type": "code",
   "execution_count": 19,
   "metadata": {
    "tags": []
   },
   "outputs": [
    {
     "output_type": "stream",
     "name": "stdout",
     "text": "49\n8\n"
    }
   ],
   "source": [
    "# Find the index of the maximum element of a list as follows:\n",
    "data = [1,2,3,4,5,49,9,8]\n",
    "big_index = 0\n",
    "for j in range(len(data)):\n",
    "    if data[j] > data[big_index]: \n",
    "        big_index = j\n",
    "print(data[big_index])\n",
    "print(data[j])"
   ]
  },
  {
   "cell_type": "markdown",
   "metadata": {},
   "source": [
    "## Functions\n",
    "\n",
    "Each time a function is called, Python creates a dedicated **activation record** that stores information relevant to the current call. This activation record includes what is known as a **namespace** (see Section 1.10) to manage all identifiers that have local scope within the current call. The namespace includes the function’s parameters and any other identifiers that are defined locally within the body of the function. An identifier in the local scope of the function caller has no relation to any identifier with the same name in the caller’s scope (although identifiers in different scopes may be aliases to the same object). In our first example, the identifier n has scope that is local to the function call, as does the identifier item, which is established as the loop variable."
   ]
  },
  {
   "cell_type": "markdown",
   "metadata": {},
   "source": [
    "## Return Statement\n",
    "A return statement is used within the body of a function to indicate that the function should immediately cease execution, and that an expressed value should be returned to the caller. If a return statement is executed without an explicit argument, the None value is automatically returned. Likewise, None will be returned if the flow of control ever reaches the end of a function body without having executed a return statement. Often, a return statement will be the final command within the body of the function, as was the case in our earlier example of a count function. However, there can be multiple return statements in the same function, with conditional logic controlling which such command is executed, if any."
   ]
  },
  {
   "cell_type": "code",
   "execution_count": 21,
   "metadata": {
    "tags": []
   },
   "outputs": [
    {
     "output_type": "stream",
     "name": "stdout",
     "text": "49\n"
    }
   ],
   "source": [
    "print(max(data))"
   ]
  },
  {
   "cell_type": "markdown",
   "metadata": {},
   "source": [
    "## Built in functions\n",
    "<img src=\"builtin_functions.png\" />"
   ]
  },
  {
   "cell_type": "markdown",
   "metadata": {},
   "source": [
    "## Exception classes\n",
    "<img src=\"exception_classes.png\" />"
   ]
  },
  {
   "cell_type": "code",
   "execution_count": 25,
   "metadata": {
    "tags": []
   },
   "outputs": [
    {
     "output_type": "stream",
     "name": "stdout",
     "text": "Invalid response\nYour age must be positive\n5\n"
    }
   ],
   "source": [
    "age = -1 # an initially invalid choice\n",
    "while age <= 0:\n",
    "    try:\n",
    "        age = int(input('Enter your age in years:'))\n",
    "        if age <= 0:\n",
    "            print('Your age must be positive')\n",
    "    except (ValueError, EOFError):\n",
    "        print('Invalid response')\n",
    "print(age)"
   ]
  },
  {
   "cell_type": "markdown",
   "metadata": {},
   "source": [
    "Page 37"
   ]
  }
 ]
}