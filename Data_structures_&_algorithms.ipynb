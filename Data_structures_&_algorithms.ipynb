{
 "metadata": {
  "language_info": {
   "codemirror_mode": {
    "name": "ipython",
    "version": 3
   },
   "file_extension": ".py",
   "mimetype": "text/x-python",
   "name": "python",
   "nbconvert_exporter": "python",
   "pygments_lexer": "ipython3",
   "version": "3.7.3-final"
  },
  "orig_nbformat": 2,
  "kernelspec": {
   "name": "python37364bit6725783f271a41dc94c7ac156f9995c4",
   "display_name": "Python 3.7.3 64-bit"
  }
 },
 "nbformat": 4,
 "nbformat_minor": 2,
 "cells": [
  {
   "cell_type": "markdown",
   "metadata": {},
   "source": [
    "# DATA STRUCTURES AND ALGORITHMS"
   ]
  },
  {
   "cell_type": "markdown",
   "metadata": {},
   "source": [
    "## Calling methods\n",
    "\n",
    "Used with . operator.\n",
    "<br>\n",
    "**Accessor** are methods that return info about the object but doesn't change it.\n",
    "**Mutators** change the state of the object.\n",
    "<br>\n",
    "In the example: response.lower().startswith(y), will execute first lower.\n"
   ]
  },
  {
   "cell_type": "markdown",
   "metadata": {},
   "source": [
    "## int Class\n",
    "Example of  literals in binary, octal and hexadecimal are respectively 0b1011, 0o52, and 0x7f.\n",
    "<br>\n",
    "***\n",
    "The integer constructor, int(), returns value 0 by default. But this constructor can be used to construct an integer value based upon an existing value of another type.\n",
    "<br>\n",
    "***\n",
    "<img src=\"class_mutability.png\" />"
   ]
  },
  {
   "cell_type": "code",
   "execution_count": 19,
   "metadata": {
    "tags": []
   },
   "outputs": [
    {
     "output_type": "stream",
     "name": "stdout",
     "text": "49\n8\n"
    }
   ],
   "source": [
    "# Find the index of the maximum element of a list as follows:\n",
    "data = [1,2,3,4,5,49,9,8]\n",
    "big_index = 0\n",
    "for j in range(len(data)):\n",
    "    if data[j] > data[big_index]: \n",
    "        big_index = j\n",
    "print(data[big_index])\n",
    "print(data[j])"
   ]
  },
  {
   "cell_type": "markdown",
   "metadata": {},
   "source": [
    "## Functions\n",
    "\n",
    "Each time a function is called, Python creates a dedicated **activation record** that stores information relevant to the current call. This activation record includes what is known as a **namespace** (see Section 1.10) to manage all identifiers that have local scope within the current call. The namespace includes the function’s parameters and any other identifiers that are defined locally within the body of the function. An identifier in the local scope of the function caller has no relation to any identifier with the same name in the caller’s scope (although identifiers in different scopes may be aliases to the same object). In our first example, the identifier n has scope that is local to the function call, as does the identifier item, which is established as the loop variable."
   ]
  },
  {
   "cell_type": "markdown",
   "metadata": {},
   "source": [
    "## Return Statement\n",
    "A return statement is used within the body of a function to indicate that the function should immediately cease execution, and that an expressed value should be returned to the caller. If a return statement is executed without an explicit argument, the None value is automatically returned. Likewise, None will be returned if the flow of control ever reaches the end of a function body without having executed a return statement. Often, a return statement will be the final command within the body of the function, as was the case in our earlier example of a count function. However, there can be multiple return statements in the same function, with conditional logic controlling which such command is executed, if any."
   ]
  },
  {
   "cell_type": "code",
   "execution_count": 21,
   "metadata": {
    "tags": []
   },
   "outputs": [
    {
     "output_type": "stream",
     "name": "stdout",
     "text": "49\n"
    }
   ],
   "source": [
    "print(max(data))"
   ]
  },
  {
   "cell_type": "markdown",
   "metadata": {},
   "source": [
    "## Built in functions\n",
    "<img src=\"builtin_functions.png\" />"
   ]
  },
  {
   "cell_type": "markdown",
   "metadata": {},
   "source": [
    "## Exception classes\n",
    "<img src=\"exception_classes.png\" />"
   ]
  },
  {
   "cell_type": "code",
   "execution_count": 25,
   "metadata": {
    "tags": []
   },
   "outputs": [
    {
     "output_type": "stream",
     "name": "stdout",
     "text": "Invalid response\nYour age must be positive\n5\n"
    }
   ],
   "source": [
    "age = -1 # an initially invalid choice\n",
    "while age <= 0:\n",
    "    try:\n",
    "        age = int(input('Enter your age in years:'))\n",
    "        if age <= 0:\n",
    "            print('Your age must be positive')\n",
    "    except (ValueError, EOFError):\n",
    "        print('Invalid response')\n",
    "print(age)"
   ]
  },
  {
   "cell_type": "markdown",
   "metadata": {},
   "source": [
    "The keyword, pass, is a statement that does nothing, yet it can serve syntactically as a body of a control structure. In this way, we quietly catch the exception, thereby allowing the surrounding while loop to continue."
   ]
  },
  {
   "cell_type": "code",
   "execution_count": null,
   "metadata": {},
   "outputs": [],
   "source": [
    "except (ValueError, EOFError): <br>\n",
    "    pas"
   ]
  },
  {
   "cell_type": "markdown",
   "metadata": {},
   "source": [
    "## Iterators and Generators"
   ]
  },
  {
   "cell_type": "markdown",
   "metadata": {},
   "source": [
    "An **iterator** is an object that manages an iteration through a series of values. If variable, i, identifies an iterator object, then each call to the built-in function, next(i), produces a subsequent element from the underlying series, with a StopIteration exception raised to indicate that there are no further elements. <br>\n",
    "An **iterable** is an object,obj,that produces an iterator via the syntax iter(obj). <br>\n",
    "<br>\n",
    "The for-loop syntax in Python simply automates this process, creating an iterator for the give iterable, and then repeatedly calling for the next element until catching the StopIteration exception. <br>\n",
    "Such a lazy evaluation technique has great advan- tage. In the case of range, it allows a loop of the form, for j in range(1000000):, to execute without setting aside memory for storing one million values.<br>\n",
    "<br>\n",
    "The most convenient technique for creating iterators in Python is through the use of generators. A generator is implemented with a syntax that is very similar to a function, but instead of returning values, a yield statement is executed to indicate each element of the series.<br>\n",
    "<br>\n",
    "The results are only computed if re- quested, and the entire series need not reside in memory at one time. In fact, a generator can effectively produce an infinite series of values."
   ]
  },
  {
   "cell_type": "code",
   "execution_count": 1,
   "metadata": {
    "tags": []
   },
   "outputs": [],
   "source": [
    "def fibonacci():\n",
    "    a=0\n",
    "    b=1\n",
    "    while True:\n",
    "        yield a\n",
    "        future = a + b\n",
    "        a = b\n",
    "        b = future\n",
    "# keep going...\n",
    "# report value, a, during this pass\n",
    "# this will be next value reported # and subsequently this\n",
    "\n",
    "## Infinite loop"
   ]
  },
  {
   "cell_type": "markdown",
   "metadata": {},
   "source": [
    "## Conditional Expressions"
   ]
  },
  {
   "cell_type": "code",
   "execution_count": null,
   "metadata": {},
   "outputs": [],
   "source": [
    "if n >= 0: param = n\n",
    "else:\n",
    "param = −n\n",
    "result = foo(param)\n",
    "\n",
    "# is equivalent to:\n",
    "\n",
    "result = foo(n if n >= 0 else −n)"
   ]
  },
  {
   "cell_type": "markdown",
   "metadata": {},
   "source": [
    "## Comprehension Syntax"
   ]
  },
  {
   "cell_type": "markdown",
   "metadata": {},
   "source": [
    "**List comprehension**, as this was the first form to be supported by Python. Its general form is as follows:<br>\n",
    "expression **for** value **in** iterable **if** condition"
   ]
  },
  {
   "cell_type": "code",
   "execution_count": 9,
   "metadata": {
    "tags": []
   },
   "outputs": [
    {
     "output_type": "stream",
     "name": "stdout",
     "text": "[1, 2, 4, 8]\n"
    }
   ],
   "source": [
    "squares = []\n",
    "n = 8\n",
    "for k in range(1, n+1):\n",
    "    squares.append(k * k)\n",
    "\n",
    "# is equivalent to\n",
    "\n",
    "squares = [k * k for k in range(1, n+1)]\n",
    "\n",
    "# or\n",
    "\n",
    "factors = [k for k in range(1,n+1) if n % k == 0]\n",
    "print(factors)\n"
   ]
  },
  {
   "cell_type": "markdown",
   "metadata": {},
   "source": [
    "#Example of square numbers using comprehensions:<br>\n",
    "\n",
    "<h4>[ k*k for k in range(1, n+1) ]      list comprehension <br>\n",
    "{ k*k for k in range(1, n+1) }      set comprehension <br>\n",
    "( k*k for k in range(1, n+1) )      generator comprehension <br>\n",
    "{ k : k*k for k in range(1, n+1) }  dictionary comprehension <br><h4>"
   ]
  },
  {
   "cell_type": "code",
   "execution_count": 1,
   "metadata": {
    "tags": []
   },
   "outputs": [
    {
     "output_type": "stream",
     "name": "stdout",
     "text": "(1, 2, 3)\n(1, 2, 3)\n"
    }
   ],
   "source": [
    "# automatic packing of a tuple\n",
    "data = 1,2,3\n",
    "print(data)\n",
    "# is equal to\n",
    "data  = (1,2,3)\n",
    "print(data)\n",
    "#or return x, y"
   ]
  },
  {
   "cell_type": "code",
   "execution_count": 3,
   "metadata": {
    "tags": []
   },
   "outputs": [
    {
     "output_type": "stream",
     "name": "stdout",
     "text": "7 8 9 10\n"
    }
   ],
   "source": [
    "#automatic unpack\n",
    "a,b,c,d = range(7,11)\n",
    "print(a,b,c,d)\n",
    "#for x, y in [ (7, 2), (5, 8), (6, 4) ]:\n",
    "#for k, v in mapping.items():\n",
    "#j, k = k, j"
   ]
  },
  {
   "cell_type": "code",
   "execution_count": 35,
   "metadata": {
    "tags": []
   },
   "outputs": [
    {
     "output_type": "stream",
     "name": "stdout",
     "text": "9\n13\n10\n"
    }
   ],
   "source": [
    "for x, y in [ (7, 2), (5, 8), (6, 4) ]:\n",
    "    a = x + y\n",
    "    print(a)"
   ]
  },
  {
   "cell_type": "markdown",
   "metadata": {},
   "source": [
    "## Scopes and Namespaces <br>\n",
    "When an identifier is indicated in a command, Python searches a series of namespaces in the process of name resolution. First, the most locally enclosing scope is searched for a given name. If not found there, the next outer scope is searched, and so on. Each object has its own namespace to store its attributes, and classes each have a namespace as well."
   ]
  },
  {
   "cell_type": "code",
   "execution_count": 40,
   "metadata": {},
   "outputs": [
    {
     "output_type": "execute_result",
     "data": {
      "text/plain": "['In',\n 'Out',\n '_',\n '_37',\n '_38',\n '__',\n '___',\n '__builtin__',\n '__builtins__',\n '__doc__',\n '__loader__',\n '__name__',\n '__package__',\n '__spec__',\n '_dh',\n '_i',\n '_i1',\n '_i10',\n '_i11',\n '_i12',\n '_i13',\n '_i14',\n '_i15',\n '_i16',\n '_i17',\n '_i18',\n '_i19',\n '_i2',\n '_i20',\n '_i21',\n '_i22',\n '_i23',\n '_i24',\n '_i25',\n '_i26',\n '_i27',\n '_i28',\n '_i29',\n '_i3',\n '_i30',\n '_i31',\n '_i32',\n '_i33',\n '_i34',\n '_i35',\n '_i36',\n '_i37',\n '_i38',\n '_i39',\n '_i4',\n '_i40',\n '_i5',\n '_i6',\n '_i7',\n '_i8',\n '_i9',\n '_ih',\n '_ii',\n '_iii',\n '_oh',\n 'a',\n 'b',\n 'c',\n 'd',\n 'data',\n 'exit',\n 'get_ipython',\n 'os',\n 'quit',\n 'sys',\n 'x',\n 'y']"
     },
     "metadata": {},
     "execution_count": 40
    }
   ],
   "source": [
    "#vars()\n",
    "dir()"
   ]
  },
  {
   "cell_type": "markdown",
   "metadata": {},
   "source": [
    "# First-Class Objects <br>\n",
    "**First-class objects** are instances of a type that can be assigned to an identifier, passed as a parameter, or returned by a function. All of the data types , such as int and list, are clearly first-class types in Python. In Python, functions and classes are also treated as first-class objects. For example, we could write the following that demonstrates the mechanism that is used by Python to allow one function to be passed as a parameter to another:"
   ]
  },
  {
   "cell_type": "code",
   "execution_count": 42,
   "metadata": {
    "tags": []
   },
   "outputs": [
    {
     "output_type": "stream",
     "name": "stdout",
     "text": "Hello\n"
    }
   ],
   "source": [
    "scream = print # assign name ’scream’ to the function denoted as ’print’\n",
    "scream('Hello') # call that function"
   ]
  },
  {
   "cell_type": "markdown",
   "metadata": {},
   "source": [
    "## Modules and the import statement"
   ]
  },
  {
   "cell_type": "code",
   "execution_count": 10,
   "metadata": {},
   "outputs": [],
   "source": [
    "# This won't work:\n",
    "from math import pi, sqrt\n",
    "from math import *\n",
    "# This will:\n",
    "import math\n",
    "import random"
   ]
  },
  {
   "cell_type": "code",
   "execution_count": 8,
   "metadata": {},
   "outputs": [
    {
     "output_type": "execute_result",
     "data": {
      "text/plain": "1.4142135623730951"
     },
     "metadata": {},
     "execution_count": 8
    }
   ],
   "source": [
    "#  using a fully-qualified name\n",
    "math.sqrt(2)"
   ]
  },
  {
   "cell_type": "markdown",
   "metadata": {},
   "source": [
    "## Excersises"
   ]
  },
  {
   "cell_type": "markdown",
   "metadata": {},
   "source": [
    "R-1.1 Write a short Python function, is multiple(n, m), that takes two integer values and returns True if n is a multiple of m, that is, n = mi for some integer i, and False otherwise."
   ]
  },
  {
   "cell_type": "code",
   "execution_count": 13,
   "metadata": {},
   "outputs": [],
   "source": [
    "def is_multiple(n, m):\n",
    "    if m % n == 0:\n",
    "        result = True\n",
    "    else:\n",
    "        result = False\n",
    "    return result"
   ]
  },
  {
   "cell_type": "code",
   "execution_count": 15,
   "metadata": {},
   "outputs": [
    {
     "output_type": "execute_result",
     "data": {
      "text/plain": "False"
     },
     "metadata": {},
     "execution_count": 15
    }
   ],
   "source": [
    "is_multiple(2, 9)"
   ]
  },
  {
   "cell_type": "markdown",
   "metadata": {},
   "source": [
    "R-1.2 Write a short Python function, is even(k), that takes an integer value and returns True if k is even, and False otherwise. However, your function cannot use the multiplication, modulo, or division operators."
   ]
  },
  {
   "cell_type": "code",
   "execution_count": 21,
   "metadata": {},
   "outputs": [],
   "source": [
    "def is_even(n):\n",
    "    for o in range(n):\n",
    "        if n > 0:\n",
    "            n = n - 2\n",
    "    if n == 0:\n",
    "        result = True\n",
    "    else:\n",
    "        result = False\n",
    "    return result"
   ]
  },
  {
   "cell_type": "code",
   "execution_count": 24,
   "metadata": {},
   "outputs": [
    {
     "output_type": "execute_result",
     "data": {
      "text/plain": "False"
     },
     "metadata": {},
     "execution_count": 24
    }
   ],
   "source": [
    "is_even(33)"
   ]
  },
  {
   "cell_type": "markdown",
   "metadata": {},
   "source": [
    "R-1.3 Write a short Python function, minmax(data), that takes a sequence of one or more numbers, and returns the smallest and largest numbers, in the form of a tuple of length two. Do not use the built-in functions min or max in implementing your solution."
   ]
  },
  {
   "cell_type": "code",
   "execution_count": 180,
   "metadata": {},
   "outputs": [],
   "source": [
    "def minmax(data):\n",
    "    mx = data[0]\n",
    "    mn = data[0]\n",
    "    for n in range(len(data)):\n",
    "        if data[n] >= mx:\n",
    "            mx = data[n]\n",
    "        elif mn > data[n]:\n",
    "            mn = data[n]\n",
    "    return mn, mx"
   ]
  },
  {
   "cell_type": "code",
   "execution_count": 181,
   "metadata": {
    "tags": []
   },
   "outputs": [
    {
     "output_type": "stream",
     "name": "stdout",
     "text": "[12, 13, 33, 15, 35, 30, 11]\n"
    },
    {
     "output_type": "execute_result",
     "data": {
      "text/plain": "(11, 35)"
     },
     "metadata": {},
     "execution_count": 181
    }
   ],
   "source": [
    "import random\n",
    "list = []\n",
    "list = [random.randrange(1, 40, 1) for i in range(7)] \n",
    "print(list)\n",
    "minmax(list)"
   ]
  },
  {
   "cell_type": "markdown",
   "metadata": {},
   "source": [
    "R-1.4 Write a short Python function that takes a positive integer n and returns the sum of the squares of all the positive integers smaller than n."
   ]
  },
  {
   "cell_type": "code",
   "execution_count": 57,
   "metadata": {},
   "outputs": [],
   "source": [
    "def sumsqr(n):\n",
    "    a = 0\n",
    "    data = list(range(n))\n",
    "    for o in range(n):\n",
    "        a = a + data[o] ** 2\n",
    "    return a"
   ]
  },
  {
   "cell_type": "code",
   "execution_count": 58,
   "metadata": {
    "tags": []
   },
   "outputs": [
    {
     "output_type": "execute_result",
     "data": {
      "text/plain": "140"
     },
     "metadata": {},
     "execution_count": 58
    }
   ],
   "source": [
    "sumsqr(8)"
   ]
  },
  {
   "cell_type": "markdown",
   "metadata": {},
   "source": [
    "R-1.5 Give a single command that computes the sum from Exercise R-1.4, rely- ing on Python’s comprehension syntax and the built-in sum function."
   ]
  },
  {
   "cell_type": "code",
   "execution_count": 9,
   "metadata": {},
   "outputs": [
    {
     "output_type": "execute_result",
     "data": {
      "text/plain": "140"
     },
     "metadata": {},
     "execution_count": 9
    }
   ],
   "source": [
    "n = 8\n",
    "data = list(range(n))\n",
    "sumsqr = sum([ +data[o] ** 2 for o in range(n)])\n",
    "sumsqr"
   ]
  },
  {
   "cell_type": "markdown",
   "metadata": {},
   "source": [
    "\n",
    "R-1.6 Write a short Python function that takes a positive integer n and returns the sum of the squares of all the odd positive integers smaller than n.\n",
    "R-1.7 Give a single command that computes the sum from Exercise R-1.6, relying on Python’s comprehension syntax and the built-in sum function."
   ]
  },
  {
   "cell_type": "code",
   "execution_count": 34,
   "metadata": {
    "tags": []
   },
   "outputs": [
    {
     "output_type": "execute_result",
     "data": {
      "text/plain": "10"
     },
     "metadata": {},
     "execution_count": 34
    }
   ],
   "source": [
    "def sum_square(n):\n",
    "    return sum([pow(x,2) for x in range(1, n, 2)]) if n > 0 else False\n",
    "\n",
    "sum_square(5)    "
   ]
  },
  {
   "cell_type": "markdown",
   "metadata": {},
   "source": [
    "R-1.8 Python allows negative integers to be used as indices into a sequence, such as a string. If string s has length n, and expression s[k] is used for in- dex −n ≤ k < 0, what is the equivalent index j ≥ 0 such that s[j] references the same element?"
   ]
  },
  {
   "cell_type": "code",
   "execution_count": null,
   "metadata": {},
   "outputs": [],
   "source": [
    " j = n - k"
   ]
  },
  {
   "cell_type": "markdown",
   "metadata": {},
   "source": [
    "R-1.9 What parameters should be sent to the range constructor, to produce a range with values 50, 60, 70, 80?"
   ]
  },
  {
   "cell_type": "code",
   "execution_count": 5,
   "metadata": {},
   "outputs": [
    {
     "output_type": "execute_result",
     "data": {
      "text/plain": "[50, 60, 70, 80]"
     },
     "metadata": {},
     "execution_count": 5
    }
   ],
   "source": [
    "r = range(50, 81, 10)\n",
    "list(r)"
   ]
  },
  {
   "cell_type": "markdown",
   "metadata": {},
   "source": [
    "R-1.10 What parameters should be sent to the range constructor, to produce a range with values 8, 6, 4, 2, 0, −2, −4, −6, −8"
   ]
  },
  {
   "cell_type": "code",
   "execution_count": 6,
   "metadata": {},
   "outputs": [
    {
     "output_type": "execute_result",
     "data": {
      "text/plain": "[-8, -6, -4, -2, 0, 2, 4, 6, 8]"
     },
     "metadata": {},
     "execution_count": 6
    }
   ],
   "source": [
    "r = range(-8, 9, 2)\n",
    "list(r)"
   ]
  },
  {
   "cell_type": "markdown",
   "metadata": {},
   "source": [
    "R-1.11 Demonstrate how to use Python’s list comprehension syntax to produce the list [1, 2, 4, 8, 16, 32, 64, 128, 256]"
   ]
  },
  {
   "cell_type": "code",
   "execution_count": 7,
   "metadata": {},
   "outputs": [
    {
     "output_type": "execute_result",
     "data": {
      "text/plain": "[2, 4, 8, 16, 32, 64, 128, 256]"
     },
     "metadata": {},
     "execution_count": 7
    }
   ],
   "source": [
    "[pow(2, x) for x in range(1, 9, 1)]\n"
   ]
  },
  {
   "cell_type": "markdown",
   "metadata": {},
   "source": [
    "R-1.12 Python’s random module includes a function choice(data) that returns a random element from a non-empty sequence. The random module includes a more basic function randrange, with parameterization similar to the built-in range function, that return a random choice from the given range. Using only the randrange function, implement your own version of the choice function."
   ]
  },
  {
   "cell_type": "code",
   "execution_count": 11,
   "metadata": {},
   "outputs": [
    {
     "output_type": "execute_result",
     "data": {
      "text/plain": "64"
     },
     "metadata": {},
     "execution_count": 11
    }
   ],
   "source": [
    "list = [2, 4, 8, 16, 32, 64, 128, 256]\n",
    "random.choice(list)"
   ]
  },
  {
   "cell_type": "code",
   "execution_count": 24,
   "metadata": {},
   "outputs": [
    {
     "output_type": "execute_result",
     "data": {
      "text/plain": "[1, 2]"
     },
     "metadata": {},
     "execution_count": 24
    }
   ],
   "source": [
    "[*range(1,3)]\n"
   ]
  },
  {
   "cell_type": "code",
   "execution_count": 28,
   "metadata": {},
   "outputs": [
    {
     "output_type": "execute_result",
     "data": {
      "text/plain": "1"
     },
     "metadata": {},
     "execution_count": 28
    }
   ],
   "source": [
    "random.randint(0, 8)"
   ]
  }
 ]
}