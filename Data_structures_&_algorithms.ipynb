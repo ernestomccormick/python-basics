{
 "metadata": {
  "language_info": {
   "codemirror_mode": {
    "name": "ipython",
    "version": 3
   },
   "file_extension": ".py",
   "mimetype": "text/x-python",
   "name": "python",
   "nbconvert_exporter": "python",
   "pygments_lexer": "ipython3",
   "version": "3.7.3-final"
  },
  "orig_nbformat": 2,
  "kernelspec": {
   "name": "python37364bit6725783f271a41dc94c7ac156f9995c4",
   "display_name": "Python 3.7.3 64-bit"
  }
 },
 "nbformat": 4,
 "nbformat_minor": 2,
 "cells": [
  {
   "cell_type": "markdown",
   "metadata": {},
   "source": [
    "# DATA STRUCTURES AND ALGORITHMS"
   ]
  },
  {
   "cell_type": "markdown",
   "metadata": {},
   "source": [
    "## Calling methods\n",
    "\n",
    "Used with . operator.\n",
    "<br>\n",
    "**Accessor** are methods that return info about the object but doesn't change it.\n",
    "**Mutators** change the state of the object.\n",
    "<br>\n",
    "In the example: response.lower().startswith(y), will execute first lower.\n"
   ]
  },
  {
   "cell_type": "markdown",
   "metadata": {},
   "source": [
    "## int Class\n",
    "Example of  literals in binary, octal and hexadecimal are respectively 0b1011, 0o52, and 0x7f.\n",
    "<br>\n",
    "***\n",
    "The integer constructor, int(), returns value 0 by default. But this constructor can be used to construct an integer value based upon an existing value of another type.\n",
    "<br>\n",
    "***\n",
    "<img src=\"class_mutability.png\" />"
   ]
  },
  {
   "cell_type": "code",
   "execution_count": 19,
   "metadata": {
    "tags": []
   },
   "outputs": [
    {
     "output_type": "stream",
     "name": "stdout",
     "text": "49\n8\n"
    }
   ],
   "source": [
    "# Find the index of the maximum element of a list as follows:\n",
    "data = [1,2,3,4,5,49,9,8]\n",
    "big_index = 0\n",
    "for j in range(len(data)):\n",
    "    if data[j] > data[big_index]: \n",
    "        big_index = j\n",
    "print(data[big_index])\n",
    "print(data[j])"
   ]
  },
  {
   "cell_type": "markdown",
   "metadata": {},
   "source": [
    "## Functions\n",
    "\n",
    "Each time a function is called, Python creates a dedicated **activation record** that stores information relevant to the current call. This activation record includes what is known as a **namespace** (see Section 1.10) to manage all identifiers that have local scope within the current call. The namespace includes the function’s parameters and any other identifiers that are defined locally within the body of the function. An identifier in the local scope of the function caller has no relation to any identifier with the same name in the caller’s scope (although identifiers in different scopes may be aliases to the same object). In our first example, the identifier n has scope that is local to the function call, as does the identifier item, which is established as the loop variable."
   ]
  },
  {
   "cell_type": "markdown",
   "metadata": {},
   "source": [
    "## Return Statement\n",
    "A return statement is used within the body of a function to indicate that the function should immediately cease execution, and that an expressed value should be returned to the caller. If a return statement is executed without an explicit argument, the None value is automatically returned. Likewise, None will be returned if the flow of control ever reaches the end of a function body without having executed a return statement. Often, a return statement will be the final command within the body of the function, as was the case in our earlier example of a count function. However, there can be multiple return statements in the same function, with conditional logic controlling which such command is executed, if any."
   ]
  },
  {
   "cell_type": "code",
   "execution_count": 21,
   "metadata": {
    "tags": []
   },
   "outputs": [
    {
     "output_type": "stream",
     "name": "stdout",
     "text": "49\n"
    }
   ],
   "source": [
    "print(max(data))"
   ]
  },
  {
   "cell_type": "markdown",
   "metadata": {},
   "source": [
    "## Built in functions\n",
    "<img src=\"builtin_functions.png\" />"
   ]
  },
  {
   "cell_type": "markdown",
   "metadata": {},
   "source": [
    "## Exception classes\n",
    "<img src=\"exception_classes.png\" />"
   ]
  },
  {
   "cell_type": "code",
   "execution_count": 25,
   "metadata": {
    "tags": []
   },
   "outputs": [
    {
     "output_type": "stream",
     "name": "stdout",
     "text": "Invalid response\nYour age must be positive\n5\n"
    }
   ],
   "source": [
    "age = -1 # an initially invalid choice\n",
    "while age <= 0:\n",
    "    try:\n",
    "        age = int(input('Enter your age in years:'))\n",
    "        if age <= 0:\n",
    "            print('Your age must be positive')\n",
    "    except (ValueError, EOFError):\n",
    "        print('Invalid response')\n",
    "print(age)"
   ]
  },
  {
   "cell_type": "markdown",
   "metadata": {},
   "source": [
    "The keyword, pass, is a statement that does nothing, yet it can serve syntactically as a body of a control structure. In this way, we quietly catch the exception, thereby allowing the surrounding while loop to continue."
   ]
  },
  {
   "cell_type": "code",
   "execution_count": null,
   "metadata": {},
   "outputs": [],
   "source": [
    "except (ValueError, EOFError): <br>\n",
    "    pas"
   ]
  },
  {
   "cell_type": "markdown",
   "metadata": {},
   "source": [
    "## Iterators and Generators"
   ]
  },
  {
   "cell_type": "markdown",
   "metadata": {},
   "source": [
    "An **iterator** is an object that manages an iteration through a series of values. If variable, i, identifies an iterator object, then each call to the built-in function, next(i), produces a subsequent element from the underlying series, with a StopIteration exception raised to indicate that there are no further elements. <br>\n",
    "An **iterable** is an object,obj,that produces an iterator via the syntax iter(obj). <br>\n",
    "<br>\n",
    "The for-loop syntax in Python simply automates this process, creating an iterator for the give iterable, and then repeatedly calling for the next element until catching the StopIteration exception. <br>\n",
    "Such a lazy evaluation technique has great advan- tage. In the case of range, it allows a loop of the form, for j in range(1000000):, to execute without setting aside memory for storing one million values.<br>\n",
    "<br>\n",
    "The most convenient technique for creating iterators in Python is through the use of generators. A generator is implemented with a syntax that is very similar to a function, but instead of returning values, a yield statement is executed to indicate each element of the series.<br>\n",
    "<br>\n",
    "The results are only computed if re- quested, and the entire series need not reside in memory at one time. In fact, a generator can effectively produce an infinite series of values."
   ]
  },
  {
   "cell_type": "code",
   "execution_count": 1,
   "metadata": {
    "tags": []
   },
   "outputs": [],
   "source": [
    "def fibonacci():\n",
    "    a=0\n",
    "    b=1\n",
    "    while True:\n",
    "        yield a\n",
    "        future = a + b\n",
    "        a = b\n",
    "        b = future\n",
    "# keep going...\n",
    "# report value, a, during this pass\n",
    "# this will be next value reported # and subsequently this\n",
    "\n",
    "## Infinite loop"
   ]
  },
  {
   "cell_type": "markdown",
   "metadata": {},
   "source": [
    "## Conditional Expressions"
   ]
  },
  {
   "cell_type": "code",
   "execution_count": null,
   "metadata": {},
   "outputs": [],
   "source": [
    "if n >= 0: param = n\n",
    "else:\n",
    "param = −n\n",
    "result = foo(param)\n",
    "\n",
    "# is equivalent to:\n",
    "\n",
    "result = foo(n if n >= 0 else −n)"
   ]
  },
  {
   "cell_type": "markdown",
   "metadata": {},
   "source": [
    "## Comprehension Syntax"
   ]
  },
  {
   "cell_type": "markdown",
   "metadata": {},
   "source": [
    "**List comprehension**, as this was the first form to be supported by Python. Its general form is as follows:<br>\n",
    "expression **for** value **in** iterable **if** condition"
   ]
  },
  {
   "cell_type": "code",
   "execution_count": 9,
   "metadata": {
    "tags": []
   },
   "outputs": [
    {
     "output_type": "stream",
     "name": "stdout",
     "text": "[1, 2, 4, 8]\n"
    }
   ],
   "source": [
    "squares = []\n",
    "n = 8\n",
    "for k in range(1, n+1):\n",
    "    squares.append(k * k)\n",
    "\n",
    "# is equivalent to\n",
    "\n",
    "squares = [k * k for k in range(1, n+1)]\n",
    "\n",
    "# or\n",
    "\n",
    "factors = [k for k in range(1,n+1) if n % k == 0]\n",
    "print(factors)\n"
   ]
  },
  {
   "cell_type": "markdown",
   "metadata": {},
   "source": [
    "<h4>[ k k for k in range(1, n+1) ]      list comprehension <br>\n",
    "{ k k for k in range(1, n+1) }      set comprehension <br>\n",
    "( k k for k in range(1, n+1) )      generator comprehension <br>\n",
    "{ k : k k for k in range(1, n+1) }  dictionary comprehension <br><h4>"
   ]
  },
  {
   "cell_type": "code",
   "execution_count": null,
   "metadata": {},
   "outputs": [],
   "source": []
  }
 ]
}