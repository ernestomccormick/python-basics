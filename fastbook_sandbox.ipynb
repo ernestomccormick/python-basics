{
 "metadata": {
  "language_info": {
   "codemirror_mode": {
    "name": "ipython",
    "version": 3
   },
   "file_extension": ".py",
   "mimetype": "text/x-python",
   "name": "python",
   "nbconvert_exporter": "python",
   "pygments_lexer": "ipython3",
   "version": "3.8.5-final"
  },
  "orig_nbformat": 2,
  "kernelspec": {
   "name": "python38564bit385pyenv716bf48c25a24f4098a81d07474e7664",
   "display_name": "Python 3.8.5 64-bit ('3.8.5': pyenv)"
  }
 },
 "nbformat": 4,
 "nbformat_minor": 2,
 "cells": [
  {
   "cell_type": "markdown",
   "metadata": {},
   "source": [
    "## Fastbook Sandbox"
   ]
  },
  {
   "cell_type": "code",
   "execution_count": 1,
   "metadata": {
    "tags": []
   },
   "outputs": [],
   "source": [
    "import torch\n",
    "from fastai.vision.all import *\n",
    "from fastbook import *\n",
    "import matplotlib.pyplot as plt\n",
    "import numpy as np"
   ]
  },
  {
   "cell_type": "code",
   "execution_count": 2,
   "metadata": {
    "tags": []
   },
   "outputs": [
    {
     "output_type": "stream",
     "name": "stdout",
     "text": "torch.Size([2, 2, 2])\ntorch.Size([2, 2, 2])\n"
    },
    {
     "output_type": "execute_result",
     "data": {
      "text/plain": "tensor([[[-0.9408, -0.1332],\n         [-0.9346, -0.5936]],\n\n        [[-0.8694, -0.5677],\n         [-0.7411, -0.4294]]])"
     },
     "metadata": {},
     "execution_count": 2
    }
   ],
   "source": [
    "\n",
    "ex = torch.rand(2, 2, 2)* 0.5\n",
    "ax = torch.rand(2, 2, 2)* -1\n",
    "print(ex.shape)\n",
    "print(ax.shape)\n",
    "ax"
   ]
  },
  {
   "cell_type": "code",
   "execution_count": 3,
   "metadata": {},
   "outputs": [
    {
     "output_type": "execute_result",
     "data": {
      "text/plain": "tensor(0.9750)"
     },
     "metadata": {},
     "execution_count": 3
    }
   ],
   "source": [
    "def mnist_distance(a,b): return (b-a).abs().mean()\n",
    "mnist_distance(ex, ax)"
   ]
  },
  {
   "cell_type": "markdown",
   "metadata": {},
   "source": [
    "## Pytorch can derivate any function in any point"
   ]
  },
  {
   "cell_type": "code",
   "execution_count": 4,
   "metadata": {},
   "outputs": [],
   "source": [
    "xt = torch.tensor(3.).requires_grad_()"
   ]
  },
  {
   "cell_type": "code",
   "execution_count": 5,
   "metadata": {},
   "outputs": [
    {
     "output_type": "execute_result",
     "data": {
      "text/plain": "tensor(9., grad_fn=<PowBackward0>)"
     },
     "metadata": {},
     "execution_count": 5
    }
   ],
   "source": [
    "def f(x): return x**2\n",
    "yt = f(xt)\n",
    "yt"
   ]
  },
  {
   "cell_type": "code",
   "execution_count": 6,
   "metadata": {},
   "outputs": [],
   "source": [
    "yt.backward()"
   ]
  },
  {
   "cell_type": "code",
   "execution_count": 7,
   "metadata": {},
   "outputs": [
    {
     "output_type": "execute_result",
     "data": {
      "text/plain": "tensor(6.)"
     },
     "metadata": {},
     "execution_count": 7
    }
   ],
   "source": [
    "xt.grad"
   ]
  },
  {
   "cell_type": "code",
   "execution_count": 8,
   "metadata": {},
   "outputs": [
    {
     "output_type": "execute_result",
     "data": {
      "text/plain": "tensor([ 3.,  4., 10.], requires_grad=True)"
     },
     "metadata": {},
     "execution_count": 8
    }
   ],
   "source": [
    "xt = torch.tensor([3.,4.,10.]).requires_grad_()\n",
    "xt"
   ]
  },
  {
   "cell_type": "code",
   "execution_count": 9,
   "metadata": {},
   "outputs": [
    {
     "output_type": "execute_result",
     "data": {
      "text/plain": "tensor(125., grad_fn=<SumBackward0>)"
     },
     "metadata": {},
     "execution_count": 9
    }
   ],
   "source": [
    "def f(x): return (x**2).sum()\n",
    "yt = f(xt)\n",
    "yt"
   ]
  },
  {
   "cell_type": "code",
   "execution_count": 10,
   "metadata": {},
   "outputs": [
    {
     "output_type": "execute_result",
     "data": {
      "text/plain": "tensor([ 6.,  8., 20.])"
     },
     "metadata": {},
     "execution_count": 10
    }
   ],
   "source": [
    "yt.backward()\n",
    "xt.grad"
   ]
  },
  {
   "cell_type": "markdown",
   "metadata": {},
   "source": [
    "## SDG quadratic example\n",
    "This is a example of the speed of a roller coaster:\n",
    " ```python\n",
    " speed = f(t)\n",
    " ```\n",
    " We are going to need a tensor for the **time** and another for the **speed**."
   ]
  },
  {
   "cell_type": "code",
   "execution_count": 19,
   "metadata": {},
   "outputs": [
    {
     "output_type": "execute_result",
     "data": {
      "text/plain": "tensor([ 0.,  1.,  2.,  3.,  4.,  5.,  6.,  7.,  8.,  9., 10., 11., 12., 13., 14., 15., 16., 17., 18., 19.])"
     },
     "metadata": {},
     "execution_count": 19
    }
   ],
   "source": [
    "# This is the time:\n",
    "time = torch.arange(0,20).float(); time"
   ]
  },
  {
   "cell_type": "code",
   "execution_count": 20,
   "metadata": {},
   "outputs": [
    {
     "output_type": "execute_result",
     "data": {
      "text/plain": "tensor([ 5.7807,  4.4619,  2.7022, -6.3166, -2.2744,  3.2350,  2.4024,  5.0419,  1.0676, -2.0599, -1.4801,  0.7245, -0.6949,  0.1253, -0.7547,  2.5796, -0.9292, -1.1871,  2.4102, -1.8648])"
     },
     "metadata": {},
     "execution_count": 20
    }
   ],
   "source": [
    "# torch.randn(*size, out=None, dtype=None, layout=torch.strided, device=None, requires_grad=False) → Tensor\n",
    "# Returns a tensor filled with random numbers from a normal distribution with mean 0 and variance 1 (also called the standard normal distribution).\n",
    "torch.randn(20)*3"
   ]
  },
  {
   "cell_type": "code",
   "execution_count": 21,
   "metadata": {},
   "outputs": [
    {
     "output_type": "execute_result",
     "data": {
      "text/plain": "tensor([69.6441, 53.9139, 44.1047, 30.3637, 21.1761, 13.4203, 15.6215,  6.1692,  3.7892,  1.7137,  5.3430,  1.3499,  2.0802, 12.3109, 12.9598, 25.2945, 36.2136, 44.8710, 53.8293, 66.3722])"
     },
     "metadata": {},
     "execution_count": 21
    }
   ],
   "source": [
    "# This is the speed as a function of the time:\n",
    "speed = torch.randn(20)*3 + 0.75*(time-9.5)**2 + 1\n",
    "speed"
   ]
  },
  {
   "cell_type": "code",
   "execution_count": 22,
   "metadata": {},
   "outputs": [
    {
     "output_type": "display_data",
     "data": {
      "text/plain": "<Figure size 432x288 with 1 Axes>",
      "image/svg+xml": "<?xml version=\"1.0\" encoding=\"utf-8\" standalone=\"no\"?>\n<!DOCTYPE svg PUBLIC \"-//W3C//DTD SVG 1.1//EN\"\n  \"http://www.w3.org/Graphics/SVG/1.1/DTD/svg11.dtd\">\n<!-- Created with matplotlib (https://matplotlib.org/) -->\n<svg height=\"250.45375pt\" version=\"1.1\" viewBox=\"0 0 371.47 250.45375\" width=\"371.47pt\" xmlns=\"http://www.w3.org/2000/svg\" xmlns:xlink=\"http://www.w3.org/1999/xlink\">\n <metadata>\n  <rdf:RDF xmlns:cc=\"http://creativecommons.org/ns#\" xmlns:dc=\"http://purl.org/dc/elements/1.1/\" xmlns:rdf=\"http://www.w3.org/1999/02/22-rdf-syntax-ns#\">\n   <cc:Work>\n    <dc:type rdf:resource=\"http://purl.org/dc/dcmitype/StillImage\"/>\n    <dc:date>2020-09-11T09:47:46.161334</dc:date>\n    <dc:format>image/svg+xml</dc:format>\n    <dc:creator>\n     <cc:Agent>\n      <dc:title>Matplotlib v3.3.0, https://matplotlib.org/</dc:title>\n     </cc:Agent>\n    </dc:creator>\n   </cc:Work>\n  </rdf:RDF>\n </metadata>\n <defs>\n  <style type=\"text/css\">*{stroke-linecap:butt;stroke-linejoin:round;}</style>\n </defs>\n <g id=\"figure_1\">\n  <g id=\"patch_1\">\n   <path d=\"M 0 250.45375 \nL 371.47 250.45375 \nL 371.47 0 \nL 0 0 \nz\n\" style=\"fill:none;\"/>\n  </g>\n  <g id=\"axes_1\">\n   <g id=\"patch_2\">\n    <path d=\"M 29.47 224.64 \nL 364.27 224.64 \nL 364.27 7.2 \nL 29.47 7.2 \nz\n\" style=\"fill:#ffffff;\"/>\n   </g>\n   <g id=\"PathCollection_1\">\n    <defs>\n     <path d=\"M 0 3 \nC 0.795609 3 1.55874 2.683901 2.12132 2.12132 \nC 2.683901 1.55874 3 0.795609 3 0 \nC 3 -0.795609 2.683901 -1.55874 2.12132 -2.12132 \nC 1.55874 -2.683901 0.795609 -3 0 -3 \nC -0.795609 -3 -1.55874 -2.683901 -2.12132 -2.12132 \nC -2.683901 -1.55874 -3 -0.795609 -3 0 \nC -3 0.795609 -2.683901 1.55874 -2.12132 2.12132 \nC -1.55874 2.683901 -0.795609 3 0 3 \nz\n\" id=\"m229ae9f8e9\" style=\"stroke:#1f77b4;\"/>\n    </defs>\n    <g clip-path=\"url(#p1e55736dd5)\">\n     <use style=\"fill:#1f77b4;stroke:#1f77b4;\" x=\"44.688182\" xlink:href=\"#m229ae9f8e9\" y=\"17.083636\"/>\n     <use style=\"fill:#1f77b4;stroke:#1f77b4;\" x=\"60.707321\" xlink:href=\"#m229ae9f8e9\" y=\"62.613582\"/>\n     <use style=\"fill:#1f77b4;stroke:#1f77b4;\" x=\"76.726459\" xlink:href=\"#m229ae9f8e9\" y=\"91.00585\"/>\n     <use style=\"fill:#1f77b4;stroke:#1f77b4;\" x=\"92.745598\" xlink:href=\"#m229ae9f8e9\" y=\"130.778035\"/>\n     <use style=\"fill:#1f77b4;stroke:#1f77b4;\" x=\"108.764737\" xlink:href=\"#m229ae9f8e9\" y=\"157.37088\"/>\n     <use style=\"fill:#1f77b4;stroke:#1f77b4;\" x=\"124.783876\" xlink:href=\"#m229ae9f8e9\" y=\"179.819485\"/>\n     <use style=\"fill:#1f77b4;stroke:#1f77b4;\" x=\"140.803014\" xlink:href=\"#m229ae9f8e9\" y=\"173.448489\"/>\n     <use style=\"fill:#1f77b4;stroke:#1f77b4;\" x=\"156.822153\" xlink:href=\"#m229ae9f8e9\" y=\"200.807383\"/>\n     <use style=\"fill:#1f77b4;stroke:#1f77b4;\" x=\"172.841292\" xlink:href=\"#m229ae9f8e9\" y=\"207.695976\"/>\n     <use style=\"fill:#1f77b4;stroke:#1f77b4;\" x=\"188.860431\" xlink:href=\"#m229ae9f8e9\" y=\"213.703404\"/>\n     <use style=\"fill:#1f77b4;stroke:#1f77b4;\" x=\"204.879569\" xlink:href=\"#m229ae9f8e9\" y=\"203.198798\"/>\n     <use style=\"fill:#1f77b4;stroke:#1f77b4;\" x=\"220.898708\" xlink:href=\"#m229ae9f8e9\" y=\"214.756364\"/>\n     <use style=\"fill:#1f77b4;stroke:#1f77b4;\" x=\"236.917847\" xlink:href=\"#m229ae9f8e9\" y=\"212.642796\"/>\n     <use style=\"fill:#1f77b4;stroke:#1f77b4;\" x=\"252.936986\" xlink:href=\"#m229ae9f8e9\" y=\"183.030545\"/>\n     <use style=\"fill:#1f77b4;stroke:#1f77b4;\" x=\"268.956124\" xlink:href=\"#m229ae9f8e9\" y=\"181.152333\"/>\n     <use style=\"fill:#1f77b4;stroke:#1f77b4;\" x=\"284.975263\" xlink:href=\"#m229ae9f8e9\" y=\"145.450643\"/>\n     <use style=\"fill:#1f77b4;stroke:#1f77b4;\" x=\"300.994402\" xlink:href=\"#m229ae9f8e9\" y=\"113.845965\"/>\n     <use style=\"fill:#1f77b4;stroke:#1f77b4;\" x=\"317.013541\" xlink:href=\"#m229ae9f8e9\" y=\"88.787683\"/>\n     <use style=\"fill:#1f77b4;stroke:#1f77b4;\" x=\"333.032679\" xlink:href=\"#m229ae9f8e9\" y=\"62.858711\"/>\n     <use style=\"fill:#1f77b4;stroke:#1f77b4;\" x=\"349.051818\" xlink:href=\"#m229ae9f8e9\" y=\"26.55413\"/>\n    </g>\n   </g>\n   <g id=\"matplotlib.axis_1\">\n    <g id=\"xtick_1\">\n     <g id=\"line2d_1\">\n      <defs>\n       <path d=\"M 0 0 \nL 0 3.5 \n\" id=\"md386261ecb\" style=\"stroke:#000000;stroke-width:0.8;\"/>\n      </defs>\n      <g>\n       <use style=\"stroke:#000000;stroke-width:0.8;\" x=\"44.688182\" xlink:href=\"#md386261ecb\" y=\"224.64\"/>\n      </g>\n     </g>\n     <g id=\"text_1\">\n      <!-- 0.0 -->\n      <g transform=\"translate(35.146307 240.758125)scale(0.12 -0.12)\">\n       <defs>\n        <path d=\"M 31.78125 66.40625 \nQ 24.171875 66.40625 20.328125 58.90625 \nQ 16.5 51.421875 16.5 36.375 \nQ 16.5 21.390625 20.328125 13.890625 \nQ 24.171875 6.390625 31.78125 6.390625 \nQ 39.453125 6.390625 43.28125 13.890625 \nQ 47.125 21.390625 47.125 36.375 \nQ 47.125 51.421875 43.28125 58.90625 \nQ 39.453125 66.40625 31.78125 66.40625 \nz\nM 31.78125 74.21875 \nQ 44.046875 74.21875 50.515625 64.515625 \nQ 56.984375 54.828125 56.984375 36.375 \nQ 56.984375 17.96875 50.515625 8.265625 \nQ 44.046875 -1.421875 31.78125 -1.421875 \nQ 19.53125 -1.421875 13.0625 8.265625 \nQ 6.59375 17.96875 6.59375 36.375 \nQ 6.59375 54.828125 13.0625 64.515625 \nQ 19.53125 74.21875 31.78125 74.21875 \nz\n\" id=\"DejaVuSans-48\"/>\n        <path d=\"M 10.6875 12.40625 \nL 21 12.40625 \nL 21 0 \nL 10.6875 0 \nz\n\" id=\"DejaVuSans-46\"/>\n       </defs>\n       <use xlink:href=\"#DejaVuSans-48\"/>\n       <use x=\"63.623047\" xlink:href=\"#DejaVuSans-46\"/>\n       <use x=\"95.410156\" xlink:href=\"#DejaVuSans-48\"/>\n      </g>\n     </g>\n    </g>\n    <g id=\"xtick_2\">\n     <g id=\"line2d_2\">\n      <g>\n       <use style=\"stroke:#000000;stroke-width:0.8;\" x=\"84.736029\" xlink:href=\"#md386261ecb\" y=\"224.64\"/>\n      </g>\n     </g>\n     <g id=\"text_2\">\n      <!-- 2.5 -->\n      <g transform=\"translate(75.194154 240.758125)scale(0.12 -0.12)\">\n       <defs>\n        <path d=\"M 19.1875 8.296875 \nL 53.609375 8.296875 \nL 53.609375 0 \nL 7.328125 0 \nL 7.328125 8.296875 \nQ 12.9375 14.109375 22.625 23.890625 \nQ 32.328125 33.6875 34.8125 36.53125 \nQ 39.546875 41.84375 41.421875 45.53125 \nQ 43.3125 49.21875 43.3125 52.78125 \nQ 43.3125 58.59375 39.234375 62.25 \nQ 35.15625 65.921875 28.609375 65.921875 \nQ 23.96875 65.921875 18.8125 64.3125 \nQ 13.671875 62.703125 7.8125 59.421875 \nL 7.8125 69.390625 \nQ 13.765625 71.78125 18.9375 73 \nQ 24.125 74.21875 28.421875 74.21875 \nQ 39.75 74.21875 46.484375 68.546875 \nQ 53.21875 62.890625 53.21875 53.421875 \nQ 53.21875 48.921875 51.53125 44.890625 \nQ 49.859375 40.875 45.40625 35.40625 \nQ 44.1875 33.984375 37.640625 27.21875 \nQ 31.109375 20.453125 19.1875 8.296875 \nz\n\" id=\"DejaVuSans-50\"/>\n        <path d=\"M 10.796875 72.90625 \nL 49.515625 72.90625 \nL 49.515625 64.59375 \nL 19.828125 64.59375 \nL 19.828125 46.734375 \nQ 21.96875 47.46875 24.109375 47.828125 \nQ 26.265625 48.1875 28.421875 48.1875 \nQ 40.625 48.1875 47.75 41.5 \nQ 54.890625 34.8125 54.890625 23.390625 \nQ 54.890625 11.625 47.5625 5.09375 \nQ 40.234375 -1.421875 26.90625 -1.421875 \nQ 22.3125 -1.421875 17.546875 -0.640625 \nQ 12.796875 0.140625 7.71875 1.703125 \nL 7.71875 11.625 \nQ 12.109375 9.234375 16.796875 8.0625 \nQ 21.484375 6.890625 26.703125 6.890625 \nQ 35.15625 6.890625 40.078125 11.328125 \nQ 45.015625 15.765625 45.015625 23.390625 \nQ 45.015625 31 40.078125 35.4375 \nQ 35.15625 39.890625 26.703125 39.890625 \nQ 22.75 39.890625 18.8125 39.015625 \nQ 14.890625 38.140625 10.796875 36.28125 \nz\n\" id=\"DejaVuSans-53\"/>\n       </defs>\n       <use xlink:href=\"#DejaVuSans-50\"/>\n       <use x=\"63.623047\" xlink:href=\"#DejaVuSans-46\"/>\n       <use x=\"95.410156\" xlink:href=\"#DejaVuSans-53\"/>\n      </g>\n     </g>\n    </g>\n    <g id=\"xtick_3\">\n     <g id=\"line2d_3\">\n      <g>\n       <use style=\"stroke:#000000;stroke-width:0.8;\" x=\"124.783876\" xlink:href=\"#md386261ecb\" y=\"224.64\"/>\n      </g>\n     </g>\n     <g id=\"text_3\">\n      <!-- 5.0 -->\n      <g transform=\"translate(115.242001 240.758125)scale(0.12 -0.12)\">\n       <use xlink:href=\"#DejaVuSans-53\"/>\n       <use x=\"63.623047\" xlink:href=\"#DejaVuSans-46\"/>\n       <use x=\"95.410156\" xlink:href=\"#DejaVuSans-48\"/>\n      </g>\n     </g>\n    </g>\n    <g id=\"xtick_4\">\n     <g id=\"line2d_4\">\n      <g>\n       <use style=\"stroke:#000000;stroke-width:0.8;\" x=\"164.831722\" xlink:href=\"#md386261ecb\" y=\"224.64\"/>\n      </g>\n     </g>\n     <g id=\"text_4\">\n      <!-- 7.5 -->\n      <g transform=\"translate(155.289847 240.758125)scale(0.12 -0.12)\">\n       <defs>\n        <path d=\"M 8.203125 72.90625 \nL 55.078125 72.90625 \nL 55.078125 68.703125 \nL 28.609375 0 \nL 18.3125 0 \nL 43.21875 64.59375 \nL 8.203125 64.59375 \nz\n\" id=\"DejaVuSans-55\"/>\n       </defs>\n       <use xlink:href=\"#DejaVuSans-55\"/>\n       <use x=\"63.623047\" xlink:href=\"#DejaVuSans-46\"/>\n       <use x=\"95.410156\" xlink:href=\"#DejaVuSans-53\"/>\n      </g>\n     </g>\n    </g>\n    <g id=\"xtick_5\">\n     <g id=\"line2d_5\">\n      <g>\n       <use style=\"stroke:#000000;stroke-width:0.8;\" x=\"204.879569\" xlink:href=\"#md386261ecb\" y=\"224.64\"/>\n      </g>\n     </g>\n     <g id=\"text_5\">\n      <!-- 10.0 -->\n      <g transform=\"translate(191.520194 240.758125)scale(0.12 -0.12)\">\n       <defs>\n        <path d=\"M 12.40625 8.296875 \nL 28.515625 8.296875 \nL 28.515625 63.921875 \nL 10.984375 60.40625 \nL 10.984375 69.390625 \nL 28.421875 72.90625 \nL 38.28125 72.90625 \nL 38.28125 8.296875 \nL 54.390625 8.296875 \nL 54.390625 0 \nL 12.40625 0 \nz\n\" id=\"DejaVuSans-49\"/>\n       </defs>\n       <use xlink:href=\"#DejaVuSans-49\"/>\n       <use x=\"63.623047\" xlink:href=\"#DejaVuSans-48\"/>\n       <use x=\"127.246094\" xlink:href=\"#DejaVuSans-46\"/>\n       <use x=\"159.033203\" xlink:href=\"#DejaVuSans-48\"/>\n      </g>\n     </g>\n    </g>\n    <g id=\"xtick_6\">\n     <g id=\"line2d_6\">\n      <g>\n       <use style=\"stroke:#000000;stroke-width:0.8;\" x=\"244.927416\" xlink:href=\"#md386261ecb\" y=\"224.64\"/>\n      </g>\n     </g>\n     <g id=\"text_6\">\n      <!-- 12.5 -->\n      <g transform=\"translate(231.568041 240.758125)scale(0.12 -0.12)\">\n       <use xlink:href=\"#DejaVuSans-49\"/>\n       <use x=\"63.623047\" xlink:href=\"#DejaVuSans-50\"/>\n       <use x=\"127.246094\" xlink:href=\"#DejaVuSans-46\"/>\n       <use x=\"159.033203\" xlink:href=\"#DejaVuSans-53\"/>\n      </g>\n     </g>\n    </g>\n    <g id=\"xtick_7\">\n     <g id=\"line2d_7\">\n      <g>\n       <use style=\"stroke:#000000;stroke-width:0.8;\" x=\"284.975263\" xlink:href=\"#md386261ecb\" y=\"224.64\"/>\n      </g>\n     </g>\n     <g id=\"text_7\">\n      <!-- 15.0 -->\n      <g transform=\"translate(271.615888 240.758125)scale(0.12 -0.12)\">\n       <use xlink:href=\"#DejaVuSans-49\"/>\n       <use x=\"63.623047\" xlink:href=\"#DejaVuSans-53\"/>\n       <use x=\"127.246094\" xlink:href=\"#DejaVuSans-46\"/>\n       <use x=\"159.033203\" xlink:href=\"#DejaVuSans-48\"/>\n      </g>\n     </g>\n    </g>\n    <g id=\"xtick_8\">\n     <g id=\"line2d_8\">\n      <g>\n       <use style=\"stroke:#000000;stroke-width:0.8;\" x=\"325.02311\" xlink:href=\"#md386261ecb\" y=\"224.64\"/>\n      </g>\n     </g>\n     <g id=\"text_8\">\n      <!-- 17.5 -->\n      <g transform=\"translate(311.663735 240.758125)scale(0.12 -0.12)\">\n       <use xlink:href=\"#DejaVuSans-49\"/>\n       <use x=\"63.623047\" xlink:href=\"#DejaVuSans-55\"/>\n       <use x=\"127.246094\" xlink:href=\"#DejaVuSans-46\"/>\n       <use x=\"159.033203\" xlink:href=\"#DejaVuSans-53\"/>\n      </g>\n     </g>\n    </g>\n   </g>\n   <g id=\"matplotlib.axis_2\">\n    <g id=\"ytick_1\">\n     <g id=\"line2d_9\">\n      <defs>\n       <path d=\"M 0 0 \nL -3.5 0 \n\" id=\"m1126a00702\" style=\"stroke:#000000;stroke-width:0.8;\"/>\n      </defs>\n      <g>\n       <use style=\"stroke:#000000;stroke-width:0.8;\" x=\"29.47\" xlink:href=\"#m1126a00702\" y=\"218.663681\"/>\n      </g>\n     </g>\n     <g id=\"text_9\">\n      <!-- 0 -->\n      <g transform=\"translate(14.835 223.222744)scale(0.12 -0.12)\">\n       <use xlink:href=\"#DejaVuSans-48\"/>\n      </g>\n     </g>\n    </g>\n    <g id=\"ytick_2\">\n     <g id=\"line2d_10\">\n      <g>\n       <use style=\"stroke:#000000;stroke-width:0.8;\" x=\"29.47\" xlink:href=\"#m1126a00702\" y=\"189.719388\"/>\n      </g>\n     </g>\n     <g id=\"text_10\">\n      <!-- 10 -->\n      <g transform=\"translate(7.2 194.278451)scale(0.12 -0.12)\">\n       <use xlink:href=\"#DejaVuSans-49\"/>\n       <use x=\"63.623047\" xlink:href=\"#DejaVuSans-48\"/>\n      </g>\n     </g>\n    </g>\n    <g id=\"ytick_3\">\n     <g id=\"line2d_11\">\n      <g>\n       <use style=\"stroke:#000000;stroke-width:0.8;\" x=\"29.47\" xlink:href=\"#m1126a00702\" y=\"160.775095\"/>\n      </g>\n     </g>\n     <g id=\"text_11\">\n      <!-- 20 -->\n      <g transform=\"translate(7.2 165.334158)scale(0.12 -0.12)\">\n       <use xlink:href=\"#DejaVuSans-50\"/>\n       <use x=\"63.623047\" xlink:href=\"#DejaVuSans-48\"/>\n      </g>\n     </g>\n    </g>\n    <g id=\"ytick_4\">\n     <g id=\"line2d_12\">\n      <g>\n       <use style=\"stroke:#000000;stroke-width:0.8;\" x=\"29.47\" xlink:href=\"#m1126a00702\" y=\"131.830802\"/>\n      </g>\n     </g>\n     <g id=\"text_12\">\n      <!-- 30 -->\n      <g transform=\"translate(7.2 136.389865)scale(0.12 -0.12)\">\n       <defs>\n        <path d=\"M 40.578125 39.3125 \nQ 47.65625 37.796875 51.625 33 \nQ 55.609375 28.21875 55.609375 21.1875 \nQ 55.609375 10.40625 48.1875 4.484375 \nQ 40.765625 -1.421875 27.09375 -1.421875 \nQ 22.515625 -1.421875 17.65625 -0.515625 \nQ 12.796875 0.390625 7.625 2.203125 \nL 7.625 11.71875 \nQ 11.71875 9.328125 16.59375 8.109375 \nQ 21.484375 6.890625 26.8125 6.890625 \nQ 36.078125 6.890625 40.9375 10.546875 \nQ 45.796875 14.203125 45.796875 21.1875 \nQ 45.796875 27.640625 41.28125 31.265625 \nQ 36.765625 34.90625 28.71875 34.90625 \nL 20.21875 34.90625 \nL 20.21875 43.015625 \nL 29.109375 43.015625 \nQ 36.375 43.015625 40.234375 45.921875 \nQ 44.09375 48.828125 44.09375 54.296875 \nQ 44.09375 59.90625 40.109375 62.90625 \nQ 36.140625 65.921875 28.71875 65.921875 \nQ 24.65625 65.921875 20.015625 65.03125 \nQ 15.375 64.15625 9.8125 62.3125 \nL 9.8125 71.09375 \nQ 15.4375 72.65625 20.34375 73.4375 \nQ 25.25 74.21875 29.59375 74.21875 \nQ 40.828125 74.21875 47.359375 69.109375 \nQ 53.90625 64.015625 53.90625 55.328125 \nQ 53.90625 49.265625 50.4375 45.09375 \nQ 46.96875 40.921875 40.578125 39.3125 \nz\n\" id=\"DejaVuSans-51\"/>\n       </defs>\n       <use xlink:href=\"#DejaVuSans-51\"/>\n       <use x=\"63.623047\" xlink:href=\"#DejaVuSans-48\"/>\n      </g>\n     </g>\n    </g>\n    <g id=\"ytick_5\">\n     <g id=\"line2d_13\">\n      <g>\n       <use style=\"stroke:#000000;stroke-width:0.8;\" x=\"29.47\" xlink:href=\"#m1126a00702\" y=\"102.88651\"/>\n      </g>\n     </g>\n     <g id=\"text_13\">\n      <!-- 40 -->\n      <g transform=\"translate(7.2 107.445572)scale(0.12 -0.12)\">\n       <defs>\n        <path d=\"M 37.796875 64.3125 \nL 12.890625 25.390625 \nL 37.796875 25.390625 \nz\nM 35.203125 72.90625 \nL 47.609375 72.90625 \nL 47.609375 25.390625 \nL 58.015625 25.390625 \nL 58.015625 17.1875 \nL 47.609375 17.1875 \nL 47.609375 0 \nL 37.796875 0 \nL 37.796875 17.1875 \nL 4.890625 17.1875 \nL 4.890625 26.703125 \nz\n\" id=\"DejaVuSans-52\"/>\n       </defs>\n       <use xlink:href=\"#DejaVuSans-52\"/>\n       <use x=\"63.623047\" xlink:href=\"#DejaVuSans-48\"/>\n      </g>\n     </g>\n    </g>\n    <g id=\"ytick_6\">\n     <g id=\"line2d_14\">\n      <g>\n       <use style=\"stroke:#000000;stroke-width:0.8;\" x=\"29.47\" xlink:href=\"#m1126a00702\" y=\"73.942217\"/>\n      </g>\n     </g>\n     <g id=\"text_14\">\n      <!-- 50 -->\n      <g transform=\"translate(7.2 78.501279)scale(0.12 -0.12)\">\n       <use xlink:href=\"#DejaVuSans-53\"/>\n       <use x=\"63.623047\" xlink:href=\"#DejaVuSans-48\"/>\n      </g>\n     </g>\n    </g>\n    <g id=\"ytick_7\">\n     <g id=\"line2d_15\">\n      <g>\n       <use style=\"stroke:#000000;stroke-width:0.8;\" x=\"29.47\" xlink:href=\"#m1126a00702\" y=\"44.997924\"/>\n      </g>\n     </g>\n     <g id=\"text_15\">\n      <!-- 60 -->\n      <g transform=\"translate(7.2 49.556986)scale(0.12 -0.12)\">\n       <defs>\n        <path d=\"M 33.015625 40.375 \nQ 26.375 40.375 22.484375 35.828125 \nQ 18.609375 31.296875 18.609375 23.390625 \nQ 18.609375 15.53125 22.484375 10.953125 \nQ 26.375 6.390625 33.015625 6.390625 \nQ 39.65625 6.390625 43.53125 10.953125 \nQ 47.40625 15.53125 47.40625 23.390625 \nQ 47.40625 31.296875 43.53125 35.828125 \nQ 39.65625 40.375 33.015625 40.375 \nz\nM 52.59375 71.296875 \nL 52.59375 62.3125 \nQ 48.875 64.0625 45.09375 64.984375 \nQ 41.3125 65.921875 37.59375 65.921875 \nQ 27.828125 65.921875 22.671875 59.328125 \nQ 17.53125 52.734375 16.796875 39.40625 \nQ 19.671875 43.65625 24.015625 45.921875 \nQ 28.375 48.1875 33.59375 48.1875 \nQ 44.578125 48.1875 50.953125 41.515625 \nQ 57.328125 34.859375 57.328125 23.390625 \nQ 57.328125 12.15625 50.6875 5.359375 \nQ 44.046875 -1.421875 33.015625 -1.421875 \nQ 20.359375 -1.421875 13.671875 8.265625 \nQ 6.984375 17.96875 6.984375 36.375 \nQ 6.984375 53.65625 15.1875 63.9375 \nQ 23.390625 74.21875 37.203125 74.21875 \nQ 40.921875 74.21875 44.703125 73.484375 \nQ 48.484375 72.75 52.59375 71.296875 \nz\n\" id=\"DejaVuSans-54\"/>\n       </defs>\n       <use xlink:href=\"#DejaVuSans-54\"/>\n       <use x=\"63.623047\" xlink:href=\"#DejaVuSans-48\"/>\n      </g>\n     </g>\n    </g>\n    <g id=\"ytick_8\">\n     <g id=\"line2d_16\">\n      <g>\n       <use style=\"stroke:#000000;stroke-width:0.8;\" x=\"29.47\" xlink:href=\"#m1126a00702\" y=\"16.053631\"/>\n      </g>\n     </g>\n     <g id=\"text_16\">\n      <!-- 70 -->\n      <g transform=\"translate(7.2 20.612693)scale(0.12 -0.12)\">\n       <use xlink:href=\"#DejaVuSans-55\"/>\n       <use x=\"63.623047\" xlink:href=\"#DejaVuSans-48\"/>\n      </g>\n     </g>\n    </g>\n   </g>\n   <g id=\"patch_3\">\n    <path d=\"M 29.47 224.64 \nL 29.47 7.2 \n\" style=\"fill:none;stroke:#000000;stroke-linecap:square;stroke-linejoin:miter;stroke-width:0.8;\"/>\n   </g>\n   <g id=\"patch_4\">\n    <path d=\"M 364.27 224.64 \nL 364.27 7.2 \n\" style=\"fill:none;stroke:#000000;stroke-linecap:square;stroke-linejoin:miter;stroke-width:0.8;\"/>\n   </g>\n   <g id=\"patch_5\">\n    <path d=\"M 29.47 224.64 \nL 364.27 224.64 \n\" style=\"fill:none;stroke:#000000;stroke-linecap:square;stroke-linejoin:miter;stroke-width:0.8;\"/>\n   </g>\n   <g id=\"patch_6\">\n    <path d=\"M 29.47 7.2 \nL 364.27 7.2 \n\" style=\"fill:none;stroke:#000000;stroke-linecap:square;stroke-linejoin:miter;stroke-width:0.8;\"/>\n   </g>\n  </g>\n </g>\n <defs>\n  <clipPath id=\"p1e55736dd5\">\n   <rect height=\"217.44\" width=\"334.8\" x=\"29.47\" y=\"7.2\"/>\n  </clipPath>\n </defs>\n</svg>\n",
      "image/png": "[encoded data removed]"
     },
     "metadata": {
      "needs_background": "light"
     }
    }
   ],
   "source": [
    "plt.scatter(time,speed);"
   ]
  },
  {
   "cell_type": "markdown",
   "metadata": {},
   "source": [
    "It is selected a quadratic function to describe the behavior of speed using 3 parameters:"
   ]
  },
  {
   "cell_type": "code",
   "execution_count": 23,
   "metadata": {},
   "outputs": [],
   "source": [
    "def f(t, params):\n",
    "    a,b,c = params\n",
    "    return a*(t**2) + (b*t) + c"
   ]
  },
  {
   "cell_type": "markdown",
   "metadata": {},
   "source": [
    "It is chosen a **loss function** to analyze the accuracy of the aproximation using mean square error:"
   ]
  },
  {
   "cell_type": "code",
   "execution_count": 24,
   "metadata": {},
   "outputs": [],
   "source": [
    "def mse(preds, targets): return ((preds-targets)**2).mean()"
   ]
  },
  {
   "cell_type": "markdown",
   "metadata": {},
   "source": [
    "**Step 1**\n",
    "Initialization of parameters randomly:<br>\n",
    "<br>\n",
    "We indicate Pytorch that the tensor will need gradients to be calculated in the future."
   ]
  },
  {
   "cell_type": "code",
   "execution_count": 25,
   "metadata": {},
   "outputs": [
    {
     "output_type": "execute_result",
     "data": {
      "text/plain": "tensor([ 0.1498, -0.2089, -0.3870], requires_grad=True)"
     },
     "metadata": {},
     "execution_count": 25
    }
   ],
   "source": [
    "params = torch.randn(3).requires_grad_()\n",
    "params"
   ]
  },
  {
   "cell_type": "markdown",
   "metadata": {},
   "source": [
    "Keep the original weights for future calculations:"
   ]
  },
  {
   "cell_type": "code",
   "execution_count": 26,
   "metadata": {},
   "outputs": [
    {
     "output_type": "execute_result",
     "data": {
      "text/plain": "tensor([ 0.1498, -0.2089, -0.3870], grad_fn=<CloneBackward>)"
     },
     "metadata": {},
     "execution_count": 26
    }
   ],
   "source": [
    "#hide\n",
    "orig_params = params.clone()\n",
    "orig_params"
   ]
  },
  {
   "cell_type": "markdown",
   "metadata": {},
   "source": [
    "**Step 2**\n",
    "Calculate the predictions:"
   ]
  },
  {
   "cell_type": "code",
   "execution_count": 27,
   "metadata": {},
   "outputs": [],
   "source": [
    "preds = f(time, params)"
   ]
  },
  {
   "cell_type": "markdown",
   "metadata": {},
   "source": [
    "Function to see how close our predictions are to our targets:"
   ]
  },
  {
   "cell_type": "code",
   "execution_count": 28,
   "metadata": {},
   "outputs": [],
   "source": [
    "def show_preds(preds, ax=None):\n",
    "    if ax is None: ax=plt.subplots()[1]\n",
    "    ax.scatter(time, speed)\n",
    "    ax.scatter(time, to_np(preds), color='red')\n",
    "    ax.set_ylim(-300,100)"
   ]
  },
  {
   "cell_type": "code",
   "execution_count": 29,
   "metadata": {},
   "outputs": [
    {
     "output_type": "display_data",
     "data": {
      "text/plain": "<Figure size 432x288 with 1 Axes>",
      "image/svg+xml": "<?xml version=\"1.0\" encoding=\"utf-8\" standalone=\"no\"?>\n<!DOCTYPE svg PUBLIC \"-//W3C//DTD SVG 1.1//EN\"\n  \"http://www.w3.org/Graphics/SVG/1.1/DTD/svg11.dtd\">\n<!-- Created with matplotlib (https://matplotlib.org/) -->\n<svg height=\"255.012812pt\" version=\"1.1\" viewBox=\"0 0 389.160625 255.012812\" width=\"389.160625pt\" xmlns=\"http://www.w3.org/2000/svg\" xmlns:xlink=\"http://www.w3.org/1999/xlink\">\n <metadata>\n  <rdf:RDF xmlns:cc=\"http://creativecommons.org/ns#\" xmlns:dc=\"http://purl.org/dc/elements/1.1/\" xmlns:rdf=\"http://www.w3.org/1999/02/22-rdf-syntax-ns#\">\n   <cc:Work>\n    <dc:type rdf:resource=\"http://purl.org/dc/dcmitype/StillImage\"/>\n    <dc:date>2020-09-11T09:48:11.864196</dc:date>\n    <dc:format>image/svg+xml</dc:format>\n    <dc:creator>\n     <cc:Agent>\n      <dc:title>Matplotlib v3.3.0, https://matplotlib.org/</dc:title>\n     </cc:Agent>\n    </dc:creator>\n   </cc:Work>\n  </rdf:RDF>\n </metadata>\n <defs>\n  <style type=\"text/css\">*{stroke-linecap:butt;stroke-linejoin:round;}</style>\n </defs>\n <g id=\"figure_1\">\n  <g id=\"patch_1\">\n   <path d=\"M 0 255.012812 \nL 389.160625 255.012812 \nL 389.160625 0 \nL 0 0 \nz\n\" style=\"fill:none;\"/>\n  </g>\n  <g id=\"axes_1\">\n   <g id=\"patch_2\">\n    <path d=\"M 47.160625 229.199062 \nL 381.960625 229.199062 \nL 381.960625 11.759062 \nL 47.160625 11.759062 \nz\n\" style=\"fill:#ffffff;\"/>\n   </g>\n   <g id=\"PathCollection_1\">\n    <defs>\n     <path d=\"M 0 3 \nC 0.795609 3 1.55874 2.683901 2.12132 2.12132 \nC 2.683901 1.55874 3 0.795609 3 0 \nC 3 -0.795609 2.683901 -1.55874 2.12132 -2.12132 \nC 1.55874 -2.683901 0.795609 -3 0 -3 \nC -0.795609 -3 -1.55874 -2.683901 -2.12132 -2.12132 \nC -2.683901 -1.55874 -3 -0.795609 -3 0 \nC -3 0.795609 -2.683901 1.55874 -2.12132 2.12132 \nC -1.55874 2.683901 -0.795609 3 0 3 \nz\n\" id=\"m465209ef7b\" style=\"stroke:#1f77b4;\"/>\n    </defs>\n    <g clip-path=\"url(#p0286f87c30)\">\n     <use style=\"fill:#1f77b4;stroke:#1f77b4;\" x=\"62.378807\" xlink:href=\"#m465209ef7b\" y=\"28.260507\"/>\n     <use style=\"fill:#1f77b4;stroke:#1f77b4;\" x=\"78.397946\" xlink:href=\"#m465209ef7b\" y=\"36.811442\"/>\n     <use style=\"fill:#1f77b4;stroke:#1f77b4;\" x=\"94.417084\" xlink:href=\"#m465209ef7b\" y=\"42.143767\"/>\n     <use style=\"fill:#1f77b4;stroke:#1f77b4;\" x=\"110.436223\" xlink:href=\"#m465209ef7b\" y=\"49.613343\"/>\n     <use style=\"fill:#1f77b4;stroke:#1f77b4;\" x=\"126.455362\" xlink:href=\"#m465209ef7b\" y=\"54.60772\"/>\n     <use style=\"fill:#1f77b4;stroke:#1f77b4;\" x=\"142.474501\" xlink:href=\"#m465209ef7b\" y=\"58.823771\"/>\n     <use style=\"fill:#1f77b4;stroke:#1f77b4;\" x=\"158.493639\" xlink:href=\"#m465209ef7b\" y=\"57.62724\"/>\n     <use style=\"fill:#1f77b4;stroke:#1f77b4;\" x=\"174.512778\" xlink:href=\"#m465209ef7b\" y=\"62.765488\"/>\n     <use style=\"fill:#1f77b4;stroke:#1f77b4;\" x=\"190.531917\" xlink:href=\"#m465209ef7b\" y=\"64.059228\"/>\n     <use style=\"fill:#1f77b4;stroke:#1f77b4;\" x=\"206.551056\" xlink:href=\"#m465209ef7b\" y=\"65.187478\"/>\n     <use style=\"fill:#1f77b4;stroke:#1f77b4;\" x=\"222.570194\" xlink:href=\"#m465209ef7b\" y=\"63.214618\"/>\n     <use style=\"fill:#1f77b4;stroke:#1f77b4;\" x=\"238.589333\" xlink:href=\"#m465209ef7b\" y=\"65.385233\"/>\n     <use style=\"fill:#1f77b4;stroke:#1f77b4;\" x=\"254.608472\" xlink:href=\"#m465209ef7b\" y=\"64.988286\"/>\n     <use style=\"fill:#1f77b4;stroke:#1f77b4;\" x=\"270.627611\" xlink:href=\"#m465209ef7b\" y=\"59.426837\"/>\n     <use style=\"fill:#1f77b4;stroke:#1f77b4;\" x=\"286.646749\" xlink:href=\"#m465209ef7b\" y=\"59.074092\"/>\n     <use style=\"fill:#1f77b4;stroke:#1f77b4;\" x=\"302.665888\" xlink:href=\"#m465209ef7b\" y=\"52.368992\"/>\n     <use style=\"fill:#1f77b4;stroke:#1f77b4;\" x=\"318.685027\" xlink:href=\"#m465209ef7b\" y=\"46.433347\"/>\n     <use style=\"fill:#1f77b4;stroke:#1f77b4;\" x=\"334.704166\" xlink:href=\"#m465209ef7b\" y=\"41.727175\"/>\n     <use style=\"fill:#1f77b4;stroke:#1f77b4;\" x=\"350.723304\" xlink:href=\"#m465209ef7b\" y=\"36.85748\"/>\n     <use style=\"fill:#1f77b4;stroke:#1f77b4;\" x=\"366.742443\" xlink:href=\"#m465209ef7b\" y=\"30.039151\"/>\n    </g>\n   </g>\n   <g id=\"PathCollection_2\">\n    <defs>\n     <path d=\"M 0 3 \nC 0.795609 3 1.55874 2.683901 2.12132 2.12132 \nC 2.683901 1.55874 3 0.795609 3 0 \nC 3 -0.795609 2.683901 -1.55874 2.12132 -2.12132 \nC 1.55874 -2.683901 0.795609 -3 0 -3 \nC -0.795609 -3 -1.55874 -2.683901 -2.12132 -2.12132 \nC -2.683901 -1.55874 -3 -0.795609 -3 0 \nC -3 0.795609 -2.683901 1.55874 -2.12132 2.12132 \nC -1.55874 2.683901 -0.795609 3 0 3 \nz\n\" id=\"m98e97c40af\" style=\"stroke:#ff0000;\"/>\n    </defs>\n    <g clip-path=\"url(#p0286f87c30)\">\n     <use style=\"fill:#ff0000;stroke:#ff0000;\" x=\"62.378807\" xlink:href=\"#m98e97c40af\" y=\"66.329447\"/>\n     <use style=\"fill:#ff0000;stroke:#ff0000;\" x=\"78.397946\" xlink:href=\"#m98e97c40af\" y=\"66.361582\"/>\n     <use style=\"fill:#ff0000;stroke:#ff0000;\" x=\"94.417084\" xlink:href=\"#m98e97c40af\" y=\"66.230876\"/>\n     <use style=\"fill:#ff0000;stroke:#ff0000;\" x=\"110.436223\" xlink:href=\"#m98e97c40af\" y=\"65.937329\"/>\n     <use style=\"fill:#ff0000;stroke:#ff0000;\" x=\"126.455362\" xlink:href=\"#m98e97c40af\" y=\"65.480942\"/>\n     <use style=\"fill:#ff0000;stroke:#ff0000;\" x=\"142.474501\" xlink:href=\"#m98e97c40af\" y=\"64.861715\"/>\n     <use style=\"fill:#ff0000;stroke:#ff0000;\" x=\"158.493639\" xlink:href=\"#m98e97c40af\" y=\"64.079647\"/>\n     <use style=\"fill:#ff0000;stroke:#ff0000;\" x=\"174.512778\" xlink:href=\"#m98e97c40af\" y=\"63.134738\"/>\n     <use style=\"fill:#ff0000;stroke:#ff0000;\" x=\"190.531917\" xlink:href=\"#m98e97c40af\" y=\"62.026989\"/>\n     <use style=\"fill:#ff0000;stroke:#ff0000;\" x=\"206.551056\" xlink:href=\"#m98e97c40af\" y=\"60.756399\"/>\n     <use style=\"fill:#ff0000;stroke:#ff0000;\" x=\"222.570194\" xlink:href=\"#m98e97c40af\" y=\"59.322969\"/>\n     <use style=\"fill:#ff0000;stroke:#ff0000;\" x=\"238.589333\" xlink:href=\"#m98e97c40af\" y=\"57.726699\"/>\n     <use style=\"fill:#ff0000;stroke:#ff0000;\" x=\"254.608472\" xlink:href=\"#m98e97c40af\" y=\"55.967588\"/>\n     <use style=\"fill:#ff0000;stroke:#ff0000;\" x=\"270.627611\" xlink:href=\"#m98e97c40af\" y=\"54.045636\"/>\n     <use style=\"fill:#ff0000;stroke:#ff0000;\" x=\"286.646749\" xlink:href=\"#m98e97c40af\" y=\"51.960844\"/>\n     <use style=\"fill:#ff0000;stroke:#ff0000;\" x=\"302.665888\" xlink:href=\"#m98e97c40af\" y=\"49.713211\"/>\n     <use style=\"fill:#ff0000;stroke:#ff0000;\" x=\"318.685027\" xlink:href=\"#m98e97c40af\" y=\"47.30274\"/>\n     <use style=\"fill:#ff0000;stroke:#ff0000;\" x=\"334.704166\" xlink:href=\"#m98e97c40af\" y=\"44.729426\"/>\n     <use style=\"fill:#ff0000;stroke:#ff0000;\" x=\"350.723304\" xlink:href=\"#m98e97c40af\" y=\"41.993271\"/>\n     <use style=\"fill:#ff0000;stroke:#ff0000;\" x=\"366.742443\" xlink:href=\"#m98e97c40af\" y=\"39.094279\"/>\n    </g>\n   </g>\n   <g id=\"matplotlib.axis_1\">\n    <g id=\"xtick_1\">\n     <g id=\"line2d_1\">\n      <defs>\n       <path d=\"M 0 0 \nL 0 3.5 \n\" id=\"m4145c1aa1a\" style=\"stroke:#000000;stroke-width:0.8;\"/>\n      </defs>\n      <g>\n       <use style=\"stroke:#000000;stroke-width:0.8;\" x=\"62.378807\" xlink:href=\"#m4145c1aa1a\" y=\"229.199062\"/>\n      </g>\n     </g>\n     <g id=\"text_1\">\n      <!-- 0.0 -->\n      <g transform=\"translate(52.836932 245.317187)scale(0.12 -0.12)\">\n       <defs>\n        <path d=\"M 31.78125 66.40625 \nQ 24.171875 66.40625 20.328125 58.90625 \nQ 16.5 51.421875 16.5 36.375 \nQ 16.5 21.390625 20.328125 13.890625 \nQ 24.171875 6.390625 31.78125 6.390625 \nQ 39.453125 6.390625 43.28125 13.890625 \nQ 47.125 21.390625 47.125 36.375 \nQ 47.125 51.421875 43.28125 58.90625 \nQ 39.453125 66.40625 31.78125 66.40625 \nz\nM 31.78125 74.21875 \nQ 44.046875 74.21875 50.515625 64.515625 \nQ 56.984375 54.828125 56.984375 36.375 \nQ 56.984375 17.96875 50.515625 8.265625 \nQ 44.046875 -1.421875 31.78125 -1.421875 \nQ 19.53125 -1.421875 13.0625 8.265625 \nQ 6.59375 17.96875 6.59375 36.375 \nQ 6.59375 54.828125 13.0625 64.515625 \nQ 19.53125 74.21875 31.78125 74.21875 \nz\n\" id=\"DejaVuSans-48\"/>\n        <path d=\"M 10.6875 12.40625 \nL 21 12.40625 \nL 21 0 \nL 10.6875 0 \nz\n\" id=\"DejaVuSans-46\"/>\n       </defs>\n       <use xlink:href=\"#DejaVuSans-48\"/>\n       <use x=\"63.623047\" xlink:href=\"#DejaVuSans-46\"/>\n       <use x=\"95.410156\" xlink:href=\"#DejaVuSans-48\"/>\n      </g>\n     </g>\n    </g>\n    <g id=\"xtick_2\">\n     <g id=\"line2d_2\">\n      <g>\n       <use style=\"stroke:#000000;stroke-width:0.8;\" x=\"102.426654\" xlink:href=\"#m4145c1aa1a\" y=\"229.199062\"/>\n      </g>\n     </g>\n     <g id=\"text_2\">\n      <!-- 2.5 -->\n      <g transform=\"translate(92.884779 245.317187)scale(0.12 -0.12)\">\n       <defs>\n        <path d=\"M 19.1875 8.296875 \nL 53.609375 8.296875 \nL 53.609375 0 \nL 7.328125 0 \nL 7.328125 8.296875 \nQ 12.9375 14.109375 22.625 23.890625 \nQ 32.328125 33.6875 34.8125 36.53125 \nQ 39.546875 41.84375 41.421875 45.53125 \nQ 43.3125 49.21875 43.3125 52.78125 \nQ 43.3125 58.59375 39.234375 62.25 \nQ 35.15625 65.921875 28.609375 65.921875 \nQ 23.96875 65.921875 18.8125 64.3125 \nQ 13.671875 62.703125 7.8125 59.421875 \nL 7.8125 69.390625 \nQ 13.765625 71.78125 18.9375 73 \nQ 24.125 74.21875 28.421875 74.21875 \nQ 39.75 74.21875 46.484375 68.546875 \nQ 53.21875 62.890625 53.21875 53.421875 \nQ 53.21875 48.921875 51.53125 44.890625 \nQ 49.859375 40.875 45.40625 35.40625 \nQ 44.1875 33.984375 37.640625 27.21875 \nQ 31.109375 20.453125 19.1875 8.296875 \nz\n\" id=\"DejaVuSans-50\"/>\n        <path d=\"M 10.796875 72.90625 \nL 49.515625 72.90625 \nL 49.515625 64.59375 \nL 19.828125 64.59375 \nL 19.828125 46.734375 \nQ 21.96875 47.46875 24.109375 47.828125 \nQ 26.265625 48.1875 28.421875 48.1875 \nQ 40.625 48.1875 47.75 41.5 \nQ 54.890625 34.8125 54.890625 23.390625 \nQ 54.890625 11.625 47.5625 5.09375 \nQ 40.234375 -1.421875 26.90625 -1.421875 \nQ 22.3125 -1.421875 17.546875 -0.640625 \nQ 12.796875 0.140625 7.71875 1.703125 \nL 7.71875 11.625 \nQ 12.109375 9.234375 16.796875 8.0625 \nQ 21.484375 6.890625 26.703125 6.890625 \nQ 35.15625 6.890625 40.078125 11.328125 \nQ 45.015625 15.765625 45.015625 23.390625 \nQ 45.015625 31 40.078125 35.4375 \nQ 35.15625 39.890625 26.703125 39.890625 \nQ 22.75 39.890625 18.8125 39.015625 \nQ 14.890625 38.140625 10.796875 36.28125 \nz\n\" id=\"DejaVuSans-53\"/>\n       </defs>\n       <use xlink:href=\"#DejaVuSans-50\"/>\n       <use x=\"63.623047\" xlink:href=\"#DejaVuSans-46\"/>\n       <use x=\"95.410156\" xlink:href=\"#DejaVuSans-53\"/>\n      </g>\n     </g>\n    </g>\n    <g id=\"xtick_3\">\n     <g id=\"line2d_3\">\n      <g>\n       <use style=\"stroke:#000000;stroke-width:0.8;\" x=\"142.474501\" xlink:href=\"#m4145c1aa1a\" y=\"229.199062\"/>\n      </g>\n     </g>\n     <g id=\"text_3\">\n      <!-- 5.0 -->\n      <g transform=\"translate(132.932626 245.317187)scale(0.12 -0.12)\">\n       <use xlink:href=\"#DejaVuSans-53\"/>\n       <use x=\"63.623047\" xlink:href=\"#DejaVuSans-46\"/>\n       <use x=\"95.410156\" xlink:href=\"#DejaVuSans-48\"/>\n      </g>\n     </g>\n    </g>\n    <g id=\"xtick_4\">\n     <g id=\"line2d_4\">\n      <g>\n       <use style=\"stroke:#000000;stroke-width:0.8;\" x=\"182.522347\" xlink:href=\"#m4145c1aa1a\" y=\"229.199062\"/>\n      </g>\n     </g>\n     <g id=\"text_4\">\n      <!-- 7.5 -->\n      <g transform=\"translate(172.980472 245.317187)scale(0.12 -0.12)\">\n       <defs>\n        <path d=\"M 8.203125 72.90625 \nL 55.078125 72.90625 \nL 55.078125 68.703125 \nL 28.609375 0 \nL 18.3125 0 \nL 43.21875 64.59375 \nL 8.203125 64.59375 \nz\n\" id=\"DejaVuSans-55\"/>\n       </defs>\n       <use xlink:href=\"#DejaVuSans-55\"/>\n       <use x=\"63.623047\" xlink:href=\"#DejaVuSans-46\"/>\n       <use x=\"95.410156\" xlink:href=\"#DejaVuSans-53\"/>\n      </g>\n     </g>\n    </g>\n    <g id=\"xtick_5\">\n     <g id=\"line2d_5\">\n      <g>\n       <use style=\"stroke:#000000;stroke-width:0.8;\" x=\"222.570194\" xlink:href=\"#m4145c1aa1a\" y=\"229.199062\"/>\n      </g>\n     </g>\n     <g id=\"text_5\">\n      <!-- 10.0 -->\n      <g transform=\"translate(209.210819 245.317187)scale(0.12 -0.12)\">\n       <defs>\n        <path d=\"M 12.40625 8.296875 \nL 28.515625 8.296875 \nL 28.515625 63.921875 \nL 10.984375 60.40625 \nL 10.984375 69.390625 \nL 28.421875 72.90625 \nL 38.28125 72.90625 \nL 38.28125 8.296875 \nL 54.390625 8.296875 \nL 54.390625 0 \nL 12.40625 0 \nz\n\" id=\"DejaVuSans-49\"/>\n       </defs>\n       <use xlink:href=\"#DejaVuSans-49\"/>\n       <use x=\"63.623047\" xlink:href=\"#DejaVuSans-48\"/>\n       <use x=\"127.246094\" xlink:href=\"#DejaVuSans-46\"/>\n       <use x=\"159.033203\" xlink:href=\"#DejaVuSans-48\"/>\n      </g>\n     </g>\n    </g>\n    <g id=\"xtick_6\">\n     <g id=\"line2d_6\">\n      <g>\n       <use style=\"stroke:#000000;stroke-width:0.8;\" x=\"262.618041\" xlink:href=\"#m4145c1aa1a\" y=\"229.199062\"/>\n      </g>\n     </g>\n     <g id=\"text_6\">\n      <!-- 12.5 -->\n      <g transform=\"translate(249.258666 245.317187)scale(0.12 -0.12)\">\n       <use xlink:href=\"#DejaVuSans-49\"/>\n       <use x=\"63.623047\" xlink:href=\"#DejaVuSans-50\"/>\n       <use x=\"127.246094\" xlink:href=\"#DejaVuSans-46\"/>\n       <use x=\"159.033203\" xlink:href=\"#DejaVuSans-53\"/>\n      </g>\n     </g>\n    </g>\n    <g id=\"xtick_7\">\n     <g id=\"line2d_7\">\n      <g>\n       <use style=\"stroke:#000000;stroke-width:0.8;\" x=\"302.665888\" xlink:href=\"#m4145c1aa1a\" y=\"229.199062\"/>\n      </g>\n     </g>\n     <g id=\"text_7\">\n      <!-- 15.0 -->\n      <g transform=\"translate(289.306513 245.317187)scale(0.12 -0.12)\">\n       <use xlink:href=\"#DejaVuSans-49\"/>\n       <use x=\"63.623047\" xlink:href=\"#DejaVuSans-53\"/>\n       <use x=\"127.246094\" xlink:href=\"#DejaVuSans-46\"/>\n       <use x=\"159.033203\" xlink:href=\"#DejaVuSans-48\"/>\n      </g>\n     </g>\n    </g>\n    <g id=\"xtick_8\">\n     <g id=\"line2d_8\">\n      <g>\n       <use style=\"stroke:#000000;stroke-width:0.8;\" x=\"342.713735\" xlink:href=\"#m4145c1aa1a\" y=\"229.199062\"/>\n      </g>\n     </g>\n     <g id=\"text_8\">\n      <!-- 17.5 -->\n      <g transform=\"translate(329.35436 245.317187)scale(0.12 -0.12)\">\n       <use xlink:href=\"#DejaVuSans-49\"/>\n       <use x=\"63.623047\" xlink:href=\"#DejaVuSans-55\"/>\n       <use x=\"127.246094\" xlink:href=\"#DejaVuSans-46\"/>\n       <use x=\"159.033203\" xlink:href=\"#DejaVuSans-53\"/>\n      </g>\n     </g>\n    </g>\n   </g>\n   <g id=\"matplotlib.axis_2\">\n    <g id=\"ytick_1\">\n     <g id=\"line2d_9\">\n      <defs>\n       <path d=\"M 0 0 \nL -3.5 0 \n\" id=\"m0b9bf673a3\" style=\"stroke:#000000;stroke-width:0.8;\"/>\n      </defs>\n      <g>\n       <use style=\"stroke:#000000;stroke-width:0.8;\" x=\"47.160625\" xlink:href=\"#m0b9bf673a3\" y=\"229.199062\"/>\n      </g>\n     </g>\n     <g id=\"text_9\">\n      <!-- −300 -->\n      <g transform=\"translate(7.2 233.758125)scale(0.12 -0.12)\">\n       <defs>\n        <path d=\"M 10.59375 35.5 \nL 73.1875 35.5 \nL 73.1875 27.203125 \nL 10.59375 27.203125 \nz\n\" id=\"DejaVuSans-8722\"/>\n        <path d=\"M 40.578125 39.3125 \nQ 47.65625 37.796875 51.625 33 \nQ 55.609375 28.21875 55.609375 21.1875 \nQ 55.609375 10.40625 48.1875 4.484375 \nQ 40.765625 -1.421875 27.09375 -1.421875 \nQ 22.515625 -1.421875 17.65625 -0.515625 \nQ 12.796875 0.390625 7.625 2.203125 \nL 7.625 11.71875 \nQ 11.71875 9.328125 16.59375 8.109375 \nQ 21.484375 6.890625 26.8125 6.890625 \nQ 36.078125 6.890625 40.9375 10.546875 \nQ 45.796875 14.203125 45.796875 21.1875 \nQ 45.796875 27.640625 41.28125 31.265625 \nQ 36.765625 34.90625 28.71875 34.90625 \nL 20.21875 34.90625 \nL 20.21875 43.015625 \nL 29.109375 43.015625 \nQ 36.375 43.015625 40.234375 45.921875 \nQ 44.09375 48.828125 44.09375 54.296875 \nQ 44.09375 59.90625 40.109375 62.90625 \nQ 36.140625 65.921875 28.71875 65.921875 \nQ 24.65625 65.921875 20.015625 65.03125 \nQ 15.375 64.15625 9.8125 62.3125 \nL 9.8125 71.09375 \nQ 15.4375 72.65625 20.34375 73.4375 \nQ 25.25 74.21875 29.59375 74.21875 \nQ 40.828125 74.21875 47.359375 69.109375 \nQ 53.90625 64.015625 53.90625 55.328125 \nQ 53.90625 49.265625 50.4375 45.09375 \nQ 46.96875 40.921875 40.578125 39.3125 \nz\n\" id=\"DejaVuSans-51\"/>\n       </defs>\n       <use xlink:href=\"#DejaVuSans-8722\"/>\n       <use x=\"83.789062\" xlink:href=\"#DejaVuSans-51\"/>\n       <use x=\"147.412109\" xlink:href=\"#DejaVuSans-48\"/>\n       <use x=\"211.035156\" xlink:href=\"#DejaVuSans-48\"/>\n      </g>\n     </g>\n    </g>\n    <g id=\"ytick_2\">\n     <g id=\"line2d_10\">\n      <g>\n       <use style=\"stroke:#000000;stroke-width:0.8;\" x=\"47.160625\" xlink:href=\"#m0b9bf673a3\" y=\"202.019063\"/>\n      </g>\n     </g>\n     <g id=\"text_10\">\n      <!-- −250 -->\n      <g transform=\"translate(7.2 206.578125)scale(0.12 -0.12)\">\n       <use xlink:href=\"#DejaVuSans-8722\"/>\n       <use x=\"83.789062\" xlink:href=\"#DejaVuSans-50\"/>\n       <use x=\"147.412109\" xlink:href=\"#DejaVuSans-53\"/>\n       <use x=\"211.035156\" xlink:href=\"#DejaVuSans-48\"/>\n      </g>\n     </g>\n    </g>\n    <g id=\"ytick_3\">\n     <g id=\"line2d_11\">\n      <g>\n       <use style=\"stroke:#000000;stroke-width:0.8;\" x=\"47.160625\" xlink:href=\"#m0b9bf673a3\" y=\"174.839063\"/>\n      </g>\n     </g>\n     <g id=\"text_11\">\n      <!-- −200 -->\n      <g transform=\"translate(7.2 179.398125)scale(0.12 -0.12)\">\n       <use xlink:href=\"#DejaVuSans-8722\"/>\n       <use x=\"83.789062\" xlink:href=\"#DejaVuSans-50\"/>\n       <use x=\"147.412109\" xlink:href=\"#DejaVuSans-48\"/>\n       <use x=\"211.035156\" xlink:href=\"#DejaVuSans-48\"/>\n      </g>\n     </g>\n    </g>\n    <g id=\"ytick_4\">\n     <g id=\"line2d_12\">\n      <g>\n       <use style=\"stroke:#000000;stroke-width:0.8;\" x=\"47.160625\" xlink:href=\"#m0b9bf673a3\" y=\"147.659063\"/>\n      </g>\n     </g>\n     <g id=\"text_12\">\n      <!-- −150 -->\n      <g transform=\"translate(7.2 152.218125)scale(0.12 -0.12)\">\n       <use xlink:href=\"#DejaVuSans-8722\"/>\n       <use x=\"83.789062\" xlink:href=\"#DejaVuSans-49\"/>\n       <use x=\"147.412109\" xlink:href=\"#DejaVuSans-53\"/>\n       <use x=\"211.035156\" xlink:href=\"#DejaVuSans-48\"/>\n      </g>\n     </g>\n    </g>\n    <g id=\"ytick_5\">\n     <g id=\"line2d_13\">\n      <g>\n       <use style=\"stroke:#000000;stroke-width:0.8;\" x=\"47.160625\" xlink:href=\"#m0b9bf673a3\" y=\"120.479063\"/>\n      </g>\n     </g>\n     <g id=\"text_13\">\n      <!-- −100 -->\n      <g transform=\"translate(7.2 125.038125)scale(0.12 -0.12)\">\n       <use xlink:href=\"#DejaVuSans-8722\"/>\n       <use x=\"83.789062\" xlink:href=\"#DejaVuSans-49\"/>\n       <use x=\"147.412109\" xlink:href=\"#DejaVuSans-48\"/>\n       <use x=\"211.035156\" xlink:href=\"#DejaVuSans-48\"/>\n      </g>\n     </g>\n    </g>\n    <g id=\"ytick_6\">\n     <g id=\"line2d_14\">\n      <g>\n       <use style=\"stroke:#000000;stroke-width:0.8;\" x=\"47.160625\" xlink:href=\"#m0b9bf673a3\" y=\"93.299063\"/>\n      </g>\n     </g>\n     <g id=\"text_14\">\n      <!-- −50 -->\n      <g transform=\"translate(14.835 97.858125)scale(0.12 -0.12)\">\n       <use xlink:href=\"#DejaVuSans-8722\"/>\n       <use x=\"83.789062\" xlink:href=\"#DejaVuSans-53\"/>\n       <use x=\"147.412109\" xlink:href=\"#DejaVuSans-48\"/>\n      </g>\n     </g>\n    </g>\n    <g id=\"ytick_7\">\n     <g id=\"line2d_15\">\n      <g>\n       <use style=\"stroke:#000000;stroke-width:0.8;\" x=\"47.160625\" xlink:href=\"#m0b9bf673a3\" y=\"66.119063\"/>\n      </g>\n     </g>\n     <g id=\"text_15\">\n      <!-- 0 -->\n      <g transform=\"translate(32.525625 70.678125)scale(0.12 -0.12)\">\n       <use xlink:href=\"#DejaVuSans-48\"/>\n      </g>\n     </g>\n    </g>\n    <g id=\"ytick_8\">\n     <g id=\"line2d_16\">\n      <g>\n       <use style=\"stroke:#000000;stroke-width:0.8;\" x=\"47.160625\" xlink:href=\"#m0b9bf673a3\" y=\"38.939063\"/>\n      </g>\n     </g>\n     <g id=\"text_16\">\n      <!-- 50 -->\n      <g transform=\"translate(24.890625 43.498125)scale(0.12 -0.12)\">\n       <use xlink:href=\"#DejaVuSans-53\"/>\n       <use x=\"63.623047\" xlink:href=\"#DejaVuSans-48\"/>\n      </g>\n     </g>\n    </g>\n    <g id=\"ytick_9\">\n     <g id=\"line2d_17\">\n      <g>\n       <use style=\"stroke:#000000;stroke-width:0.8;\" x=\"47.160625\" xlink:href=\"#m0b9bf673a3\" y=\"11.759063\"/>\n      </g>\n     </g>\n     <g id=\"text_17\">\n      <!-- 100 -->\n      <g transform=\"translate(17.255625 16.318125)scale(0.12 -0.12)\">\n       <use xlink:href=\"#DejaVuSans-49\"/>\n       <use x=\"63.623047\" xlink:href=\"#DejaVuSans-48\"/>\n       <use x=\"127.246094\" xlink:href=\"#DejaVuSans-48\"/>\n      </g>\n     </g>\n    </g>\n   </g>\n   <g id=\"patch_3\">\n    <path d=\"M 47.160625 229.199062 \nL 47.160625 11.759063 \n\" style=\"fill:none;stroke:#000000;stroke-linecap:square;stroke-linejoin:miter;stroke-width:0.8;\"/>\n   </g>\n   <g id=\"patch_4\">\n    <path d=\"M 381.960625 229.199062 \nL 381.960625 11.759063 \n\" style=\"fill:none;stroke:#000000;stroke-linecap:square;stroke-linejoin:miter;stroke-width:0.8;\"/>\n   </g>\n   <g id=\"patch_5\">\n    <path d=\"M 47.160625 229.199062 \nL 381.960625 229.199062 \n\" style=\"fill:none;stroke:#000000;stroke-linecap:square;stroke-linejoin:miter;stroke-width:0.8;\"/>\n   </g>\n   <g id=\"patch_6\">\n    <path d=\"M 47.160625 11.759062 \nL 381.960625 11.759062 \n\" style=\"fill:none;stroke:#000000;stroke-linecap:square;stroke-linejoin:miter;stroke-width:0.8;\"/>\n   </g>\n  </g>\n </g>\n <defs>\n  <clipPath id=\"p0286f87c30\">\n   <rect height=\"217.44\" width=\"334.8\" x=\"47.160625\" y=\"11.759062\"/>\n  </clipPath>\n </defs>\n</svg>\n",
      "image/png": "[encoded data removed]"
     },
     "metadata": {
      "needs_background": "light"
     }
    }
   ],
   "source": [
    "show_preds(preds)"
   ]
  },
  {
   "cell_type": "markdown",
   "metadata": {},
   "source": [
    "**Step 3**\n",
    "Calculate the loss:"
   ]
  },
  {
   "cell_type": "code",
   "execution_count": 36,
   "metadata": {
    "tags": []
   },
   "outputs": [
    {
     "output_type": "execute_result",
     "data": {
      "text/plain": "tensor(634.3898, grad_fn=<MeanBackward0>)"
     },
     "metadata": {},
     "execution_count": 36
    }
   ],
   "source": [
    "loss = mse(preds, speed)\n",
    "loss"
   ]
  },
  {
   "cell_type": "markdown",
   "metadata": {},
   "source": [
    "**Step 4**\n",
    "Calculate the gradients of the loss:"
   ]
  },
  {
   "cell_type": "code",
   "execution_count": 28,
   "metadata": {},
   "outputs": [
    {
     "output_type": "execute_result",
     "data": {
      "text/plain": "tensor([43323.4453,  2758.8596,   166.9708])"
     },
     "metadata": {},
     "execution_count": 28
    }
   ],
   "source": [
    "loss.backward()\n",
    "params.grad"
   ]
  },
  {
   "cell_type": "markdown",
   "metadata": {},
   "source": [
    "The gradients are multiply by the learning rate:"
   ]
  },
  {
   "cell_type": "code",
   "execution_count": 29,
   "metadata": {},
   "outputs": [
    {
     "output_type": "execute_result",
     "data": {
      "text/plain": "tensor([0.4332, 0.0276, 0.0017])"
     },
     "metadata": {},
     "execution_count": 29
    }
   ],
   "source": [
    "params.grad * 1e-5"
   ]
  },
  {
   "cell_type": "code",
   "execution_count": 30,
   "metadata": {},
   "outputs": [
    {
     "output_type": "execute_result",
     "data": {
      "text/plain": "tensor([ 0.9912, -1.3297, -0.5426], requires_grad=True)"
     },
     "metadata": {},
     "execution_count": 30
    }
   ],
   "source": [
    "params"
   ]
  },
  {
   "cell_type": "markdown",
   "metadata": {},
   "source": [
    "**Step 5** Step the weights:\n",
    "Meaning that we change the weights based on the gradient and the lerning rate."
   ]
  },
  {
   "cell_type": "code",
   "execution_count": 32,
   "metadata": {},
   "outputs": [],
   "source": [
    "lr = 1e-5\n",
    "params.data -= lr * params.grad.data\n",
    "params.grad = None"
   ]
  },
  {
   "cell_type": "markdown",
   "metadata": {},
   "source": [
    "We check the precusion with adjusted parameters:"
   ]
  },
  {
   "cell_type": "code",
   "execution_count": 33,
   "metadata": {},
   "outputs": [
    {
     "output_type": "execute_result",
     "data": {
      "text/plain": "tensor(3842.2026, grad_fn=<MeanBackward0>)"
     },
     "metadata": {},
     "execution_count": 33
    }
   ],
   "source": [
    "preds = f(time,params)\n",
    "mse(preds, speed)"
   ]
  },
  {
   "cell_type": "code",
   "execution_count": 34,
   "metadata": {},
   "outputs": [
    {
     "output_type": "display_data",
     "data": {
      "text/plain": "<Figure size 432x288 with 1 Axes>",
      "image/svg+xml": "<?xml version=\"1.0\" encoding=\"utf-8\" standalone=\"no\"?>\n<!DOCTYPE svg PUBLIC \"-//W3C//DTD SVG 1.1//EN\"\n  \"http://www.w3.org/Graphics/SVG/1.1/DTD/svg11.dtd\">\n<!-- Created with matplotlib (https://matplotlib.org/) -->\n<svg height=\"255.012812pt\" version=\"1.1\" viewBox=\"0 0 389.160625 255.012812\" width=\"389.160625pt\" xmlns=\"http://www.w3.org/2000/svg\" xmlns:xlink=\"http://www.w3.org/1999/xlink\">\n <metadata>\n  <rdf:RDF xmlns:cc=\"http://creativecommons.org/ns#\" xmlns:dc=\"http://purl.org/dc/elements/1.1/\" xmlns:rdf=\"http://www.w3.org/1999/02/22-rdf-syntax-ns#\">\n   <cc:Work>\n    <dc:type rdf:resource=\"http://purl.org/dc/dcmitype/StillImage\"/>\n    <dc:date>2020-09-10T11:54:15.650381</dc:date>\n    <dc:format>image/svg+xml</dc:format>\n    <dc:creator>\n     <cc:Agent>\n      <dc:title>Matplotlib v3.3.0, https://matplotlib.org/</dc:title>\n     </cc:Agent>\n    </dc:creator>\n   </cc:Work>\n  </rdf:RDF>\n </metadata>\n <defs>\n  <style type=\"text/css\">*{stroke-linecap:butt;stroke-linejoin:round;}</style>\n </defs>\n <g id=\"figure_1\">\n  <g id=\"patch_1\">\n   <path d=\"M 0 255.012812 \nL 389.160625 255.012812 \nL 389.160625 0 \nL 0 0 \nz\n\" style=\"fill:none;\"/>\n  </g>\n  <g id=\"axes_1\">\n   <g id=\"patch_2\">\n    <path d=\"M 47.160625 229.199062 \nL 381.960625 229.199062 \nL 381.960625 11.759062 \nL 47.160625 11.759062 \nz\n\" style=\"fill:#ffffff;\"/>\n   </g>\n   <g id=\"PathCollection_1\">\n    <defs>\n     <path d=\"M 0 3 \nC 0.795609 3 1.55874 2.683901 2.12132 2.12132 \nC 2.683901 1.55874 3 0.795609 3 0 \nC 3 -0.795609 2.683901 -1.55874 2.12132 -2.12132 \nC 1.55874 -2.683901 0.795609 -3 0 -3 \nC -0.795609 -3 -1.55874 -2.683901 -2.12132 -2.12132 \nC -2.683901 -1.55874 -3 -0.795609 -3 0 \nC -3 0.795609 -2.683901 1.55874 -2.12132 2.12132 \nC -1.55874 2.683901 -0.795609 3 0 3 \nz\n\" id=\"m2821631428\" style=\"stroke:#1f77b4;\"/>\n    </defs>\n    <g clip-path=\"url(#p92272b6d7d)\">\n     <use style=\"fill:#1f77b4;stroke:#1f77b4;\" x=\"62.378807\" xlink:href=\"#m2821631428\" y=\"27.59629\"/>\n     <use style=\"fill:#1f77b4;stroke:#1f77b4;\" x=\"78.397946\" xlink:href=\"#m2821631428\" y=\"35.970487\"/>\n     <use style=\"fill:#1f77b4;stroke:#1f77b4;\" x=\"94.417084\" xlink:href=\"#m2821631428\" y=\"43.276824\"/>\n     <use style=\"fill:#1f77b4;stroke:#1f77b4;\" x=\"110.436223\" xlink:href=\"#m2821631428\" y=\"47.489212\"/>\n     <use style=\"fill:#1f77b4;stroke:#1f77b4;\" x=\"126.455362\" xlink:href=\"#m2821631428\" y=\"53.831109\"/>\n     <use style=\"fill:#1f77b4;stroke:#1f77b4;\" x=\"142.474501\" xlink:href=\"#m2821631428\" y=\"57.418348\"/>\n     <use style=\"fill:#1f77b4;stroke:#1f77b4;\" x=\"158.493639\" xlink:href=\"#m2821631428\" y=\"60.461673\"/>\n     <use style=\"fill:#1f77b4;stroke:#1f77b4;\" x=\"174.512778\" xlink:href=\"#m2821631428\" y=\"61.692278\"/>\n     <use style=\"fill:#1f77b4;stroke:#1f77b4;\" x=\"190.531917\" xlink:href=\"#m2821631428\" y=\"62.243781\"/>\n     <use style=\"fill:#1f77b4;stroke:#1f77b4;\" x=\"206.551056\" xlink:href=\"#m2821631428\" y=\"64.911026\"/>\n     <use style=\"fill:#1f77b4;stroke:#1f77b4;\" x=\"222.570194\" xlink:href=\"#m2821631428\" y=\"67.796003\"/>\n     <use style=\"fill:#1f77b4;stroke:#1f77b4;\" x=\"238.589333\" xlink:href=\"#m2821631428\" y=\"64.847842\"/>\n     <use style=\"fill:#1f77b4;stroke:#1f77b4;\" x=\"254.608472\" xlink:href=\"#m2821631428\" y=\"62.672552\"/>\n     <use style=\"fill:#1f77b4;stroke:#1f77b4;\" x=\"270.627611\" xlink:href=\"#m2821631428\" y=\"60.657223\"/>\n     <use style=\"fill:#1f77b4;stroke:#1f77b4;\" x=\"286.646749\" xlink:href=\"#m2821631428\" y=\"59.657323\"/>\n     <use style=\"fill:#1f77b4;stroke:#1f77b4;\" x=\"302.665888\" xlink:href=\"#m2821631428\" y=\"54.16643\"/>\n     <use style=\"fill:#1f77b4;stroke:#1f77b4;\" x=\"318.685027\" xlink:href=\"#m2821631428\" y=\"49.04369\"/>\n     <use style=\"fill:#1f77b4;stroke:#1f77b4;\" x=\"334.704166\" xlink:href=\"#m2821631428\" y=\"42.214222\"/>\n     <use style=\"fill:#1f77b4;stroke:#1f77b4;\" x=\"350.723304\" xlink:href=\"#m2821631428\" y=\"38.466061\"/>\n     <use style=\"fill:#1f77b4;stroke:#1f77b4;\" x=\"366.742443\" xlink:href=\"#m2821631428\" y=\"27.930267\"/>\n    </g>\n   </g>\n   <g id=\"PathCollection_2\">\n    <defs>\n     <path d=\"M 0 3 \nC 0.795609 3 1.55874 2.683901 2.12132 2.12132 \nC 2.683901 1.55874 3 0.795609 3 0 \nC 3 -0.795609 2.683901 -1.55874 2.12132 -2.12132 \nC 1.55874 -2.683901 0.795609 -3 0 -3 \nC -0.795609 -3 -1.55874 -2.683901 -2.12132 -2.12132 \nC -2.683901 -1.55874 -3 -0.795609 -3 0 \nC -3 0.795609 -2.683901 1.55874 -2.12132 2.12132 \nC -1.55874 2.683901 -0.795609 3 0 3 \nz\n\" id=\"m05f84ba156\" style=\"stroke:#ff0000;\"/>\n    </defs>\n    <g clip-path=\"url(#p92272b6d7d)\">\n     <use style=\"fill:#ff0000;stroke:#ff0000;\" x=\"62.378807\" xlink:href=\"#m05f84ba156\" y=\"66.414918\"/>\n     <use style=\"fill:#ff0000;stroke:#ff0000;\" x=\"78.397946\" xlink:href=\"#m05f84ba156\" y=\"66.849405\"/>\n     <use style=\"fill:#ff0000;stroke:#ff0000;\" x=\"94.417084\" xlink:href=\"#m05f84ba156\" y=\"66.677231\"/>\n     <use style=\"fill:#ff0000;stroke:#ff0000;\" x=\"110.436223\" xlink:href=\"#m05f84ba156\" y=\"65.898396\"/>\n     <use style=\"fill:#ff0000;stroke:#ff0000;\" x=\"126.455362\" xlink:href=\"#m05f84ba156\" y=\"64.5129\"/>\n     <use style=\"fill:#ff0000;stroke:#ff0000;\" x=\"142.474501\" xlink:href=\"#m05f84ba156\" y=\"62.520742\"/>\n     <use style=\"fill:#ff0000;stroke:#ff0000;\" x=\"158.493639\" xlink:href=\"#m05f84ba156\" y=\"59.921924\"/>\n     <use style=\"fill:#ff0000;stroke:#ff0000;\" x=\"174.512778\" xlink:href=\"#m05f84ba156\" y=\"56.716445\"/>\n     <use style=\"fill:#ff0000;stroke:#ff0000;\" x=\"190.531917\" xlink:href=\"#m05f84ba156\" y=\"52.904302\"/>\n     <use style=\"fill:#ff0000;stroke:#ff0000;\" x=\"206.551056\" xlink:href=\"#m05f84ba156\" y=\"48.485498\"/>\n     <use style=\"fill:#ff0000;stroke:#ff0000;\" x=\"222.570194\" xlink:href=\"#m05f84ba156\" y=\"43.460035\"/>\n     <use style=\"fill:#ff0000;stroke:#ff0000;\" x=\"238.589333\" xlink:href=\"#m05f84ba156\" y=\"37.82791\"/>\n     <use style=\"fill:#ff0000;stroke:#ff0000;\" x=\"254.608472\" xlink:href=\"#m05f84ba156\" y=\"31.589124\"/>\n     <use style=\"fill:#ff0000;stroke:#ff0000;\" x=\"270.627611\" xlink:href=\"#m05f84ba156\" y=\"24.74368\"/>\n     <use style=\"fill:#ff0000;stroke:#ff0000;\" x=\"286.646749\" xlink:href=\"#m05f84ba156\" y=\"17.291571\"/>\n     <use style=\"fill:#ff0000;stroke:#ff0000;\" x=\"302.665888\" xlink:href=\"#m05f84ba156\" y=\"9.232802\"/>\n     <use style=\"fill:#ff0000;stroke:#ff0000;\" x=\"318.685027\" xlink:href=\"#m05f84ba156\" y=\"0.567369\"/>\n     <use style=\"fill:#ff0000;stroke:#ff0000;\" x=\"321.392928\" xlink:href=\"#m05f84ba156\" y=\"-1\"/>\n    </g>\n   </g>\n   <g id=\"matplotlib.axis_1\">\n    <g id=\"xtick_1\">\n     <g id=\"line2d_1\">\n      <defs>\n       <path d=\"M 0 0 \nL 0 3.5 \n\" id=\"m6936080af7\" style=\"stroke:#000000;stroke-width:0.8;\"/>\n      </defs>\n      <g>\n       <use style=\"stroke:#000000;stroke-width:0.8;\" x=\"62.378807\" xlink:href=\"#m6936080af7\" y=\"229.199062\"/>\n      </g>\n     </g>\n     <g id=\"text_1\">\n      <!-- 0.0 -->\n      <g transform=\"translate(52.836932 245.317187)scale(0.12 -0.12)\">\n       <defs>\n        <path d=\"M 31.78125 66.40625 \nQ 24.171875 66.40625 20.328125 58.90625 \nQ 16.5 51.421875 16.5 36.375 \nQ 16.5 21.390625 20.328125 13.890625 \nQ 24.171875 6.390625 31.78125 6.390625 \nQ 39.453125 6.390625 43.28125 13.890625 \nQ 47.125 21.390625 47.125 36.375 \nQ 47.125 51.421875 43.28125 58.90625 \nQ 39.453125 66.40625 31.78125 66.40625 \nz\nM 31.78125 74.21875 \nQ 44.046875 74.21875 50.515625 64.515625 \nQ 56.984375 54.828125 56.984375 36.375 \nQ 56.984375 17.96875 50.515625 8.265625 \nQ 44.046875 -1.421875 31.78125 -1.421875 \nQ 19.53125 -1.421875 13.0625 8.265625 \nQ 6.59375 17.96875 6.59375 36.375 \nQ 6.59375 54.828125 13.0625 64.515625 \nQ 19.53125 74.21875 31.78125 74.21875 \nz\n\" id=\"DejaVuSans-48\"/>\n        <path d=\"M 10.6875 12.40625 \nL 21 12.40625 \nL 21 0 \nL 10.6875 0 \nz\n\" id=\"DejaVuSans-46\"/>\n       </defs>\n       <use xlink:href=\"#DejaVuSans-48\"/>\n       <use x=\"63.623047\" xlink:href=\"#DejaVuSans-46\"/>\n       <use x=\"95.410156\" xlink:href=\"#DejaVuSans-48\"/>\n      </g>\n     </g>\n    </g>\n    <g id=\"xtick_2\">\n     <g id=\"line2d_2\">\n      <g>\n       <use style=\"stroke:#000000;stroke-width:0.8;\" x=\"102.426654\" xlink:href=\"#m6936080af7\" y=\"229.199062\"/>\n      </g>\n     </g>\n     <g id=\"text_2\">\n      <!-- 2.5 -->\n      <g transform=\"translate(92.884779 245.317187)scale(0.12 -0.12)\">\n       <defs>\n        <path d=\"M 19.1875 8.296875 \nL 53.609375 8.296875 \nL 53.609375 0 \nL 7.328125 0 \nL 7.328125 8.296875 \nQ 12.9375 14.109375 22.625 23.890625 \nQ 32.328125 33.6875 34.8125 36.53125 \nQ 39.546875 41.84375 41.421875 45.53125 \nQ 43.3125 49.21875 43.3125 52.78125 \nQ 43.3125 58.59375 39.234375 62.25 \nQ 35.15625 65.921875 28.609375 65.921875 \nQ 23.96875 65.921875 18.8125 64.3125 \nQ 13.671875 62.703125 7.8125 59.421875 \nL 7.8125 69.390625 \nQ 13.765625 71.78125 18.9375 73 \nQ 24.125 74.21875 28.421875 74.21875 \nQ 39.75 74.21875 46.484375 68.546875 \nQ 53.21875 62.890625 53.21875 53.421875 \nQ 53.21875 48.921875 51.53125 44.890625 \nQ 49.859375 40.875 45.40625 35.40625 \nQ 44.1875 33.984375 37.640625 27.21875 \nQ 31.109375 20.453125 19.1875 8.296875 \nz\n\" id=\"DejaVuSans-50\"/>\n        <path d=\"M 10.796875 72.90625 \nL 49.515625 72.90625 \nL 49.515625 64.59375 \nL 19.828125 64.59375 \nL 19.828125 46.734375 \nQ 21.96875 47.46875 24.109375 47.828125 \nQ 26.265625 48.1875 28.421875 48.1875 \nQ 40.625 48.1875 47.75 41.5 \nQ 54.890625 34.8125 54.890625 23.390625 \nQ 54.890625 11.625 47.5625 5.09375 \nQ 40.234375 -1.421875 26.90625 -1.421875 \nQ 22.3125 -1.421875 17.546875 -0.640625 \nQ 12.796875 0.140625 7.71875 1.703125 \nL 7.71875 11.625 \nQ 12.109375 9.234375 16.796875 8.0625 \nQ 21.484375 6.890625 26.703125 6.890625 \nQ 35.15625 6.890625 40.078125 11.328125 \nQ 45.015625 15.765625 45.015625 23.390625 \nQ 45.015625 31 40.078125 35.4375 \nQ 35.15625 39.890625 26.703125 39.890625 \nQ 22.75 39.890625 18.8125 39.015625 \nQ 14.890625 38.140625 10.796875 36.28125 \nz\n\" id=\"DejaVuSans-53\"/>\n       </defs>\n       <use xlink:href=\"#DejaVuSans-50\"/>\n       <use x=\"63.623047\" xlink:href=\"#DejaVuSans-46\"/>\n       <use x=\"95.410156\" xlink:href=\"#DejaVuSans-53\"/>\n      </g>\n     </g>\n    </g>\n    <g id=\"xtick_3\">\n     <g id=\"line2d_3\">\n      <g>\n       <use style=\"stroke:#000000;stroke-width:0.8;\" x=\"142.474501\" xlink:href=\"#m6936080af7\" y=\"229.199062\"/>\n      </g>\n     </g>\n     <g id=\"text_3\">\n      <!-- 5.0 -->\n      <g transform=\"translate(132.932626 245.317187)scale(0.12 -0.12)\">\n       <use xlink:href=\"#DejaVuSans-53\"/>\n       <use x=\"63.623047\" xlink:href=\"#DejaVuSans-46\"/>\n       <use x=\"95.410156\" xlink:href=\"#DejaVuSans-48\"/>\n      </g>\n     </g>\n    </g>\n    <g id=\"xtick_4\">\n     <g id=\"line2d_4\">\n      <g>\n       <use style=\"stroke:#000000;stroke-width:0.8;\" x=\"182.522347\" xlink:href=\"#m6936080af7\" y=\"229.199062\"/>\n      </g>\n     </g>\n     <g id=\"text_4\">\n      <!-- 7.5 -->\n      <g transform=\"translate(172.980472 245.317187)scale(0.12 -0.12)\">\n       <defs>\n        <path d=\"M 8.203125 72.90625 \nL 55.078125 72.90625 \nL 55.078125 68.703125 \nL 28.609375 0 \nL 18.3125 0 \nL 43.21875 64.59375 \nL 8.203125 64.59375 \nz\n\" id=\"DejaVuSans-55\"/>\n       </defs>\n       <use xlink:href=\"#DejaVuSans-55\"/>\n       <use x=\"63.623047\" xlink:href=\"#DejaVuSans-46\"/>\n       <use x=\"95.410156\" xlink:href=\"#DejaVuSans-53\"/>\n      </g>\n     </g>\n    </g>\n    <g id=\"xtick_5\">\n     <g id=\"line2d_5\">\n      <g>\n       <use style=\"stroke:#000000;stroke-width:0.8;\" x=\"222.570194\" xlink:href=\"#m6936080af7\" y=\"229.199062\"/>\n      </g>\n     </g>\n     <g id=\"text_5\">\n      <!-- 10.0 -->\n      <g transform=\"translate(209.210819 245.317187)scale(0.12 -0.12)\">\n       <defs>\n        <path d=\"M 12.40625 8.296875 \nL 28.515625 8.296875 \nL 28.515625 63.921875 \nL 10.984375 60.40625 \nL 10.984375 69.390625 \nL 28.421875 72.90625 \nL 38.28125 72.90625 \nL 38.28125 8.296875 \nL 54.390625 8.296875 \nL 54.390625 0 \nL 12.40625 0 \nz\n\" id=\"DejaVuSans-49\"/>\n       </defs>\n       <use xlink:href=\"#DejaVuSans-49\"/>\n       <use x=\"63.623047\" xlink:href=\"#DejaVuSans-48\"/>\n       <use x=\"127.246094\" xlink:href=\"#DejaVuSans-46\"/>\n       <use x=\"159.033203\" xlink:href=\"#DejaVuSans-48\"/>\n      </g>\n     </g>\n    </g>\n    <g id=\"xtick_6\">\n     <g id=\"line2d_6\">\n      <g>\n       <use style=\"stroke:#000000;stroke-width:0.8;\" x=\"262.618041\" xlink:href=\"#m6936080af7\" y=\"229.199062\"/>\n      </g>\n     </g>\n     <g id=\"text_6\">\n      <!-- 12.5 -->\n      <g transform=\"translate(249.258666 245.317187)scale(0.12 -0.12)\">\n       <use xlink:href=\"#DejaVuSans-49\"/>\n       <use x=\"63.623047\" xlink:href=\"#DejaVuSans-50\"/>\n       <use x=\"127.246094\" xlink:href=\"#DejaVuSans-46\"/>\n       <use x=\"159.033203\" xlink:href=\"#DejaVuSans-53\"/>\n      </g>\n     </g>\n    </g>\n    <g id=\"xtick_7\">\n     <g id=\"line2d_7\">\n      <g>\n       <use style=\"stroke:#000000;stroke-width:0.8;\" x=\"302.665888\" xlink:href=\"#m6936080af7\" y=\"229.199062\"/>\n      </g>\n     </g>\n     <g id=\"text_7\">\n      <!-- 15.0 -->\n      <g transform=\"translate(289.306513 245.317187)scale(0.12 -0.12)\">\n       <use xlink:href=\"#DejaVuSans-49\"/>\n       <use x=\"63.623047\" xlink:href=\"#DejaVuSans-53\"/>\n       <use x=\"127.246094\" xlink:href=\"#DejaVuSans-46\"/>\n       <use x=\"159.033203\" xlink:href=\"#DejaVuSans-48\"/>\n      </g>\n     </g>\n    </g>\n    <g id=\"xtick_8\">\n     <g id=\"line2d_8\">\n      <g>\n       <use style=\"stroke:#000000;stroke-width:0.8;\" x=\"342.713735\" xlink:href=\"#m6936080af7\" y=\"229.199062\"/>\n      </g>\n     </g>\n     <g id=\"text_8\">\n      <!-- 17.5 -->\n      <g transform=\"translate(329.35436 245.317187)scale(0.12 -0.12)\">\n       <use xlink:href=\"#DejaVuSans-49\"/>\n       <use x=\"63.623047\" xlink:href=\"#DejaVuSans-55\"/>\n       <use x=\"127.246094\" xlink:href=\"#DejaVuSans-46\"/>\n       <use x=\"159.033203\" xlink:href=\"#DejaVuSans-53\"/>\n      </g>\n     </g>\n    </g>\n   </g>\n   <g id=\"matplotlib.axis_2\">\n    <g id=\"ytick_1\">\n     <g id=\"line2d_9\">\n      <defs>\n       <path d=\"M 0 0 \nL -3.5 0 \n\" id=\"mdd396dfd4a\" style=\"stroke:#000000;stroke-width:0.8;\"/>\n      </defs>\n      <g>\n       <use style=\"stroke:#000000;stroke-width:0.8;\" x=\"47.160625\" xlink:href=\"#mdd396dfd4a\" y=\"229.199062\"/>\n      </g>\n     </g>\n     <g id=\"text_9\">\n      <!-- −300 -->\n      <g transform=\"translate(7.2 233.758125)scale(0.12 -0.12)\">\n       <defs>\n        <path d=\"M 10.59375 35.5 \nL 73.1875 35.5 \nL 73.1875 27.203125 \nL 10.59375 27.203125 \nz\n\" id=\"DejaVuSans-8722\"/>\n        <path d=\"M 40.578125 39.3125 \nQ 47.65625 37.796875 51.625 33 \nQ 55.609375 28.21875 55.609375 21.1875 \nQ 55.609375 10.40625 48.1875 4.484375 \nQ 40.765625 -1.421875 27.09375 -1.421875 \nQ 22.515625 -1.421875 17.65625 -0.515625 \nQ 12.796875 0.390625 7.625 2.203125 \nL 7.625 11.71875 \nQ 11.71875 9.328125 16.59375 8.109375 \nQ 21.484375 6.890625 26.8125 6.890625 \nQ 36.078125 6.890625 40.9375 10.546875 \nQ 45.796875 14.203125 45.796875 21.1875 \nQ 45.796875 27.640625 41.28125 31.265625 \nQ 36.765625 34.90625 28.71875 34.90625 \nL 20.21875 34.90625 \nL 20.21875 43.015625 \nL 29.109375 43.015625 \nQ 36.375 43.015625 40.234375 45.921875 \nQ 44.09375 48.828125 44.09375 54.296875 \nQ 44.09375 59.90625 40.109375 62.90625 \nQ 36.140625 65.921875 28.71875 65.921875 \nQ 24.65625 65.921875 20.015625 65.03125 \nQ 15.375 64.15625 9.8125 62.3125 \nL 9.8125 71.09375 \nQ 15.4375 72.65625 20.34375 73.4375 \nQ 25.25 74.21875 29.59375 74.21875 \nQ 40.828125 74.21875 47.359375 69.109375 \nQ 53.90625 64.015625 53.90625 55.328125 \nQ 53.90625 49.265625 50.4375 45.09375 \nQ 46.96875 40.921875 40.578125 39.3125 \nz\n\" id=\"DejaVuSans-51\"/>\n       </defs>\n       <use xlink:href=\"#DejaVuSans-8722\"/>\n       <use x=\"83.789062\" xlink:href=\"#DejaVuSans-51\"/>\n       <use x=\"147.412109\" xlink:href=\"#DejaVuSans-48\"/>\n       <use x=\"211.035156\" xlink:href=\"#DejaVuSans-48\"/>\n      </g>\n     </g>\n    </g>\n    <g id=\"ytick_2\">\n     <g id=\"line2d_10\">\n      <g>\n       <use style=\"stroke:#000000;stroke-width:0.8;\" x=\"47.160625\" xlink:href=\"#mdd396dfd4a\" y=\"202.019063\"/>\n      </g>\n     </g>\n     <g id=\"text_10\">\n      <!-- −250 -->\n      <g transform=\"translate(7.2 206.578125)scale(0.12 -0.12)\">\n       <use xlink:href=\"#DejaVuSans-8722\"/>\n       <use x=\"83.789062\" xlink:href=\"#DejaVuSans-50\"/>\n       <use x=\"147.412109\" xlink:href=\"#DejaVuSans-53\"/>\n       <use x=\"211.035156\" xlink:href=\"#DejaVuSans-48\"/>\n      </g>\n     </g>\n    </g>\n    <g id=\"ytick_3\">\n     <g id=\"line2d_11\">\n      <g>\n       <use style=\"stroke:#000000;stroke-width:0.8;\" x=\"47.160625\" xlink:href=\"#mdd396dfd4a\" y=\"174.839063\"/>\n      </g>\n     </g>\n     <g id=\"text_11\">\n      <!-- −200 -->\n      <g transform=\"translate(7.2 179.398125)scale(0.12 -0.12)\">\n       <use xlink:href=\"#DejaVuSans-8722\"/>\n       <use x=\"83.789062\" xlink:href=\"#DejaVuSans-50\"/>\n       <use x=\"147.412109\" xlink:href=\"#DejaVuSans-48\"/>\n       <use x=\"211.035156\" xlink:href=\"#DejaVuSans-48\"/>\n      </g>\n     </g>\n    </g>\n    <g id=\"ytick_4\">\n     <g id=\"line2d_12\">\n      <g>\n       <use style=\"stroke:#000000;stroke-width:0.8;\" x=\"47.160625\" xlink:href=\"#mdd396dfd4a\" y=\"147.659063\"/>\n      </g>\n     </g>\n     <g id=\"text_12\">\n      <!-- −150 -->\n      <g transform=\"translate(7.2 152.218125)scale(0.12 -0.12)\">\n       <use xlink:href=\"#DejaVuSans-8722\"/>\n       <use x=\"83.789062\" xlink:href=\"#DejaVuSans-49\"/>\n       <use x=\"147.412109\" xlink:href=\"#DejaVuSans-53\"/>\n       <use x=\"211.035156\" xlink:href=\"#DejaVuSans-48\"/>\n      </g>\n     </g>\n    </g>\n    <g id=\"ytick_5\">\n     <g id=\"line2d_13\">\n      <g>\n       <use style=\"stroke:#000000;stroke-width:0.8;\" x=\"47.160625\" xlink:href=\"#mdd396dfd4a\" y=\"120.479063\"/>\n      </g>\n     </g>\n     <g id=\"text_13\">\n      <!-- −100 -->\n      <g transform=\"translate(7.2 125.038125)scale(0.12 -0.12)\">\n       <use xlink:href=\"#DejaVuSans-8722\"/>\n       <use x=\"83.789062\" xlink:href=\"#DejaVuSans-49\"/>\n       <use x=\"147.412109\" xlink:href=\"#DejaVuSans-48\"/>\n       <use x=\"211.035156\" xlink:href=\"#DejaVuSans-48\"/>\n      </g>\n     </g>\n    </g>\n    <g id=\"ytick_6\">\n     <g id=\"line2d_14\">\n      <g>\n       <use style=\"stroke:#000000;stroke-width:0.8;\" x=\"47.160625\" xlink:href=\"#mdd396dfd4a\" y=\"93.299063\"/>\n      </g>\n     </g>\n     <g id=\"text_14\">\n      <!-- −50 -->\n      <g transform=\"translate(14.835 97.858125)scale(0.12 -0.12)\">\n       <use xlink:href=\"#DejaVuSans-8722\"/>\n       <use x=\"83.789062\" xlink:href=\"#DejaVuSans-53\"/>\n       <use x=\"147.412109\" xlink:href=\"#DejaVuSans-48\"/>\n      </g>\n     </g>\n    </g>\n    <g id=\"ytick_7\">\n     <g id=\"line2d_15\">\n      <g>\n       <use style=\"stroke:#000000;stroke-width:0.8;\" x=\"47.160625\" xlink:href=\"#mdd396dfd4a\" y=\"66.119063\"/>\n      </g>\n     </g>\n     <g id=\"text_15\">\n      <!-- 0 -->\n      <g transform=\"translate(32.525625 70.678125)scale(0.12 -0.12)\">\n       <use xlink:href=\"#DejaVuSans-48\"/>\n      </g>\n     </g>\n    </g>\n    <g id=\"ytick_8\">\n     <g id=\"line2d_16\">\n      <g>\n       <use style=\"stroke:#000000;stroke-width:0.8;\" x=\"47.160625\" xlink:href=\"#mdd396dfd4a\" y=\"38.939063\"/>\n      </g>\n     </g>\n     <g id=\"text_16\">\n      <!-- 50 -->\n      <g transform=\"translate(24.890625 43.498125)scale(0.12 -0.12)\">\n       <use xlink:href=\"#DejaVuSans-53\"/>\n       <use x=\"63.623047\" xlink:href=\"#DejaVuSans-48\"/>\n      </g>\n     </g>\n    </g>\n    <g id=\"ytick_9\">\n     <g id=\"line2d_17\">\n      <g>\n       <use style=\"stroke:#000000;stroke-width:0.8;\" x=\"47.160625\" xlink:href=\"#mdd396dfd4a\" y=\"11.759063\"/>\n      </g>\n     </g>\n     <g id=\"text_17\">\n      <!-- 100 -->\n      <g transform=\"translate(17.255625 16.318125)scale(0.12 -0.12)\">\n       <use xlink:href=\"#DejaVuSans-49\"/>\n       <use x=\"63.623047\" xlink:href=\"#DejaVuSans-48\"/>\n       <use x=\"127.246094\" xlink:href=\"#DejaVuSans-48\"/>\n      </g>\n     </g>\n    </g>\n   </g>\n   <g id=\"patch_3\">\n    <path d=\"M 47.160625 229.199062 \nL 47.160625 11.759063 \n\" style=\"fill:none;stroke:#000000;stroke-linecap:square;stroke-linejoin:miter;stroke-width:0.8;\"/>\n   </g>\n   <g id=\"patch_4\">\n    <path d=\"M 381.960625 229.199062 \nL 381.960625 11.759063 \n\" style=\"fill:none;stroke:#000000;stroke-linecap:square;stroke-linejoin:miter;stroke-width:0.8;\"/>\n   </g>\n   <g id=\"patch_5\">\n    <path d=\"M 47.160625 229.199062 \nL 381.960625 229.199062 \n\" style=\"fill:none;stroke:#000000;stroke-linecap:square;stroke-linejoin:miter;stroke-width:0.8;\"/>\n   </g>\n   <g id=\"patch_6\">\n    <path d=\"M 47.160625 11.759062 \nL 381.960625 11.759062 \n\" style=\"fill:none;stroke:#000000;stroke-linecap:square;stroke-linejoin:miter;stroke-width:0.8;\"/>\n   </g>\n  </g>\n </g>\n <defs>\n  <clipPath id=\"p92272b6d7d\">\n   <rect height=\"217.44\" width=\"334.8\" x=\"47.160625\" y=\"11.759062\"/>\n  </clipPath>\n </defs>\n</svg>\n",
      "image/png": "[encoded data removed]"
     },
     "metadata": {
      "needs_background": "light"
     }
    }
   ],
   "source": [
    "show_preds(preds)"
   ]
  },
  {
   "cell_type": "markdown",
   "metadata": {},
   "source": [
    "We define a new function that executes the steps that will be repeated:"
   ]
  },
  {
   "cell_type": "code",
   "execution_count": 35,
   "metadata": {},
   "outputs": [],
   "source": [
    "def apply_step(params, prn=True):\n",
    "    preds = f(time, params)\n",
    "    loss = mse(preds, speed)\n",
    "    loss.backward()\n",
    "    params.data -= lr * params.grad.data\n",
    "    params.grad = None\n",
    "    if prn: print(loss.item())\n",
    "    return preds"
   ]
  },
  {
   "cell_type": "code",
   "execution_count": null,
   "metadata": {},
   "outputs": [],
   "source": [
    "**Step 6** Repeat the process:"
   ]
  },
  {
   "cell_type": "code",
   "execution_count": 36,
   "metadata": {
    "tags": []
   },
   "outputs": [
    {
     "output_type": "stream",
     "name": "stdout",
     "text": "3842.20263671875\n1283.4613037109375\n799.2611694335938\n707.6275024414062\n690.2796020507812\n686.9886474609375\n686.3577270507812\n686.2302856445312\n686.1979370117188\n686.1837158203125\n"
    }
   ],
   "source": [
    "for i in range(10): apply_step(params)"
   ]
  },
  {
   "cell_type": "code",
   "execution_count": 37,
   "metadata": {},
   "outputs": [],
   "source": [
    "params = orig_params.detach().requires_grad_()"
   ]
  },
  {
   "cell_type": "code",
   "execution_count": 38,
   "metadata": {},
   "outputs": [
    {
     "output_type": "display_data",
     "data": {
      "text/plain": "<Figure size 864x216 with 4 Axes>",
      "image/svg+xml": "<?xml version=\"1.0\" encoding=\"utf-8\" standalone=\"no\"?>\n<!DOCTYPE svg PUBLIC \"-//W3C//DTD SVG 1.1//EN\"\n  \"http://www.w3.org/Graphics/SVG/1.1/DTD/svg11.dtd\">\n<!-- Created with matplotlib (https://matplotlib.org/) -->\n<svg height=\"202.652812pt\" version=\"1.1\" viewBox=\"0 0 852.815625 202.652812\" width=\"852.815625pt\" xmlns=\"http://www.w3.org/2000/svg\" xmlns:xlink=\"http://www.w3.org/1999/xlink\">\n <metadata>\n  <rdf:RDF xmlns:cc=\"http://creativecommons.org/ns#\" xmlns:dc=\"http://purl.org/dc/elements/1.1/\" xmlns:rdf=\"http://www.w3.org/1999/02/22-rdf-syntax-ns#\">\n   <cc:Work>\n    <dc:type rdf:resource=\"http://purl.org/dc/dcmitype/StillImage\"/>\n    <dc:date>2020-09-10T11:59:01.899479</dc:date>\n    <dc:format>image/svg+xml</dc:format>\n    <dc:creator>\n     <cc:Agent>\n      <dc:title>Matplotlib v3.3.0, https://matplotlib.org/</dc:title>\n     </cc:Agent>\n    </dc:creator>\n   </cc:Work>\n  </rdf:RDF>\n </metadata>\n <defs>\n  <style type=\"text/css\">*{stroke-linecap:butt;stroke-linejoin:round;}</style>\n </defs>\n <g id=\"figure_1\">\n  <g id=\"patch_1\">\n   <path d=\"M 0 202.652812 \nL 852.815625 202.652812 \nL 852.815625 0 \nL 0 0 \nz\n\" style=\"fill:none;\"/>\n  </g>\n  <g id=\"axes_1\">\n   <g id=\"patch_2\">\n    <path d=\"M 47.160625 176.839062 \nL 207.335625 176.839062 \nL 207.335625 11.759062 \nL 47.160625 11.759062 \nz\n\" style=\"fill:#ffffff;\"/>\n   </g>\n   <g id=\"PathCollection_1\">\n    <defs>\n     <path d=\"M 0 3 \nC 0.795609 3 1.55874 2.683901 2.12132 2.12132 \nC 2.683901 1.55874 3 0.795609 3 0 \nC 3 -0.795609 2.683901 -1.55874 2.12132 -2.12132 \nC 1.55874 -2.683901 0.795609 -3 0 -3 \nC -0.795609 -3 -1.55874 -2.683901 -2.12132 -2.12132 \nC -2.683901 -1.55874 -3 -0.795609 -3 0 \nC -3 0.795609 -2.683901 1.55874 -2.12132 2.12132 \nC -1.55874 2.683901 -0.795609 3 0 3 \nz\n\" id=\"m0175ba2fde\" style=\"stroke:#1f77b4;\"/>\n    </defs>\n    <g clip-path=\"url(#pb9a7bfd0a1)\">\n     <use style=\"fill:#1f77b4;stroke:#1f77b4;\" x=\"54.441307\" xlink:href=\"#m0175ba2fde\" y=\"23.782653\"/>\n     <use style=\"fill:#1f77b4;stroke:#1f77b4;\" x=\"62.105182\" xlink:href=\"#m0175ba2fde\" y=\"30.140326\"/>\n     <use style=\"fill:#1f77b4;stroke:#1f77b4;\" x=\"69.769058\" xlink:href=\"#m0175ba2fde\" y=\"35.687282\"/>\n     <use style=\"fill:#1f77b4;stroke:#1f77b4;\" x=\"77.432934\" xlink:href=\"#m0175ba2fde\" y=\"38.885319\"/>\n     <use style=\"fill:#1f77b4;stroke:#1f77b4;\" x=\"85.096809\" xlink:href=\"#m0175ba2fde\" y=\"43.700074\"/>\n     <use style=\"fill:#1f77b4;stroke:#1f77b4;\" x=\"92.760685\" xlink:href=\"#m0175ba2fde\" y=\"46.423498\"/>\n     <use style=\"fill:#1f77b4;stroke:#1f77b4;\" x=\"100.42456\" xlink:href=\"#m0175ba2fde\" y=\"48.733984\"/>\n     <use style=\"fill:#1f77b4;stroke:#1f77b4;\" x=\"108.088436\" xlink:href=\"#m0175ba2fde\" y=\"49.668257\"/>\n     <use style=\"fill:#1f77b4;stroke:#1f77b4;\" x=\"115.752312\" xlink:href=\"#m0175ba2fde\" y=\"50.086957\"/>\n     <use style=\"fill:#1f77b4;stroke:#1f77b4;\" x=\"123.416187\" xlink:href=\"#m0175ba2fde\" y=\"52.111924\"/>\n     <use style=\"fill:#1f77b4;stroke:#1f77b4;\" x=\"131.080063\" xlink:href=\"#m0175ba2fde\" y=\"54.302192\"/>\n     <use style=\"fill:#1f77b4;stroke:#1f77b4;\" x=\"138.743938\" xlink:href=\"#m0175ba2fde\" y=\"52.063954\"/>\n     <use style=\"fill:#1f77b4;stroke:#1f77b4;\" x=\"146.407814\" xlink:href=\"#m0175ba2fde\" y=\"50.412479\"/>\n     <use style=\"fill:#1f77b4;stroke:#1f77b4;\" x=\"154.07169\" xlink:href=\"#m0175ba2fde\" y=\"48.882445\"/>\n     <use style=\"fill:#1f77b4;stroke:#1f77b4;\" x=\"161.735565\" xlink:href=\"#m0175ba2fde\" y=\"48.123324\"/>\n     <use style=\"fill:#1f77b4;stroke:#1f77b4;\" x=\"169.399441\" xlink:href=\"#m0175ba2fde\" y=\"43.954648\"/>\n     <use style=\"fill:#1f77b4;stroke:#1f77b4;\" x=\"177.063316\" xlink:href=\"#m0175ba2fde\" y=\"40.065475\"/>\n     <use style=\"fill:#1f77b4;stroke:#1f77b4;\" x=\"184.727192\" xlink:href=\"#m0175ba2fde\" y=\"34.880557\"/>\n     <use style=\"fill:#1f77b4;stroke:#1f77b4;\" x=\"192.391068\" xlink:href=\"#m0175ba2fde\" y=\"32.03496\"/>\n     <use style=\"fill:#1f77b4;stroke:#1f77b4;\" x=\"200.054943\" xlink:href=\"#m0175ba2fde\" y=\"24.036207\"/>\n    </g>\n   </g>\n   <g id=\"PathCollection_2\">\n    <defs>\n     <path d=\"M 0 3 \nC 0.795609 3 1.55874 2.683901 2.12132 2.12132 \nC 2.683901 1.55874 3 0.795609 3 0 \nC 3 -0.795609 2.683901 -1.55874 2.12132 -2.12132 \nC 1.55874 -2.683901 0.795609 -3 0 -3 \nC -0.795609 -3 -1.55874 -2.683901 -2.12132 -2.12132 \nC -2.683901 -1.55874 -3 -0.795609 -3 0 \nC -3 0.795609 -2.683901 1.55874 -2.12132 2.12132 \nC -1.55874 2.683901 -0.795609 3 0 3 \nz\n\" id=\"m5442ae28a3\" style=\"stroke:#ff0000;\"/>\n    </defs>\n    <g clip-path=\"url(#pb9a7bfd0a1)\">\n     <use style=\"fill:#ff0000;stroke:#ff0000;\" x=\"54.441307\" xlink:href=\"#m5442ae28a3\" y=\"53.252986\"/>\n     <use style=\"fill:#ff0000;stroke:#ff0000;\" x=\"62.105182\" xlink:href=\"#m5442ae28a3\" y=\"53.392667\"/>\n     <use style=\"fill:#ff0000;stroke:#ff0000;\" x=\"69.769058\" xlink:href=\"#m5442ae28a3\" y=\"52.714179\"/>\n     <use style=\"fill:#ff0000;stroke:#ff0000;\" x=\"77.432934\" xlink:href=\"#m5442ae28a3\" y=\"51.217524\"/>\n     <use style=\"fill:#ff0000;stroke:#ff0000;\" x=\"85.096809\" xlink:href=\"#m5442ae28a3\" y=\"48.902701\"/>\n     <use style=\"fill:#ff0000;stroke:#ff0000;\" x=\"92.760685\" xlink:href=\"#m5442ae28a3\" y=\"45.76971\"/>\n     <use style=\"fill:#ff0000;stroke:#ff0000;\" x=\"100.42456\" xlink:href=\"#m5442ae28a3\" y=\"41.818553\"/>\n     <use style=\"fill:#ff0000;stroke:#ff0000;\" x=\"108.088436\" xlink:href=\"#m5442ae28a3\" y=\"37.049227\"/>\n     <use style=\"fill:#ff0000;stroke:#ff0000;\" x=\"115.752312\" xlink:href=\"#m5442ae28a3\" y=\"31.461734\"/>\n     <use style=\"fill:#ff0000;stroke:#ff0000;\" x=\"123.416187\" xlink:href=\"#m5442ae28a3\" y=\"25.056071\"/>\n     <use style=\"fill:#ff0000;stroke:#ff0000;\" x=\"131.080063\" xlink:href=\"#m5442ae28a3\" y=\"17.832241\"/>\n     <use style=\"fill:#ff0000;stroke:#ff0000;\" x=\"138.743938\" xlink:href=\"#m5442ae28a3\" y=\"9.790249\"/>\n     <use style=\"fill:#ff0000;stroke:#ff0000;\" x=\"146.407814\" xlink:href=\"#m5442ae28a3\" y=\"0.930083\"/>\n     <use style=\"fill:#ff0000;stroke:#ff0000;\" x=\"147.936168\" xlink:href=\"#m5442ae28a3\" y=\"-1\"/>\n    </g>\n   </g>\n   <g id=\"matplotlib.axis_1\">\n    <g id=\"xtick_1\">\n     <g id=\"line2d_1\">\n      <defs>\n       <path d=\"M 0 0 \nL 0 3.5 \n\" id=\"m4a724d31ec\" style=\"stroke:#000000;stroke-width:0.8;\"/>\n      </defs>\n      <g>\n       <use style=\"stroke:#000000;stroke-width:0.8;\" x=\"54.441307\" xlink:href=\"#m4a724d31ec\" y=\"176.839062\"/>\n      </g>\n     </g>\n     <g id=\"text_1\">\n      <!-- 0 -->\n      <g transform=\"translate(50.623807 192.957187)scale(0.12 -0.12)\">\n       <defs>\n        <path d=\"M 31.78125 66.40625 \nQ 24.171875 66.40625 20.328125 58.90625 \nQ 16.5 51.421875 16.5 36.375 \nQ 16.5 21.390625 20.328125 13.890625 \nQ 24.171875 6.390625 31.78125 6.390625 \nQ 39.453125 6.390625 43.28125 13.890625 \nQ 47.125 21.390625 47.125 36.375 \nQ 47.125 51.421875 43.28125 58.90625 \nQ 39.453125 66.40625 31.78125 66.40625 \nz\nM 31.78125 74.21875 \nQ 44.046875 74.21875 50.515625 64.515625 \nQ 56.984375 54.828125 56.984375 36.375 \nQ 56.984375 17.96875 50.515625 8.265625 \nQ 44.046875 -1.421875 31.78125 -1.421875 \nQ 19.53125 -1.421875 13.0625 8.265625 \nQ 6.59375 17.96875 6.59375 36.375 \nQ 6.59375 54.828125 13.0625 64.515625 \nQ 19.53125 74.21875 31.78125 74.21875 \nz\n\" id=\"DejaVuSans-48\"/>\n       </defs>\n       <use xlink:href=\"#DejaVuSans-48\"/>\n      </g>\n     </g>\n    </g>\n    <g id=\"xtick_2\">\n     <g id=\"line2d_2\">\n      <g>\n       <use style=\"stroke:#000000;stroke-width:0.8;\" x=\"131.080063\" xlink:href=\"#m4a724d31ec\" y=\"176.839062\"/>\n      </g>\n     </g>\n     <g id=\"text_2\">\n      <!-- 10 -->\n      <g transform=\"translate(123.445063 192.957187)scale(0.12 -0.12)\">\n       <defs>\n        <path d=\"M 12.40625 8.296875 \nL 28.515625 8.296875 \nL 28.515625 63.921875 \nL 10.984375 60.40625 \nL 10.984375 69.390625 \nL 28.421875 72.90625 \nL 38.28125 72.90625 \nL 38.28125 8.296875 \nL 54.390625 8.296875 \nL 54.390625 0 \nL 12.40625 0 \nz\n\" id=\"DejaVuSans-49\"/>\n       </defs>\n       <use xlink:href=\"#DejaVuSans-49\"/>\n       <use x=\"63.623047\" xlink:href=\"#DejaVuSans-48\"/>\n      </g>\n     </g>\n    </g>\n   </g>\n   <g id=\"matplotlib.axis_2\">\n    <g id=\"ytick_1\">\n     <g id=\"line2d_3\">\n      <defs>\n       <path d=\"M 0 0 \nL -3.5 0 \n\" id=\"mc58ee6787b\" style=\"stroke:#000000;stroke-width:0.8;\"/>\n      </defs>\n      <g>\n       <use style=\"stroke:#000000;stroke-width:0.8;\" x=\"47.160625\" xlink:href=\"#mc58ee6787b\" y=\"176.839062\"/>\n      </g>\n     </g>\n     <g id=\"text_3\">\n      <!-- −300 -->\n      <g transform=\"translate(7.2 181.398125)scale(0.12 -0.12)\">\n       <defs>\n        <path d=\"M 10.59375 35.5 \nL 73.1875 35.5 \nL 73.1875 27.203125 \nL 10.59375 27.203125 \nz\n\" id=\"DejaVuSans-8722\"/>\n        <path d=\"M 40.578125 39.3125 \nQ 47.65625 37.796875 51.625 33 \nQ 55.609375 28.21875 55.609375 21.1875 \nQ 55.609375 10.40625 48.1875 4.484375 \nQ 40.765625 -1.421875 27.09375 -1.421875 \nQ 22.515625 -1.421875 17.65625 -0.515625 \nQ 12.796875 0.390625 7.625 2.203125 \nL 7.625 11.71875 \nQ 11.71875 9.328125 16.59375 8.109375 \nQ 21.484375 6.890625 26.8125 6.890625 \nQ 36.078125 6.890625 40.9375 10.546875 \nQ 45.796875 14.203125 45.796875 21.1875 \nQ 45.796875 27.640625 41.28125 31.265625 \nQ 36.765625 34.90625 28.71875 34.90625 \nL 20.21875 34.90625 \nL 20.21875 43.015625 \nL 29.109375 43.015625 \nQ 36.375 43.015625 40.234375 45.921875 \nQ 44.09375 48.828125 44.09375 54.296875 \nQ 44.09375 59.90625 40.109375 62.90625 \nQ 36.140625 65.921875 28.71875 65.921875 \nQ 24.65625 65.921875 20.015625 65.03125 \nQ 15.375 64.15625 9.8125 62.3125 \nL 9.8125 71.09375 \nQ 15.4375 72.65625 20.34375 73.4375 \nQ 25.25 74.21875 29.59375 74.21875 \nQ 40.828125 74.21875 47.359375 69.109375 \nQ 53.90625 64.015625 53.90625 55.328125 \nQ 53.90625 49.265625 50.4375 45.09375 \nQ 46.96875 40.921875 40.578125 39.3125 \nz\n\" id=\"DejaVuSans-51\"/>\n       </defs>\n       <use xlink:href=\"#DejaVuSans-8722\"/>\n       <use x=\"83.789062\" xlink:href=\"#DejaVuSans-51\"/>\n       <use x=\"147.412109\" xlink:href=\"#DejaVuSans-48\"/>\n       <use x=\"211.035156\" xlink:href=\"#DejaVuSans-48\"/>\n      </g>\n     </g>\n    </g>\n    <g id=\"ytick_2\">\n     <g id=\"line2d_4\">\n      <g>\n       <use style=\"stroke:#000000;stroke-width:0.8;\" x=\"47.160625\" xlink:href=\"#mc58ee6787b\" y=\"135.569062\"/>\n      </g>\n     </g>\n     <g id=\"text_4\">\n      <!-- −200 -->\n      <g transform=\"translate(7.2 140.128125)scale(0.12 -0.12)\">\n       <defs>\n        <path d=\"M 19.1875 8.296875 \nL 53.609375 8.296875 \nL 53.609375 0 \nL 7.328125 0 \nL 7.328125 8.296875 \nQ 12.9375 14.109375 22.625 23.890625 \nQ 32.328125 33.6875 34.8125 36.53125 \nQ 39.546875 41.84375 41.421875 45.53125 \nQ 43.3125 49.21875 43.3125 52.78125 \nQ 43.3125 58.59375 39.234375 62.25 \nQ 35.15625 65.921875 28.609375 65.921875 \nQ 23.96875 65.921875 18.8125 64.3125 \nQ 13.671875 62.703125 7.8125 59.421875 \nL 7.8125 69.390625 \nQ 13.765625 71.78125 18.9375 73 \nQ 24.125 74.21875 28.421875 74.21875 \nQ 39.75 74.21875 46.484375 68.546875 \nQ 53.21875 62.890625 53.21875 53.421875 \nQ 53.21875 48.921875 51.53125 44.890625 \nQ 49.859375 40.875 45.40625 35.40625 \nQ 44.1875 33.984375 37.640625 27.21875 \nQ 31.109375 20.453125 19.1875 8.296875 \nz\n\" id=\"DejaVuSans-50\"/>\n       </defs>\n       <use xlink:href=\"#DejaVuSans-8722\"/>\n       <use x=\"83.789062\" xlink:href=\"#DejaVuSans-50\"/>\n       <use x=\"147.412109\" xlink:href=\"#DejaVuSans-48\"/>\n       <use x=\"211.035156\" xlink:href=\"#DejaVuSans-48\"/>\n      </g>\n     </g>\n    </g>\n    <g id=\"ytick_3\">\n     <g id=\"line2d_5\">\n      <g>\n       <use style=\"stroke:#000000;stroke-width:0.8;\" x=\"47.160625\" xlink:href=\"#mc58ee6787b\" y=\"94.299062\"/>\n      </g>\n     </g>\n     <g id=\"text_5\">\n      <!-- −100 -->\n      <g transform=\"translate(7.2 98.858125)scale(0.12 -0.12)\">\n       <use xlink:href=\"#DejaVuSans-8722\"/>\n       <use x=\"83.789062\" xlink:href=\"#DejaVuSans-49\"/>\n       <use x=\"147.412109\" xlink:href=\"#DejaVuSans-48\"/>\n       <use x=\"211.035156\" xlink:href=\"#DejaVuSans-48\"/>\n      </g>\n     </g>\n    </g>\n    <g id=\"ytick_4\">\n     <g id=\"line2d_6\">\n      <g>\n       <use style=\"stroke:#000000;stroke-width:0.8;\" x=\"47.160625\" xlink:href=\"#mc58ee6787b\" y=\"53.029062\"/>\n      </g>\n     </g>\n     <g id=\"text_6\">\n      <!-- 0 -->\n      <g transform=\"translate(32.525625 57.588125)scale(0.12 -0.12)\">\n       <use xlink:href=\"#DejaVuSans-48\"/>\n      </g>\n     </g>\n    </g>\n    <g id=\"ytick_5\">\n     <g id=\"line2d_7\">\n      <g>\n       <use style=\"stroke:#000000;stroke-width:0.8;\" x=\"47.160625\" xlink:href=\"#mc58ee6787b\" y=\"11.759062\"/>\n      </g>\n     </g>\n     <g id=\"text_7\">\n      <!-- 100 -->\n      <g transform=\"translate(17.255625 16.318125)scale(0.12 -0.12)\">\n       <use xlink:href=\"#DejaVuSans-49\"/>\n       <use x=\"63.623047\" xlink:href=\"#DejaVuSans-48\"/>\n       <use x=\"127.246094\" xlink:href=\"#DejaVuSans-48\"/>\n      </g>\n     </g>\n    </g>\n   </g>\n   <g id=\"patch_3\">\n    <path d=\"M 47.160625 176.839062 \nL 47.160625 11.759062 \n\" style=\"fill:none;stroke:#000000;stroke-linecap:square;stroke-linejoin:miter;stroke-width:0.8;\"/>\n   </g>\n   <g id=\"patch_4\">\n    <path d=\"M 207.335625 176.839062 \nL 207.335625 11.759062 \n\" style=\"fill:none;stroke:#000000;stroke-linecap:square;stroke-linejoin:miter;stroke-width:0.8;\"/>\n   </g>\n   <g id=\"patch_5\">\n    <path d=\"M 47.160625 176.839062 \nL 207.335625 176.839062 \n\" style=\"fill:none;stroke:#000000;stroke-linecap:square;stroke-linejoin:miter;stroke-width:0.8;\"/>\n   </g>\n   <g id=\"patch_6\">\n    <path d=\"M 47.160625 11.759062 \nL 207.335625 11.759062 \n\" style=\"fill:none;stroke:#000000;stroke-linecap:square;stroke-linejoin:miter;stroke-width:0.8;\"/>\n   </g>\n  </g>\n  <g id=\"axes_2\">\n   <g id=\"patch_7\">\n    <path d=\"M 259.920625 176.839062 \nL 420.095625 176.839062 \nL 420.095625 11.759062 \nL 259.920625 11.759062 \nz\n\" style=\"fill:#ffffff;\"/>\n   </g>\n   <g id=\"PathCollection_3\">\n    <g clip-path=\"url(#pd43f6fe3e1)\">\n     <use style=\"fill:#1f77b4;stroke:#1f77b4;\" x=\"267.201307\" xlink:href=\"#m0175ba2fde\" y=\"23.782653\"/>\n     <use style=\"fill:#1f77b4;stroke:#1f77b4;\" x=\"274.865182\" xlink:href=\"#m0175ba2fde\" y=\"30.140326\"/>\n     <use style=\"fill:#1f77b4;stroke:#1f77b4;\" x=\"282.529058\" xlink:href=\"#m0175ba2fde\" y=\"35.687282\"/>\n     <use style=\"fill:#1f77b4;stroke:#1f77b4;\" x=\"290.192934\" xlink:href=\"#m0175ba2fde\" y=\"38.885319\"/>\n     <use style=\"fill:#1f77b4;stroke:#1f77b4;\" x=\"297.856809\" xlink:href=\"#m0175ba2fde\" y=\"43.700074\"/>\n     <use style=\"fill:#1f77b4;stroke:#1f77b4;\" x=\"305.520685\" xlink:href=\"#m0175ba2fde\" y=\"46.423498\"/>\n     <use style=\"fill:#1f77b4;stroke:#1f77b4;\" x=\"313.18456\" xlink:href=\"#m0175ba2fde\" y=\"48.733984\"/>\n     <use style=\"fill:#1f77b4;stroke:#1f77b4;\" x=\"320.848436\" xlink:href=\"#m0175ba2fde\" y=\"49.668257\"/>\n     <use style=\"fill:#1f77b4;stroke:#1f77b4;\" x=\"328.512312\" xlink:href=\"#m0175ba2fde\" y=\"50.086957\"/>\n     <use style=\"fill:#1f77b4;stroke:#1f77b4;\" x=\"336.176187\" xlink:href=\"#m0175ba2fde\" y=\"52.111924\"/>\n     <use style=\"fill:#1f77b4;stroke:#1f77b4;\" x=\"343.840063\" xlink:href=\"#m0175ba2fde\" y=\"54.302192\"/>\n     <use style=\"fill:#1f77b4;stroke:#1f77b4;\" x=\"351.503938\" xlink:href=\"#m0175ba2fde\" y=\"52.063954\"/>\n     <use style=\"fill:#1f77b4;stroke:#1f77b4;\" x=\"359.167814\" xlink:href=\"#m0175ba2fde\" y=\"50.412479\"/>\n     <use style=\"fill:#1f77b4;stroke:#1f77b4;\" x=\"366.83169\" xlink:href=\"#m0175ba2fde\" y=\"48.882445\"/>\n     <use style=\"fill:#1f77b4;stroke:#1f77b4;\" x=\"374.495565\" xlink:href=\"#m0175ba2fde\" y=\"48.123324\"/>\n     <use style=\"fill:#1f77b4;stroke:#1f77b4;\" x=\"382.159441\" xlink:href=\"#m0175ba2fde\" y=\"43.954648\"/>\n     <use style=\"fill:#1f77b4;stroke:#1f77b4;\" x=\"389.823316\" xlink:href=\"#m0175ba2fde\" y=\"40.065475\"/>\n     <use style=\"fill:#1f77b4;stroke:#1f77b4;\" x=\"397.487192\" xlink:href=\"#m0175ba2fde\" y=\"34.880557\"/>\n     <use style=\"fill:#1f77b4;stroke:#1f77b4;\" x=\"405.151068\" xlink:href=\"#m0175ba2fde\" y=\"32.03496\"/>\n     <use style=\"fill:#1f77b4;stroke:#1f77b4;\" x=\"412.814943\" xlink:href=\"#m0175ba2fde\" y=\"24.036207\"/>\n    </g>\n   </g>\n   <g id=\"PathCollection_4\">\n    <g clip-path=\"url(#pd43f6fe3e1)\">\n     <use style=\"fill:#ff0000;stroke:#ff0000;\" x=\"267.201307\" xlink:href=\"#m5442ae28a3\" y=\"53.253675\"/>\n     <use style=\"fill:#ff0000;stroke:#ff0000;\" x=\"274.865182\" xlink:href=\"#m5442ae28a3\" y=\"53.583537\"/>\n     <use style=\"fill:#ff0000;stroke:#ff0000;\" x=\"282.529058\" xlink:href=\"#m5442ae28a3\" y=\"53.452823\"/>\n     <use style=\"fill:#ff0000;stroke:#ff0000;\" x=\"290.192934\" xlink:href=\"#m5442ae28a3\" y=\"52.861533\"/>\n     <use style=\"fill:#ff0000;stroke:#ff0000;\" x=\"297.856809\" xlink:href=\"#m5442ae28a3\" y=\"51.809667\"/>\n     <use style=\"fill:#ff0000;stroke:#ff0000;\" x=\"305.520685\" xlink:href=\"#m5442ae28a3\" y=\"50.297225\"/>\n     <use style=\"fill:#ff0000;stroke:#ff0000;\" x=\"313.18456\" xlink:href=\"#m5442ae28a3\" y=\"48.324207\"/>\n     <use style=\"fill:#ff0000;stroke:#ff0000;\" x=\"320.848436\" xlink:href=\"#m5442ae28a3\" y=\"45.890615\"/>\n     <use style=\"fill:#ff0000;stroke:#ff0000;\" x=\"328.512312\" xlink:href=\"#m5442ae28a3\" y=\"42.996444\"/>\n     <use style=\"fill:#ff0000;stroke:#ff0000;\" x=\"336.176187\" xlink:href=\"#m5442ae28a3\" y=\"39.641697\"/>\n     <use style=\"fill:#ff0000;stroke:#ff0000;\" x=\"343.840063\" xlink:href=\"#m5442ae28a3\" y=\"35.826376\"/>\n     <use style=\"fill:#ff0000;stroke:#ff0000;\" x=\"351.503938\" xlink:href=\"#m5442ae28a3\" y=\"31.550477\"/>\n     <use style=\"fill:#ff0000;stroke:#ff0000;\" x=\"359.167814\" xlink:href=\"#m5442ae28a3\" y=\"26.814004\"/>\n     <use style=\"fill:#ff0000;stroke:#ff0000;\" x=\"366.83169\" xlink:href=\"#m5442ae28a3\" y=\"21.616957\"/>\n     <use style=\"fill:#ff0000;stroke:#ff0000;\" x=\"374.495565\" xlink:href=\"#m5442ae28a3\" y=\"15.959332\"/>\n     <use style=\"fill:#ff0000;stroke:#ff0000;\" x=\"382.159441\" xlink:href=\"#m5442ae28a3\" y=\"9.841131\"/>\n     <use style=\"fill:#ff0000;stroke:#ff0000;\" x=\"389.823316\" xlink:href=\"#m5442ae28a3\" y=\"3.262352\"/>\n     <use style=\"fill:#ff0000;stroke:#ff0000;\" x=\"394.46382\" xlink:href=\"#m5442ae28a3\" y=\"-1\"/>\n    </g>\n   </g>\n   <g id=\"matplotlib.axis_3\">\n    <g id=\"xtick_3\">\n     <g id=\"line2d_8\">\n      <g>\n       <use style=\"stroke:#000000;stroke-width:0.8;\" x=\"267.201307\" xlink:href=\"#m4a724d31ec\" y=\"176.839062\"/>\n      </g>\n     </g>\n     <g id=\"text_8\">\n      <!-- 0 -->\n      <g transform=\"translate(263.383807 192.957187)scale(0.12 -0.12)\">\n       <use xlink:href=\"#DejaVuSans-48\"/>\n      </g>\n     </g>\n    </g>\n    <g id=\"xtick_4\">\n     <g id=\"line2d_9\">\n      <g>\n       <use style=\"stroke:#000000;stroke-width:0.8;\" x=\"343.840063\" xlink:href=\"#m4a724d31ec\" y=\"176.839062\"/>\n      </g>\n     </g>\n     <g id=\"text_9\">\n      <!-- 10 -->\n      <g transform=\"translate(336.205063 192.957187)scale(0.12 -0.12)\">\n       <use xlink:href=\"#DejaVuSans-49\"/>\n       <use x=\"63.623047\" xlink:href=\"#DejaVuSans-48\"/>\n      </g>\n     </g>\n    </g>\n   </g>\n   <g id=\"matplotlib.axis_4\">\n    <g id=\"ytick_6\">\n     <g id=\"line2d_10\">\n      <g>\n       <use style=\"stroke:#000000;stroke-width:0.8;\" x=\"259.920625\" xlink:href=\"#mc58ee6787b\" y=\"176.839062\"/>\n      </g>\n     </g>\n     <g id=\"text_10\">\n      <!-- −300 -->\n      <g transform=\"translate(219.96 181.398125)scale(0.12 -0.12)\">\n       <use xlink:href=\"#DejaVuSans-8722\"/>\n       <use x=\"83.789062\" xlink:href=\"#DejaVuSans-51\"/>\n       <use x=\"147.412109\" xlink:href=\"#DejaVuSans-48\"/>\n       <use x=\"211.035156\" xlink:href=\"#DejaVuSans-48\"/>\n      </g>\n     </g>\n    </g>\n    <g id=\"ytick_7\">\n     <g id=\"line2d_11\">\n      <g>\n       <use style=\"stroke:#000000;stroke-width:0.8;\" x=\"259.920625\" xlink:href=\"#mc58ee6787b\" y=\"135.569062\"/>\n      </g>\n     </g>\n     <g id=\"text_11\">\n      <!-- −200 -->\n      <g transform=\"translate(219.96 140.128125)scale(0.12 -0.12)\">\n       <use xlink:href=\"#DejaVuSans-8722\"/>\n       <use x=\"83.789062\" xlink:href=\"#DejaVuSans-50\"/>\n       <use x=\"147.412109\" xlink:href=\"#DejaVuSans-48\"/>\n       <use x=\"211.035156\" xlink:href=\"#DejaVuSans-48\"/>\n      </g>\n     </g>\n    </g>\n    <g id=\"ytick_8\">\n     <g id=\"line2d_12\">\n      <g>\n       <use style=\"stroke:#000000;stroke-width:0.8;\" x=\"259.920625\" xlink:href=\"#mc58ee6787b\" y=\"94.299062\"/>\n      </g>\n     </g>\n     <g id=\"text_12\">\n      <!-- −100 -->\n      <g transform=\"translate(219.96 98.858125)scale(0.12 -0.12)\">\n       <use xlink:href=\"#DejaVuSans-8722\"/>\n       <use x=\"83.789062\" xlink:href=\"#DejaVuSans-49\"/>\n       <use x=\"147.412109\" xlink:href=\"#DejaVuSans-48\"/>\n       <use x=\"211.035156\" xlink:href=\"#DejaVuSans-48\"/>\n      </g>\n     </g>\n    </g>\n    <g id=\"ytick_9\">\n     <g id=\"line2d_13\">\n      <g>\n       <use style=\"stroke:#000000;stroke-width:0.8;\" x=\"259.920625\" xlink:href=\"#mc58ee6787b\" y=\"53.029062\"/>\n      </g>\n     </g>\n     <g id=\"text_13\">\n      <!-- 0 -->\n      <g transform=\"translate(245.285625 57.588125)scale(0.12 -0.12)\">\n       <use xlink:href=\"#DejaVuSans-48\"/>\n      </g>\n     </g>\n    </g>\n    <g id=\"ytick_10\">\n     <g id=\"line2d_14\">\n      <g>\n       <use style=\"stroke:#000000;stroke-width:0.8;\" x=\"259.920625\" xlink:href=\"#mc58ee6787b\" y=\"11.759062\"/>\n      </g>\n     </g>\n     <g id=\"text_14\">\n      <!-- 100 -->\n      <g transform=\"translate(230.015625 16.318125)scale(0.12 -0.12)\">\n       <use xlink:href=\"#DejaVuSans-49\"/>\n       <use x=\"63.623047\" xlink:href=\"#DejaVuSans-48\"/>\n       <use x=\"127.246094\" xlink:href=\"#DejaVuSans-48\"/>\n      </g>\n     </g>\n    </g>\n   </g>\n   <g id=\"patch_8\">\n    <path d=\"M 259.920625 176.839062 \nL 259.920625 11.759062 \n\" style=\"fill:none;stroke:#000000;stroke-linecap:square;stroke-linejoin:miter;stroke-width:0.8;\"/>\n   </g>\n   <g id=\"patch_9\">\n    <path d=\"M 420.095625 176.839062 \nL 420.095625 11.759062 \n\" style=\"fill:none;stroke:#000000;stroke-linecap:square;stroke-linejoin:miter;stroke-width:0.8;\"/>\n   </g>\n   <g id=\"patch_10\">\n    <path d=\"M 259.920625 176.839062 \nL 420.095625 176.839062 \n\" style=\"fill:none;stroke:#000000;stroke-linecap:square;stroke-linejoin:miter;stroke-width:0.8;\"/>\n   </g>\n   <g id=\"patch_11\">\n    <path d=\"M 259.920625 11.759062 \nL 420.095625 11.759062 \n\" style=\"fill:none;stroke:#000000;stroke-linecap:square;stroke-linejoin:miter;stroke-width:0.8;\"/>\n   </g>\n  </g>\n  <g id=\"axes_3\">\n   <g id=\"patch_12\">\n    <path d=\"M 472.680625 176.839062 \nL 632.855625 176.839062 \nL 632.855625 11.759062 \nL 472.680625 11.759062 \nz\n\" style=\"fill:#ffffff;\"/>\n   </g>\n   <g id=\"PathCollection_5\">\n    <g clip-path=\"url(#pbded5ac9ca)\">\n     <use style=\"fill:#1f77b4;stroke:#1f77b4;\" x=\"479.961307\" xlink:href=\"#m0175ba2fde\" y=\"23.782653\"/>\n     <use style=\"fill:#1f77b4;stroke:#1f77b4;\" x=\"487.625182\" xlink:href=\"#m0175ba2fde\" y=\"30.140326\"/>\n     <use style=\"fill:#1f77b4;stroke:#1f77b4;\" x=\"495.289058\" xlink:href=\"#m0175ba2fde\" y=\"35.687282\"/>\n     <use style=\"fill:#1f77b4;stroke:#1f77b4;\" x=\"502.952934\" xlink:href=\"#m0175ba2fde\" y=\"38.885319\"/>\n     <use style=\"fill:#1f77b4;stroke:#1f77b4;\" x=\"510.616809\" xlink:href=\"#m0175ba2fde\" y=\"43.700074\"/>\n     <use style=\"fill:#1f77b4;stroke:#1f77b4;\" x=\"518.280685\" xlink:href=\"#m0175ba2fde\" y=\"46.423498\"/>\n     <use style=\"fill:#1f77b4;stroke:#1f77b4;\" x=\"525.94456\" xlink:href=\"#m0175ba2fde\" y=\"48.733984\"/>\n     <use style=\"fill:#1f77b4;stroke:#1f77b4;\" x=\"533.608436\" xlink:href=\"#m0175ba2fde\" y=\"49.668257\"/>\n     <use style=\"fill:#1f77b4;stroke:#1f77b4;\" x=\"541.272312\" xlink:href=\"#m0175ba2fde\" y=\"50.086957\"/>\n     <use style=\"fill:#1f77b4;stroke:#1f77b4;\" x=\"548.936187\" xlink:href=\"#m0175ba2fde\" y=\"52.111924\"/>\n     <use style=\"fill:#1f77b4;stroke:#1f77b4;\" x=\"556.600063\" xlink:href=\"#m0175ba2fde\" y=\"54.302192\"/>\n     <use style=\"fill:#1f77b4;stroke:#1f77b4;\" x=\"564.263938\" xlink:href=\"#m0175ba2fde\" y=\"52.063954\"/>\n     <use style=\"fill:#1f77b4;stroke:#1f77b4;\" x=\"571.927814\" xlink:href=\"#m0175ba2fde\" y=\"50.412479\"/>\n     <use style=\"fill:#1f77b4;stroke:#1f77b4;\" x=\"579.59169\" xlink:href=\"#m0175ba2fde\" y=\"48.882445\"/>\n     <use style=\"fill:#1f77b4;stroke:#1f77b4;\" x=\"587.255565\" xlink:href=\"#m0175ba2fde\" y=\"48.123324\"/>\n     <use style=\"fill:#1f77b4;stroke:#1f77b4;\" x=\"594.919441\" xlink:href=\"#m0175ba2fde\" y=\"43.954648\"/>\n     <use style=\"fill:#1f77b4;stroke:#1f77b4;\" x=\"602.583316\" xlink:href=\"#m0175ba2fde\" y=\"40.065475\"/>\n     <use style=\"fill:#1f77b4;stroke:#1f77b4;\" x=\"610.247192\" xlink:href=\"#m0175ba2fde\" y=\"34.880557\"/>\n     <use style=\"fill:#1f77b4;stroke:#1f77b4;\" x=\"617.911068\" xlink:href=\"#m0175ba2fde\" y=\"32.03496\"/>\n     <use style=\"fill:#1f77b4;stroke:#1f77b4;\" x=\"625.574943\" xlink:href=\"#m0175ba2fde\" y=\"24.036207\"/>\n    </g>\n   </g>\n   <g id=\"PathCollection_6\">\n    <g clip-path=\"url(#pbded5ac9ca)\">\n     <use style=\"fill:#ff0000;stroke:#ff0000;\" x=\"479.961307\" xlink:href=\"#m5442ae28a3\" y=\"53.253921\"/>\n     <use style=\"fill:#ff0000;stroke:#ff0000;\" x=\"487.625182\" xlink:href=\"#m5442ae28a3\" y=\"53.666466\"/>\n     <use style=\"fill:#ff0000;stroke:#ff0000;\" x=\"495.289058\" xlink:href=\"#m5442ae28a3\" y=\"53.773998\"/>\n     <use style=\"fill:#ff0000;stroke:#ff0000;\" x=\"502.952934\" xlink:href=\"#m5442ae28a3\" y=\"53.576514\"/>\n     <use style=\"fill:#ff0000;stroke:#ff0000;\" x=\"510.616809\" xlink:href=\"#m5442ae28a3\" y=\"53.074017\"/>\n     <use style=\"fill:#ff0000;stroke:#ff0000;\" x=\"518.280685\" xlink:href=\"#m5442ae28a3\" y=\"52.266505\"/>\n     <use style=\"fill:#ff0000;stroke:#ff0000;\" x=\"525.94456\" xlink:href=\"#m5442ae28a3\" y=\"51.153979\"/>\n     <use style=\"fill:#ff0000;stroke:#ff0000;\" x=\"533.608436\" xlink:href=\"#m5442ae28a3\" y=\"49.736438\"/>\n     <use style=\"fill:#ff0000;stroke:#ff0000;\" x=\"541.272312\" xlink:href=\"#m5442ae28a3\" y=\"48.013882\"/>\n     <use style=\"fill:#ff0000;stroke:#ff0000;\" x=\"548.936187\" xlink:href=\"#m5442ae28a3\" y=\"45.986313\"/>\n     <use style=\"fill:#ff0000;stroke:#ff0000;\" x=\"556.600063\" xlink:href=\"#m5442ae28a3\" y=\"43.653729\"/>\n     <use style=\"fill:#ff0000;stroke:#ff0000;\" x=\"564.263938\" xlink:href=\"#m5442ae28a3\" y=\"41.01613\"/>\n     <use style=\"fill:#ff0000;stroke:#ff0000;\" x=\"571.927814\" xlink:href=\"#m5442ae28a3\" y=\"38.073518\"/>\n     <use style=\"fill:#ff0000;stroke:#ff0000;\" x=\"579.59169\" xlink:href=\"#m5442ae28a3\" y=\"34.825889\"/>\n     <use style=\"fill:#ff0000;stroke:#ff0000;\" x=\"587.255565\" xlink:href=\"#m5442ae28a3\" y=\"31.27325\"/>\n     <use style=\"fill:#ff0000;stroke:#ff0000;\" x=\"594.919441\" xlink:href=\"#m5442ae28a3\" y=\"27.415593\"/>\n     <use style=\"fill:#ff0000;stroke:#ff0000;\" x=\"602.583316\" xlink:href=\"#m5442ae28a3\" y=\"23.252921\"/>\n     <use style=\"fill:#ff0000;stroke:#ff0000;\" x=\"610.247192\" xlink:href=\"#m5442ae28a3\" y=\"18.785237\"/>\n     <use style=\"fill:#ff0000;stroke:#ff0000;\" x=\"617.911068\" xlink:href=\"#m5442ae28a3\" y=\"14.01254\"/>\n     <use style=\"fill:#ff0000;stroke:#ff0000;\" x=\"625.574943\" xlink:href=\"#m5442ae28a3\" y=\"8.93482\"/>\n    </g>\n   </g>\n   <g id=\"matplotlib.axis_5\">\n    <g id=\"xtick_5\">\n     <g id=\"line2d_15\">\n      <g>\n       <use style=\"stroke:#000000;stroke-width:0.8;\" x=\"479.961307\" xlink:href=\"#m4a724d31ec\" y=\"176.839062\"/>\n      </g>\n     </g>\n     <g id=\"text_15\">\n      <!-- 0 -->\n      <g transform=\"translate(476.143807 192.957187)scale(0.12 -0.12)\">\n       <use xlink:href=\"#DejaVuSans-48\"/>\n      </g>\n     </g>\n    </g>\n    <g id=\"xtick_6\">\n     <g id=\"line2d_16\">\n      <g>\n       <use style=\"stroke:#000000;stroke-width:0.8;\" x=\"556.600063\" xlink:href=\"#m4a724d31ec\" y=\"176.839062\"/>\n      </g>\n     </g>\n     <g id=\"text_16\">\n      <!-- 10 -->\n      <g transform=\"translate(548.965063 192.957187)scale(0.12 -0.12)\">\n       <use xlink:href=\"#DejaVuSans-49\"/>\n       <use x=\"63.623047\" xlink:href=\"#DejaVuSans-48\"/>\n      </g>\n     </g>\n    </g>\n   </g>\n   <g id=\"matplotlib.axis_6\">\n    <g id=\"ytick_11\">\n     <g id=\"line2d_17\">\n      <g>\n       <use style=\"stroke:#000000;stroke-width:0.8;\" x=\"472.680625\" xlink:href=\"#mc58ee6787b\" y=\"176.839062\"/>\n      </g>\n     </g>\n     <g id=\"text_17\">\n      <!-- −300 -->\n      <g transform=\"translate(432.72 181.398125)scale(0.12 -0.12)\">\n       <use xlink:href=\"#DejaVuSans-8722\"/>\n       <use x=\"83.789062\" xlink:href=\"#DejaVuSans-51\"/>\n       <use x=\"147.412109\" xlink:href=\"#DejaVuSans-48\"/>\n       <use x=\"211.035156\" xlink:href=\"#DejaVuSans-48\"/>\n      </g>\n     </g>\n    </g>\n    <g id=\"ytick_12\">\n     <g id=\"line2d_18\">\n      <g>\n       <use style=\"stroke:#000000;stroke-width:0.8;\" x=\"472.680625\" xlink:href=\"#mc58ee6787b\" y=\"135.569062\"/>\n      </g>\n     </g>\n     <g id=\"text_18\">\n      <!-- −200 -->\n      <g transform=\"translate(432.72 140.128125)scale(0.12 -0.12)\">\n       <use xlink:href=\"#DejaVuSans-8722\"/>\n       <use x=\"83.789062\" xlink:href=\"#DejaVuSans-50\"/>\n       <use x=\"147.412109\" xlink:href=\"#DejaVuSans-48\"/>\n       <use x=\"211.035156\" xlink:href=\"#DejaVuSans-48\"/>\n      </g>\n     </g>\n    </g>\n    <g id=\"ytick_13\">\n     <g id=\"line2d_19\">\n      <g>\n       <use style=\"stroke:#000000;stroke-width:0.8;\" x=\"472.680625\" xlink:href=\"#mc58ee6787b\" y=\"94.299062\"/>\n      </g>\n     </g>\n     <g id=\"text_19\">\n      <!-- −100 -->\n      <g transform=\"translate(432.72 98.858125)scale(0.12 -0.12)\">\n       <use xlink:href=\"#DejaVuSans-8722\"/>\n       <use x=\"83.789062\" xlink:href=\"#DejaVuSans-49\"/>\n       <use x=\"147.412109\" xlink:href=\"#DejaVuSans-48\"/>\n       <use x=\"211.035156\" xlink:href=\"#DejaVuSans-48\"/>\n      </g>\n     </g>\n    </g>\n    <g id=\"ytick_14\">\n     <g id=\"line2d_20\">\n      <g>\n       <use style=\"stroke:#000000;stroke-width:0.8;\" x=\"472.680625\" xlink:href=\"#mc58ee6787b\" y=\"53.029062\"/>\n      </g>\n     </g>\n     <g id=\"text_20\">\n      <!-- 0 -->\n      <g transform=\"translate(458.045625 57.588125)scale(0.12 -0.12)\">\n       <use xlink:href=\"#DejaVuSans-48\"/>\n      </g>\n     </g>\n    </g>\n    <g id=\"ytick_15\">\n     <g id=\"line2d_21\">\n      <g>\n       <use style=\"stroke:#000000;stroke-width:0.8;\" x=\"472.680625\" xlink:href=\"#mc58ee6787b\" y=\"11.759062\"/>\n      </g>\n     </g>\n     <g id=\"text_21\">\n      <!-- 100 -->\n      <g transform=\"translate(442.775625 16.318125)scale(0.12 -0.12)\">\n       <use xlink:href=\"#DejaVuSans-49\"/>\n       <use x=\"63.623047\" xlink:href=\"#DejaVuSans-48\"/>\n       <use x=\"127.246094\" xlink:href=\"#DejaVuSans-48\"/>\n      </g>\n     </g>\n    </g>\n   </g>\n   <g id=\"patch_13\">\n    <path d=\"M 472.680625 176.839062 \nL 472.680625 11.759062 \n\" style=\"fill:none;stroke:#000000;stroke-linecap:square;stroke-linejoin:miter;stroke-width:0.8;\"/>\n   </g>\n   <g id=\"patch_14\">\n    <path d=\"M 632.855625 176.839062 \nL 632.855625 11.759062 \n\" style=\"fill:none;stroke:#000000;stroke-linecap:square;stroke-linejoin:miter;stroke-width:0.8;\"/>\n   </g>\n   <g id=\"patch_15\">\n    <path d=\"M 472.680625 176.839062 \nL 632.855625 176.839062 \n\" style=\"fill:none;stroke:#000000;stroke-linecap:square;stroke-linejoin:miter;stroke-width:0.8;\"/>\n   </g>\n   <g id=\"patch_16\">\n    <path d=\"M 472.680625 11.759062 \nL 632.855625 11.759062 \n\" style=\"fill:none;stroke:#000000;stroke-linecap:square;stroke-linejoin:miter;stroke-width:0.8;\"/>\n   </g>\n  </g>\n  <g id=\"axes_4\">\n   <g id=\"patch_17\">\n    <path d=\"M 685.440625 176.839062 \nL 845.615625 176.839062 \nL 845.615625 11.759062 \nL 685.440625 11.759062 \nz\n\" style=\"fill:#ffffff;\"/>\n   </g>\n   <g id=\"PathCollection_7\">\n    <g clip-path=\"url(#p75b3f8f703)\">\n     <use style=\"fill:#1f77b4;stroke:#1f77b4;\" x=\"692.721307\" xlink:href=\"#m0175ba2fde\" y=\"23.782653\"/>\n     <use style=\"fill:#1f77b4;stroke:#1f77b4;\" x=\"700.385182\" xlink:href=\"#m0175ba2fde\" y=\"30.140326\"/>\n     <use style=\"fill:#1f77b4;stroke:#1f77b4;\" x=\"708.049058\" xlink:href=\"#m0175ba2fde\" y=\"35.687282\"/>\n     <use style=\"fill:#1f77b4;stroke:#1f77b4;\" x=\"715.712934\" xlink:href=\"#m0175ba2fde\" y=\"38.885319\"/>\n     <use style=\"fill:#1f77b4;stroke:#1f77b4;\" x=\"723.376809\" xlink:href=\"#m0175ba2fde\" y=\"43.700074\"/>\n     <use style=\"fill:#1f77b4;stroke:#1f77b4;\" x=\"731.040685\" xlink:href=\"#m0175ba2fde\" y=\"46.423498\"/>\n     <use style=\"fill:#1f77b4;stroke:#1f77b4;\" x=\"738.70456\" xlink:href=\"#m0175ba2fde\" y=\"48.733984\"/>\n     <use style=\"fill:#1f77b4;stroke:#1f77b4;\" x=\"746.368436\" xlink:href=\"#m0175ba2fde\" y=\"49.668257\"/>\n     <use style=\"fill:#1f77b4;stroke:#1f77b4;\" x=\"754.032312\" xlink:href=\"#m0175ba2fde\" y=\"50.086957\"/>\n     <use style=\"fill:#1f77b4;stroke:#1f77b4;\" x=\"761.696187\" xlink:href=\"#m0175ba2fde\" y=\"52.111924\"/>\n     <use style=\"fill:#1f77b4;stroke:#1f77b4;\" x=\"769.360063\" xlink:href=\"#m0175ba2fde\" y=\"54.302192\"/>\n     <use style=\"fill:#1f77b4;stroke:#1f77b4;\" x=\"777.023938\" xlink:href=\"#m0175ba2fde\" y=\"52.063954\"/>\n     <use style=\"fill:#1f77b4;stroke:#1f77b4;\" x=\"784.687814\" xlink:href=\"#m0175ba2fde\" y=\"50.412479\"/>\n     <use style=\"fill:#1f77b4;stroke:#1f77b4;\" x=\"792.35169\" xlink:href=\"#m0175ba2fde\" y=\"48.882445\"/>\n     <use style=\"fill:#1f77b4;stroke:#1f77b4;\" x=\"800.015565\" xlink:href=\"#m0175ba2fde\" y=\"48.123324\"/>\n     <use style=\"fill:#1f77b4;stroke:#1f77b4;\" x=\"807.679441\" xlink:href=\"#m0175ba2fde\" y=\"43.954648\"/>\n     <use style=\"fill:#1f77b4;stroke:#1f77b4;\" x=\"815.343316\" xlink:href=\"#m0175ba2fde\" y=\"40.065475\"/>\n     <use style=\"fill:#1f77b4;stroke:#1f77b4;\" x=\"823.007192\" xlink:href=\"#m0175ba2fde\" y=\"34.880557\"/>\n     <use style=\"fill:#1f77b4;stroke:#1f77b4;\" x=\"830.671068\" xlink:href=\"#m0175ba2fde\" y=\"32.03496\"/>\n     <use style=\"fill:#1f77b4;stroke:#1f77b4;\" x=\"838.334943\" xlink:href=\"#m0175ba2fde\" y=\"24.036207\"/>\n    </g>\n   </g>\n   <g id=\"PathCollection_8\">\n    <g clip-path=\"url(#p75b3f8f703)\">\n     <use style=\"fill:#ff0000;stroke:#ff0000;\" x=\"692.721307\" xlink:href=\"#m5442ae28a3\" y=\"53.253973\"/>\n     <use style=\"fill:#ff0000;stroke:#ff0000;\" x=\"700.385182\" xlink:href=\"#m5442ae28a3\" y=\"53.70244\"/>\n     <use style=\"fill:#ff0000;stroke:#ff0000;\" x=\"708.049058\" xlink:href=\"#m5442ae28a3\" y=\"53.91357\"/>\n     <use style=\"fill:#ff0000;stroke:#ff0000;\" x=\"715.712934\" xlink:href=\"#m5442ae28a3\" y=\"53.887363\"/>\n     <use style=\"fill:#ff0000;stroke:#ff0000;\" x=\"723.376809\" xlink:href=\"#m5442ae28a3\" y=\"53.623818\"/>\n     <use style=\"fill:#ff0000;stroke:#ff0000;\" x=\"731.040685\" xlink:href=\"#m5442ae28a3\" y=\"53.122936\"/>\n     <use style=\"fill:#ff0000;stroke:#ff0000;\" x=\"738.70456\" xlink:href=\"#m5442ae28a3\" y=\"52.384717\"/>\n     <use style=\"fill:#ff0000;stroke:#ff0000;\" x=\"746.368436\" xlink:href=\"#m5442ae28a3\" y=\"51.409161\"/>\n     <use style=\"fill:#ff0000;stroke:#ff0000;\" x=\"754.032312\" xlink:href=\"#m5442ae28a3\" y=\"50.196267\"/>\n     <use style=\"fill:#ff0000;stroke:#ff0000;\" x=\"761.696187\" xlink:href=\"#m5442ae28a3\" y=\"48.746036\"/>\n     <use style=\"fill:#ff0000;stroke:#ff0000;\" x=\"769.360063\" xlink:href=\"#m5442ae28a3\" y=\"47.058467\"/>\n     <use style=\"fill:#ff0000;stroke:#ff0000;\" x=\"777.023938\" xlink:href=\"#m5442ae28a3\" y=\"45.133562\"/>\n     <use style=\"fill:#ff0000;stroke:#ff0000;\" x=\"784.687814\" xlink:href=\"#m5442ae28a3\" y=\"42.971319\"/>\n     <use style=\"fill:#ff0000;stroke:#ff0000;\" x=\"792.35169\" xlink:href=\"#m5442ae28a3\" y=\"40.571739\"/>\n     <use style=\"fill:#ff0000;stroke:#ff0000;\" x=\"800.015565\" xlink:href=\"#m5442ae28a3\" y=\"37.934821\"/>\n     <use style=\"fill:#ff0000;stroke:#ff0000;\" x=\"807.679441\" xlink:href=\"#m5442ae28a3\" y=\"35.060565\"/>\n     <use style=\"fill:#ff0000;stroke:#ff0000;\" x=\"815.343316\" xlink:href=\"#m5442ae28a3\" y=\"31.948974\"/>\n     <use style=\"fill:#ff0000;stroke:#ff0000;\" x=\"823.007192\" xlink:href=\"#m5442ae28a3\" y=\"28.600043\"/>\n     <use style=\"fill:#ff0000;stroke:#ff0000;\" x=\"830.671068\" xlink:href=\"#m5442ae28a3\" y=\"25.013779\"/>\n     <use style=\"fill:#ff0000;stroke:#ff0000;\" x=\"838.334943\" xlink:href=\"#m5442ae28a3\" y=\"21.190176\"/>\n    </g>\n   </g>\n   <g id=\"matplotlib.axis_7\">\n    <g id=\"xtick_7\">\n     <g id=\"line2d_22\">\n      <g>\n       <use style=\"stroke:#000000;stroke-width:0.8;\" x=\"692.721307\" xlink:href=\"#m4a724d31ec\" y=\"176.839062\"/>\n      </g>\n     </g>\n     <g id=\"text_22\">\n      <!-- 0 -->\n      <g transform=\"translate(688.903807 192.957187)scale(0.12 -0.12)\">\n       <use xlink:href=\"#DejaVuSans-48\"/>\n      </g>\n     </g>\n    </g>\n    <g id=\"xtick_8\">\n     <g id=\"line2d_23\">\n      <g>\n       <use style=\"stroke:#000000;stroke-width:0.8;\" x=\"769.360063\" xlink:href=\"#m4a724d31ec\" y=\"176.839062\"/>\n      </g>\n     </g>\n     <g id=\"text_23\">\n      <!-- 10 -->\n      <g transform=\"translate(761.725063 192.957187)scale(0.12 -0.12)\">\n       <use xlink:href=\"#DejaVuSans-49\"/>\n       <use x=\"63.623047\" xlink:href=\"#DejaVuSans-48\"/>\n      </g>\n     </g>\n    </g>\n   </g>\n   <g id=\"matplotlib.axis_8\">\n    <g id=\"ytick_16\">\n     <g id=\"line2d_24\">\n      <g>\n       <use style=\"stroke:#000000;stroke-width:0.8;\" x=\"685.440625\" xlink:href=\"#mc58ee6787b\" y=\"176.839062\"/>\n      </g>\n     </g>\n     <g id=\"text_24\">\n      <!-- −300 -->\n      <g transform=\"translate(645.48 181.398125)scale(0.12 -0.12)\">\n       <use xlink:href=\"#DejaVuSans-8722\"/>\n       <use x=\"83.789062\" xlink:href=\"#DejaVuSans-51\"/>\n       <use x=\"147.412109\" xlink:href=\"#DejaVuSans-48\"/>\n       <use x=\"211.035156\" xlink:href=\"#DejaVuSans-48\"/>\n      </g>\n     </g>\n    </g>\n    <g id=\"ytick_17\">\n     <g id=\"line2d_25\">\n      <g>\n       <use style=\"stroke:#000000;stroke-width:0.8;\" x=\"685.440625\" xlink:href=\"#mc58ee6787b\" y=\"135.569062\"/>\n      </g>\n     </g>\n     <g id=\"text_25\">\n      <!-- −200 -->\n      <g transform=\"translate(645.48 140.128125)scale(0.12 -0.12)\">\n       <use xlink:href=\"#DejaVuSans-8722\"/>\n       <use x=\"83.789062\" xlink:href=\"#DejaVuSans-50\"/>\n       <use x=\"147.412109\" xlink:href=\"#DejaVuSans-48\"/>\n       <use x=\"211.035156\" xlink:href=\"#DejaVuSans-48\"/>\n      </g>\n     </g>\n    </g>\n    <g id=\"ytick_18\">\n     <g id=\"line2d_26\">\n      <g>\n       <use style=\"stroke:#000000;stroke-width:0.8;\" x=\"685.440625\" xlink:href=\"#mc58ee6787b\" y=\"94.299062\"/>\n      </g>\n     </g>\n     <g id=\"text_26\">\n      <!-- −100 -->\n      <g transform=\"translate(645.48 98.858125)scale(0.12 -0.12)\">\n       <use xlink:href=\"#DejaVuSans-8722\"/>\n       <use x=\"83.789062\" xlink:href=\"#DejaVuSans-49\"/>\n       <use x=\"147.412109\" xlink:href=\"#DejaVuSans-48\"/>\n       <use x=\"211.035156\" xlink:href=\"#DejaVuSans-48\"/>\n      </g>\n     </g>\n    </g>\n    <g id=\"ytick_19\">\n     <g id=\"line2d_27\">\n      <g>\n       <use style=\"stroke:#000000;stroke-width:0.8;\" x=\"685.440625\" xlink:href=\"#mc58ee6787b\" y=\"53.029062\"/>\n      </g>\n     </g>\n     <g id=\"text_27\">\n      <!-- 0 -->\n      <g transform=\"translate(670.805625 57.588125)scale(0.12 -0.12)\">\n       <use xlink:href=\"#DejaVuSans-48\"/>\n      </g>\n     </g>\n    </g>\n    <g id=\"ytick_20\">\n     <g id=\"line2d_28\">\n      <g>\n       <use style=\"stroke:#000000;stroke-width:0.8;\" x=\"685.440625\" xlink:href=\"#mc58ee6787b\" y=\"11.759062\"/>\n      </g>\n     </g>\n     <g id=\"text_28\">\n      <!-- 100 -->\n      <g transform=\"translate(655.535625 16.318125)scale(0.12 -0.12)\">\n       <use xlink:href=\"#DejaVuSans-49\"/>\n       <use x=\"63.623047\" xlink:href=\"#DejaVuSans-48\"/>\n       <use x=\"127.246094\" xlink:href=\"#DejaVuSans-48\"/>\n      </g>\n     </g>\n    </g>\n   </g>\n   <g id=\"patch_18\">\n    <path d=\"M 685.440625 176.839062 \nL 685.440625 11.759062 \n\" style=\"fill:none;stroke:#000000;stroke-linecap:square;stroke-linejoin:miter;stroke-width:0.8;\"/>\n   </g>\n   <g id=\"patch_19\">\n    <path d=\"M 845.615625 176.839062 \nL 845.615625 11.759062 \n\" style=\"fill:none;stroke:#000000;stroke-linecap:square;stroke-linejoin:miter;stroke-width:0.8;\"/>\n   </g>\n   <g id=\"patch_20\">\n    <path d=\"M 685.440625 176.839062 \nL 845.615625 176.839062 \n\" style=\"fill:none;stroke:#000000;stroke-linecap:square;stroke-linejoin:miter;stroke-width:0.8;\"/>\n   </g>\n   <g id=\"patch_21\">\n    <path d=\"M 685.440625 11.759062 \nL 845.615625 11.759062 \n\" style=\"fill:none;stroke:#000000;stroke-linecap:square;stroke-linejoin:miter;stroke-width:0.8;\"/>\n   </g>\n  </g>\n </g>\n <defs>\n  <clipPath id=\"pb9a7bfd0a1\">\n   <rect height=\"165.08\" width=\"160.175\" x=\"47.160625\" y=\"11.759062\"/>\n  </clipPath>\n  <clipPath id=\"pd43f6fe3e1\">\n   <rect height=\"165.08\" width=\"160.175\" x=\"259.920625\" y=\"11.759062\"/>\n  </clipPath>\n  <clipPath id=\"pbded5ac9ca\">\n   <rect height=\"165.08\" width=\"160.175\" x=\"472.680625\" y=\"11.759062\"/>\n  </clipPath>\n  <clipPath id=\"p75b3f8f703\">\n   <rect height=\"165.08\" width=\"160.175\" x=\"685.440625\" y=\"11.759062\"/>\n  </clipPath>\n </defs>\n</svg>\n",
      "image/png": "[encoded data removed]"
     },
     "metadata": {
      "needs_background": "light"
     }
    }
   ],
   "source": [
    "_,axs = plt.subplots(1,4,figsize=(12,3))\n",
    "for ax in axs: show_preds(apply_step(params, False), ax)\n",
    "plt.tight_layout()"
   ]
  },
  {
   "cell_type": "markdown",
   "metadata": {},
   "source": [
    "**Step 7**\n",
    "Stop."
   ]
  },
  {
   "cell_type": "code",
   "execution_count": 19,
   "metadata": {},
   "outputs": [
    {
     "output_type": "execute_result",
     "data": {
      "text/plain": "tensor([[1],\n        [1],\n        [0],\n        [0]])"
     },
     "metadata": {},
     "execution_count": 19
    }
   ],
   "source": [
    "r = torch.tensor([1]*len(ex) + [0]*len(ax)).unsqueeze(1)\n",
    "r"
   ]
  },
  {
   "cell_type": "markdown",
   "metadata": {},
   "source": [
    "The zip() function returns a zip object, which is an iterator of tuples where the first item in each passed iterator is paired together, and then the second item in each passed iterator are paired together etc."
   ]
  },
  {
   "cell_type": "code",
   "execution_count": 20,
   "metadata": {},
   "outputs": [
    {
     "output_type": "execute_result",
     "data": {
      "text/plain": "[(tensor([0.0818, 0.3513]), tensor([-0.2418, -0.1591])),\n (tensor([0.3395, 0.4577]), tensor([-0.7653, -0.2979]))]"
     },
     "metadata": {},
     "execution_count": 20
    }
   ],
   "source": [
    "qx = torch.rand(2,2)* 0.5\n",
    "px = torch.rand(2,2)* -1\n",
    "dset = list(zip(qx, px))\n",
    "dset\n"
   ]
  },
  {
   "cell_type": "code",
   "execution_count": 21,
   "metadata": {},
   "outputs": [
    {
     "output_type": "execute_result",
     "data": {
      "text/plain": "(tensor([0.0818, 0.3513]), tensor([-0.2418, -0.1591]))"
     },
     "metadata": {},
     "execution_count": 21
    }
   ],
   "source": [
    "list(ex)\n",
    "x,y = dset[0]\n",
    "x, y"
   ]
  },
  {
   "cell_type": "markdown",
   "metadata": {},
   "source": [
    "## Matrix Multiplication\n",
    "\n",
    "In Python, matrix multiplication is represented with the @ operator."
   ]
  },
  {
   "cell_type": "code",
   "execution_count": 22,
   "metadata": {},
   "outputs": [
    {
     "output_type": "execute_result",
     "data": {
      "text/plain": "tensor(-0.0757)"
     },
     "metadata": {},
     "execution_count": 22
    }
   ],
   "source": [
    "r = x@y\n",
    "r"
   ]
  },
  {
   "cell_type": "code",
   "execution_count": 23,
   "metadata": {},
   "outputs": [
    {
     "output_type": "execute_result",
     "data": {
      "text/plain": "tensor([0.5204, 0.5869])"
     },
     "metadata": {},
     "execution_count": 23
    }
   ],
   "source": [
    "r = 1/(1+torch.exp(-x))\n",
    "r"
   ]
  },
  {
   "cell_type": "code",
   "execution_count": 24,
   "metadata": {},
   "outputs": [
    {
     "output_type": "execute_result",
     "data": {
      "text/plain": "[<matplotlib.lines.Line2D at 0x137821d60>]"
     },
     "metadata": {},
     "execution_count": 24
    },
    {
     "output_type": "display_data",
     "data": {
      "text/plain": "<Figure size 432x288 with 1 Axes>",
      "image/svg+xml": "<?xml version=\"1.0\" encoding=\"utf-8\" standalone=\"no\"?>\n<!DOCTYPE svg PUBLIC \"-//W3C//DTD SVG 1.1//EN\"\n  \"http://www.w3.org/Graphics/SVG/1.1/DTD/svg11.dtd\">\n<!-- Created with matplotlib (https://matplotlib.org/) -->\n<svg height=\"250.45375pt\" version=\"1.1\" viewBox=\"0 0 375.28375 250.45375\" width=\"375.28375pt\" xmlns=\"http://www.w3.org/2000/svg\" xmlns:xlink=\"http://www.w3.org/1999/xlink\">\n <metadata>\n  <rdf:RDF xmlns:cc=\"http://creativecommons.org/ns#\" xmlns:dc=\"http://purl.org/dc/elements/1.1/\" xmlns:rdf=\"http://www.w3.org/1999/02/22-rdf-syntax-ns#\">\n   <cc:Work>\n    <dc:type rdf:resource=\"http://purl.org/dc/dcmitype/StillImage\"/>\n    <dc:date>2020-09-09T09:59:40.878463</dc:date>\n    <dc:format>image/svg+xml</dc:format>\n    <dc:creator>\n     <cc:Agent>\n      <dc:title>Matplotlib v3.3.0, https://matplotlib.org/</dc:title>\n     </cc:Agent>\n    </dc:creator>\n   </cc:Work>\n  </rdf:RDF>\n </metadata>\n <defs>\n  <style type=\"text/css\">*{stroke-linecap:butt;stroke-linejoin:round;}</style>\n </defs>\n <g id=\"figure_1\">\n  <g id=\"patch_1\">\n   <path d=\"M 0 250.45375 \nL 375.28375 250.45375 \nL 375.28375 0 \nL 0 0 \nz\n\" style=\"fill:none;\"/>\n  </g>\n  <g id=\"axes_1\">\n   <g id=\"patch_2\">\n    <path d=\"M 33.28375 224.64 \nL 368.08375 224.64 \nL 368.08375 7.2 \nL 33.28375 7.2 \nz\n\" style=\"fill:#ffffff;\"/>\n   </g>\n   <g id=\"matplotlib.axis_1\">\n    <g id=\"xtick_1\">\n     <g id=\"line2d_1\">\n      <defs>\n       <path d=\"M 0 0 \nL 0 3.5 \n\" id=\"m66bbb8f54f\" style=\"stroke:#000000;stroke-width:0.8;\"/>\n      </defs>\n      <g>\n       <use style=\"stroke:#000000;stroke-width:0.8;\" x=\"78.938295\" xlink:href=\"#m66bbb8f54f\" y=\"224.64\"/>\n      </g>\n     </g>\n     <g id=\"text_1\">\n      <!-- −4 -->\n      <g transform=\"translate(70.092983 240.758125)scale(0.12 -0.12)\">\n       <defs>\n        <path d=\"M 10.59375 35.5 \nL 73.1875 35.5 \nL 73.1875 27.203125 \nL 10.59375 27.203125 \nz\n\" id=\"DejaVuSans-8722\"/>\n        <path d=\"M 37.796875 64.3125 \nL 12.890625 25.390625 \nL 37.796875 25.390625 \nz\nM 35.203125 72.90625 \nL 47.609375 72.90625 \nL 47.609375 25.390625 \nL 58.015625 25.390625 \nL 58.015625 17.1875 \nL 47.609375 17.1875 \nL 47.609375 0 \nL 37.796875 0 \nL 37.796875 17.1875 \nL 4.890625 17.1875 \nL 4.890625 26.703125 \nz\n\" id=\"DejaVuSans-52\"/>\n       </defs>\n       <use xlink:href=\"#DejaVuSans-8722\"/>\n       <use x=\"83.789062\" xlink:href=\"#DejaVuSans-52\"/>\n      </g>\n     </g>\n    </g>\n    <g id=\"xtick_2\">\n     <g id=\"line2d_2\">\n      <g>\n       <use style=\"stroke:#000000;stroke-width:0.8;\" x=\"139.811023\" xlink:href=\"#m66bbb8f54f\" y=\"224.64\"/>\n      </g>\n     </g>\n     <g id=\"text_2\">\n      <!-- −2 -->\n      <g transform=\"translate(130.96571 240.758125)scale(0.12 -0.12)\">\n       <defs>\n        <path d=\"M 19.1875 8.296875 \nL 53.609375 8.296875 \nL 53.609375 0 \nL 7.328125 0 \nL 7.328125 8.296875 \nQ 12.9375 14.109375 22.625 23.890625 \nQ 32.328125 33.6875 34.8125 36.53125 \nQ 39.546875 41.84375 41.421875 45.53125 \nQ 43.3125 49.21875 43.3125 52.78125 \nQ 43.3125 58.59375 39.234375 62.25 \nQ 35.15625 65.921875 28.609375 65.921875 \nQ 23.96875 65.921875 18.8125 64.3125 \nQ 13.671875 62.703125 7.8125 59.421875 \nL 7.8125 69.390625 \nQ 13.765625 71.78125 18.9375 73 \nQ 24.125 74.21875 28.421875 74.21875 \nQ 39.75 74.21875 46.484375 68.546875 \nQ 53.21875 62.890625 53.21875 53.421875 \nQ 53.21875 48.921875 51.53125 44.890625 \nQ 49.859375 40.875 45.40625 35.40625 \nQ 44.1875 33.984375 37.640625 27.21875 \nQ 31.109375 20.453125 19.1875 8.296875 \nz\n\" id=\"DejaVuSans-50\"/>\n       </defs>\n       <use xlink:href=\"#DejaVuSans-8722\"/>\n       <use x=\"83.789062\" xlink:href=\"#DejaVuSans-50\"/>\n      </g>\n     </g>\n    </g>\n    <g id=\"xtick_3\">\n     <g id=\"line2d_3\">\n      <g>\n       <use style=\"stroke:#000000;stroke-width:0.8;\" x=\"200.68375\" xlink:href=\"#m66bbb8f54f\" y=\"224.64\"/>\n      </g>\n     </g>\n     <g id=\"text_3\">\n      <!-- 0 -->\n      <g transform=\"translate(196.86625 240.758125)scale(0.12 -0.12)\">\n       <defs>\n        <path d=\"M 31.78125 66.40625 \nQ 24.171875 66.40625 20.328125 58.90625 \nQ 16.5 51.421875 16.5 36.375 \nQ 16.5 21.390625 20.328125 13.890625 \nQ 24.171875 6.390625 31.78125 6.390625 \nQ 39.453125 6.390625 43.28125 13.890625 \nQ 47.125 21.390625 47.125 36.375 \nQ 47.125 51.421875 43.28125 58.90625 \nQ 39.453125 66.40625 31.78125 66.40625 \nz\nM 31.78125 74.21875 \nQ 44.046875 74.21875 50.515625 64.515625 \nQ 56.984375 54.828125 56.984375 36.375 \nQ 56.984375 17.96875 50.515625 8.265625 \nQ 44.046875 -1.421875 31.78125 -1.421875 \nQ 19.53125 -1.421875 13.0625 8.265625 \nQ 6.59375 17.96875 6.59375 36.375 \nQ 6.59375 54.828125 13.0625 64.515625 \nQ 19.53125 74.21875 31.78125 74.21875 \nz\n\" id=\"DejaVuSans-48\"/>\n       </defs>\n       <use xlink:href=\"#DejaVuSans-48\"/>\n      </g>\n     </g>\n    </g>\n    <g id=\"xtick_4\">\n     <g id=\"line2d_4\">\n      <g>\n       <use style=\"stroke:#000000;stroke-width:0.8;\" x=\"261.556477\" xlink:href=\"#m66bbb8f54f\" y=\"224.64\"/>\n      </g>\n     </g>\n     <g id=\"text_4\">\n      <!-- 2 -->\n      <g transform=\"translate(257.738977 240.758125)scale(0.12 -0.12)\">\n       <use xlink:href=\"#DejaVuSans-50\"/>\n      </g>\n     </g>\n    </g>\n    <g id=\"xtick_5\">\n     <g id=\"line2d_5\">\n      <g>\n       <use style=\"stroke:#000000;stroke-width:0.8;\" x=\"322.429205\" xlink:href=\"#m66bbb8f54f\" y=\"224.64\"/>\n      </g>\n     </g>\n     <g id=\"text_5\">\n      <!-- 4 -->\n      <g transform=\"translate(318.611705 240.758125)scale(0.12 -0.12)\">\n       <use xlink:href=\"#DejaVuSans-52\"/>\n      </g>\n     </g>\n    </g>\n   </g>\n   <g id=\"matplotlib.axis_2\">\n    <g id=\"ytick_1\">\n     <g id=\"line2d_6\">\n      <defs>\n       <path d=\"M 0 0 \nL -3.5 0 \n\" id=\"m953181d3b2\" style=\"stroke:#000000;stroke-width:0.8;\"/>\n      </defs>\n      <g>\n       <use style=\"stroke:#000000;stroke-width:0.8;\" x=\"33.28375\" xlink:href=\"#m953181d3b2\" y=\"216.097307\"/>\n      </g>\n     </g>\n     <g id=\"text_6\">\n      <!-- 0.0 -->\n      <g transform=\"translate(7.2 220.65637)scale(0.12 -0.12)\">\n       <defs>\n        <path d=\"M 10.6875 12.40625 \nL 21 12.40625 \nL 21 0 \nL 10.6875 0 \nz\n\" id=\"DejaVuSans-46\"/>\n       </defs>\n       <use xlink:href=\"#DejaVuSans-48\"/>\n       <use x=\"63.623047\" xlink:href=\"#DejaVuSans-46\"/>\n       <use x=\"95.410156\" xlink:href=\"#DejaVuSans-48\"/>\n      </g>\n     </g>\n    </g>\n    <g id=\"ytick_2\">\n     <g id=\"line2d_7\">\n      <g>\n       <use style=\"stroke:#000000;stroke-width:0.8;\" x=\"33.28375\" xlink:href=\"#m953181d3b2\" y=\"176.026385\"/>\n      </g>\n     </g>\n     <g id=\"text_7\">\n      <!-- 0.2 -->\n      <g transform=\"translate(7.2 180.585448)scale(0.12 -0.12)\">\n       <use xlink:href=\"#DejaVuSans-48\"/>\n       <use x=\"63.623047\" xlink:href=\"#DejaVuSans-46\"/>\n       <use x=\"95.410156\" xlink:href=\"#DejaVuSans-50\"/>\n      </g>\n     </g>\n    </g>\n    <g id=\"ytick_3\">\n     <g id=\"line2d_8\">\n      <g>\n       <use style=\"stroke:#000000;stroke-width:0.8;\" x=\"33.28375\" xlink:href=\"#m953181d3b2\" y=\"135.955463\"/>\n      </g>\n     </g>\n     <g id=\"text_8\">\n      <!-- 0.4 -->\n      <g transform=\"translate(7.2 140.514526)scale(0.12 -0.12)\">\n       <use xlink:href=\"#DejaVuSans-48\"/>\n       <use x=\"63.623047\" xlink:href=\"#DejaVuSans-46\"/>\n       <use x=\"95.410156\" xlink:href=\"#DejaVuSans-52\"/>\n      </g>\n     </g>\n    </g>\n    <g id=\"ytick_4\">\n     <g id=\"line2d_9\">\n      <g>\n       <use style=\"stroke:#000000;stroke-width:0.8;\" x=\"33.28375\" xlink:href=\"#m953181d3b2\" y=\"95.884541\"/>\n      </g>\n     </g>\n     <g id=\"text_9\">\n      <!-- 0.6 -->\n      <g transform=\"translate(7.2 100.443604)scale(0.12 -0.12)\">\n       <defs>\n        <path d=\"M 33.015625 40.375 \nQ 26.375 40.375 22.484375 35.828125 \nQ 18.609375 31.296875 18.609375 23.390625 \nQ 18.609375 15.53125 22.484375 10.953125 \nQ 26.375 6.390625 33.015625 6.390625 \nQ 39.65625 6.390625 43.53125 10.953125 \nQ 47.40625 15.53125 47.40625 23.390625 \nQ 47.40625 31.296875 43.53125 35.828125 \nQ 39.65625 40.375 33.015625 40.375 \nz\nM 52.59375 71.296875 \nL 52.59375 62.3125 \nQ 48.875 64.0625 45.09375 64.984375 \nQ 41.3125 65.921875 37.59375 65.921875 \nQ 27.828125 65.921875 22.671875 59.328125 \nQ 17.53125 52.734375 16.796875 39.40625 \nQ 19.671875 43.65625 24.015625 45.921875 \nQ 28.375 48.1875 33.59375 48.1875 \nQ 44.578125 48.1875 50.953125 41.515625 \nQ 57.328125 34.859375 57.328125 23.390625 \nQ 57.328125 12.15625 50.6875 5.359375 \nQ 44.046875 -1.421875 33.015625 -1.421875 \nQ 20.359375 -1.421875 13.671875 8.265625 \nQ 6.984375 17.96875 6.984375 36.375 \nQ 6.984375 53.65625 15.1875 63.9375 \nQ 23.390625 74.21875 37.203125 74.21875 \nQ 40.921875 74.21875 44.703125 73.484375 \nQ 48.484375 72.75 52.59375 71.296875 \nz\n\" id=\"DejaVuSans-54\"/>\n       </defs>\n       <use xlink:href=\"#DejaVuSans-48\"/>\n       <use x=\"63.623047\" xlink:href=\"#DejaVuSans-46\"/>\n       <use x=\"95.410156\" xlink:href=\"#DejaVuSans-54\"/>\n      </g>\n     </g>\n    </g>\n    <g id=\"ytick_5\">\n     <g id=\"line2d_10\">\n      <g>\n       <use style=\"stroke:#000000;stroke-width:0.8;\" x=\"33.28375\" xlink:href=\"#m953181d3b2\" y=\"55.81362\"/>\n      </g>\n     </g>\n     <g id=\"text_10\">\n      <!-- 0.8 -->\n      <g transform=\"translate(7.2 60.372682)scale(0.12 -0.12)\">\n       <defs>\n        <path d=\"M 31.78125 34.625 \nQ 24.75 34.625 20.71875 30.859375 \nQ 16.703125 27.09375 16.703125 20.515625 \nQ 16.703125 13.921875 20.71875 10.15625 \nQ 24.75 6.390625 31.78125 6.390625 \nQ 38.8125 6.390625 42.859375 10.171875 \nQ 46.921875 13.96875 46.921875 20.515625 \nQ 46.921875 27.09375 42.890625 30.859375 \nQ 38.875 34.625 31.78125 34.625 \nz\nM 21.921875 38.8125 \nQ 15.578125 40.375 12.03125 44.71875 \nQ 8.5 49.078125 8.5 55.328125 \nQ 8.5 64.0625 14.71875 69.140625 \nQ 20.953125 74.21875 31.78125 74.21875 \nQ 42.671875 74.21875 48.875 69.140625 \nQ 55.078125 64.0625 55.078125 55.328125 \nQ 55.078125 49.078125 51.53125 44.71875 \nQ 48 40.375 41.703125 38.8125 \nQ 48.828125 37.15625 52.796875 32.3125 \nQ 56.78125 27.484375 56.78125 20.515625 \nQ 56.78125 9.90625 50.3125 4.234375 \nQ 43.84375 -1.421875 31.78125 -1.421875 \nQ 19.734375 -1.421875 13.25 4.234375 \nQ 6.78125 9.90625 6.78125 20.515625 \nQ 6.78125 27.484375 10.78125 32.3125 \nQ 14.796875 37.15625 21.921875 38.8125 \nz\nM 18.3125 54.390625 \nQ 18.3125 48.734375 21.84375 45.5625 \nQ 25.390625 42.390625 31.78125 42.390625 \nQ 38.140625 42.390625 41.71875 45.5625 \nQ 45.3125 48.734375 45.3125 54.390625 \nQ 45.3125 60.0625 41.71875 63.234375 \nQ 38.140625 66.40625 31.78125 66.40625 \nQ 25.390625 66.40625 21.84375 63.234375 \nQ 18.3125 60.0625 18.3125 54.390625 \nz\n\" id=\"DejaVuSans-56\"/>\n       </defs>\n       <use xlink:href=\"#DejaVuSans-48\"/>\n       <use x=\"63.623047\" xlink:href=\"#DejaVuSans-46\"/>\n       <use x=\"95.410156\" xlink:href=\"#DejaVuSans-56\"/>\n      </g>\n     </g>\n    </g>\n    <g id=\"ytick_6\">\n     <g id=\"line2d_11\">\n      <g>\n       <use style=\"stroke:#000000;stroke-width:0.8;\" x=\"33.28375\" xlink:href=\"#m953181d3b2\" y=\"15.742698\"/>\n      </g>\n     </g>\n     <g id=\"text_11\">\n      <!-- 1.0 -->\n      <g transform=\"translate(7.2 20.30176)scale(0.12 -0.12)\">\n       <defs>\n        <path d=\"M 12.40625 8.296875 \nL 28.515625 8.296875 \nL 28.515625 63.921875 \nL 10.984375 60.40625 \nL 10.984375 69.390625 \nL 28.421875 72.90625 \nL 38.28125 72.90625 \nL 38.28125 8.296875 \nL 54.390625 8.296875 \nL 54.390625 0 \nL 12.40625 0 \nz\n\" id=\"DejaVuSans-49\"/>\n       </defs>\n       <use xlink:href=\"#DejaVuSans-49\"/>\n       <use x=\"63.623047\" xlink:href=\"#DejaVuSans-46\"/>\n       <use x=\"95.410156\" xlink:href=\"#DejaVuSans-48\"/>\n      </g>\n     </g>\n    </g>\n   </g>\n   <g id=\"line2d_12\">\n    <path clip-path=\"url(#p5f6ccc660a)\" d=\"M 48.501932 214.756364 \nL 51.545565 214.616378 \nL 54.589199 214.461899 \nL 57.632847 214.291451 \nL 60.67648 214.103418 \nL 63.720114 213.896023 \nL 66.763747 213.667319 \nL 69.807381 213.415177 \nL 72.851029 213.137261 \nL 75.894662 212.831026 \nL 78.938295 212.493687 \nL 81.981929 212.122211 \nL 85.02557 211.713294 \nL 88.069203 211.263348 \nL 91.112844 210.768477 \nL 94.156477 210.224467 \nL 97.200111 209.626763 \nL 100.243751 208.970455 \nL 103.287385 208.250275 \nL 106.331026 207.460569 \nL 109.374659 206.595315 \nL 112.418293 205.648101 \nL 115.461933 204.612145 \nL 118.505567 203.480305 \nL 121.549207 202.245104 \nL 124.592841 200.898772 \nL 127.636474 199.433275 \nL 130.680115 197.840402 \nL 133.723749 196.111838 \nL 136.767389 194.239254 \nL 139.811023 192.214453 \nL 142.85466 190.029474 \nL 145.898297 187.676792 \nL 148.94193 185.149481 \nL 151.985567 182.441417 \nL 155.029205 179.547512 \nL 158.072842 176.463939 \nL 161.116479 173.188356 \nL 164.160112 169.72018 \nL 167.203749 166.06077 \nL 170.247386 162.213652 \nL 173.291023 158.184709 \nL 176.334659 153.982267 \nL 179.378296 149.617197 \nL 182.421931 145.102911 \nL 185.465568 140.455292 \nL 188.509204 135.692528 \nL 191.552841 130.834902 \nL 194.596477 125.904471 \nL 197.640114 120.924701 \nL 200.68375 115.920002 \nL 203.727386 110.91531 \nL 206.771023 105.93554 \nL 209.814659 101.005103 \nL 212.858296 96.147477 \nL 215.901932 91.384707 \nL 218.945569 86.737094 \nL 221.989204 82.222814 \nL 225.032841 77.857738 \nL 228.076477 73.655302 \nL 231.120114 69.626347 \nL 234.163751 65.779235 \nL 237.207388 62.119816 \nL 240.251021 58.651637 \nL 243.294658 55.37606 \nL 246.338295 52.292499 \nL 249.381933 49.39859 \nL 252.42557 46.690512 \nL 255.469203 44.163225 \nL 258.51284 41.810519 \nL 261.556477 39.625562 \nL 264.600111 37.600749 \nL 267.643751 35.728162 \nL 270.687385 33.999596 \nL 273.731026 32.406727 \nL 276.774659 30.941233 \nL 279.818293 29.594896 \nL 282.861933 28.359705 \nL 285.905567 27.22786 \nL 288.949207 26.191897 \nL 291.992841 25.244689 \nL 295.036474 24.379438 \nL 298.080115 23.589733 \nL 301.123749 22.869543 \nL 304.167389 22.213231 \nL 307.211023 21.615543 \nL 310.254656 21.071534 \nL 313.298297 20.576655 \nL 316.34193 20.126725 \nL 319.385571 19.717781 \nL 322.429205 19.346323 \nL 325.472838 19.008984 \nL 328.516471 18.702742 \nL 331.560119 18.424826 \nL 334.603753 18.172693 \nL 337.647386 17.943979 \nL 340.69102 17.736593 \nL 343.734653 17.548565 \nL 346.778301 17.378104 \nL 349.821935 17.223621 \nL 352.865568 17.083636 \n\" style=\"fill:none;stroke:#ff0000;stroke-linecap:square;stroke-width:2;\"/>\n   </g>\n   <g id=\"patch_3\">\n    <path d=\"M 33.28375 224.64 \nL 33.28375 7.2 \n\" style=\"fill:none;stroke:#000000;stroke-linecap:square;stroke-linejoin:miter;stroke-width:0.8;\"/>\n   </g>\n   <g id=\"patch_4\">\n    <path d=\"M 368.08375 224.64 \nL 368.08375 7.2 \n\" style=\"fill:none;stroke:#000000;stroke-linecap:square;stroke-linejoin:miter;stroke-width:0.8;\"/>\n   </g>\n   <g id=\"patch_5\">\n    <path d=\"M 33.28375 224.64 \nL 368.08375 224.64 \n\" style=\"fill:none;stroke:#000000;stroke-linecap:square;stroke-linejoin:miter;stroke-width:0.8;\"/>\n   </g>\n   <g id=\"patch_6\">\n    <path d=\"M 33.28375 7.2 \nL 368.08375 7.2 \n\" style=\"fill:none;stroke:#000000;stroke-linecap:square;stroke-linejoin:miter;stroke-width:0.8;\"/>\n   </g>\n  </g>\n </g>\n <defs>\n  <clipPath id=\"p5f6ccc660a\">\n   <rect height=\"217.44\" width=\"334.8\" x=\"33.28375\" y=\"7.2\"/>\n  </clipPath>\n </defs>\n</svg>\n",
      "image/png": "[encoded data removed]"
     },
     "metadata": {
      "needs_background": "light"
     }
    }
   ],
   "source": [
    "x = torch.range(-5,5,0.1)\n",
    "def sigmoid(x): return 1/(1+torch.exp(-x))\n",
    "plt.plot(x, sigmoid(x), color='red', lw=2)"
   ]
  },
  {
   "cell_type": "code",
   "execution_count": 25,
   "metadata": {
    "tags": []
   },
   "outputs": [
    {
     "output_type": "stream",
     "name": "stdout",
     "text": "[[19 22]\n [43 50]]\n[[19 22]\n [43 50]]\n[[19 22]\n [43 50]]\n[[ 5 12]\n [21 32]]\n"
    }
   ],
   "source": [
    "a = np.array([[1, 2],[3, 4]])\n",
    "b = np.array([[5, 6],[7, 8]])\n",
    "print(a@b)\n",
    "print(np.matmul(a,b))\n",
    "print(np.dot(a,b))\n",
    "print(a*b)"
   ]
  },
  {
   "cell_type": "code",
   "execution_count": 26,
   "metadata": {
    "tags": []
   },
   "outputs": [
    {
     "output_type": "stream",
     "name": "stdout",
     "text": "a.size()  torch.Size([2, 3])\nb.size()  torch.Size([3, 2])\nc.size()  torch.Size([2, 3])\ntensor([[ 46,  52],\n        [ 88, 100]])\ntensor([[ 46,  52],\n        [ 88, 100]])\ntensor([[ 46,  52],\n        [ 88, 100]])\ntensor([[ 5, 12, 21],\n        [24, 36, 50]])\nac.size()  torch.Size([2, 3])\n"
    }
   ],
   "source": [
    "a = torch.tensor([[1, 2, 3],[3, 4, 5]])\n",
    "print('a.size() ', a.size())\n",
    "#print('a.shape() ',a.shape())\n",
    "#print('Rank: ' len(a.shape)\n",
    "b = torch.tensor([[5, 6],[7, 8],[9, 10]])\n",
    "c = torch.tensor([[5, 6, 7], [8, 9, 10]])\n",
    "print('b.size() ', b.size())\n",
    "print('c.size() ', c.size())\n",
    "print(a@b)\n",
    "print(torch.mm(a,b))\n",
    "print(torch.matmul(a,b))\n",
    "# print(a*b) element-wise matrix multiplication (Hadamard product).  Works if shape is the same for a and b\n",
    "print(a*c)\n",
    "ac = a*c\n",
    "print('ac.size() ', ac.size())"
   ]
  },
  {
   "cell_type": "markdown",
   "metadata": {},
   "source": [
    "```python\n",
    "def mnist_loss(predictions, targets):\n",
    "    predictions = predictions.sigmoid()\n",
    "    return torch.where(targets==1, 1-predictions, predictions).mean()\n",
    "```"
   ]
  },
  {
   "cell_type": "markdown",
   "metadata": {},
   "source": [
    "## DataLoader <br>\n",
    "A DataLoader can take any Python collection and turn it into an iterator over many batches, like so:"
   ]
  },
  {
   "cell_type": "code",
   "execution_count": 36,
   "metadata": {},
   "outputs": [
    {
     "output_type": "execute_result",
     "data": {
      "text/plain": "[tensor([ 5,  9,  8, 15,  4]),\n tensor([16,  0, 12, 18,  6]),\n tensor([19,  3, 17, 11,  1]),\n tensor([ 2, 13,  7, 10, 14])]"
     },
     "metadata": {},
     "execution_count": 36
    }
   ],
   "source": [
    "coll = range(20)\n",
    "dl = DataLoader(coll, batch_size=5, shuffle=True)\n",
    "list(dl)"
   ]
  },
  {
   "cell_type": "code",
   "execution_count": 2,
   "metadata": {},
   "outputs": [
    {
     "output_type": "execute_result",
     "data": {
      "text/plain": "(#26) [(0, 'a'),(1, 'b'),(2, 'c'),(3, 'd'),(4, 'e'),(5, 'f'),(6, 'g'),(7, 'h'),(8, 'i'),(9, 'j')...]"
     },
     "metadata": {},
     "execution_count": 2
    }
   ],
   "source": [
    "ds = L(enumerate(string.ascii_lowercase))\n",
    "ds"
   ]
  },
  {
   "cell_type": "code",
   "execution_count": 3,
   "metadata": {},
   "outputs": [
    {
     "output_type": "execute_result",
     "data": {
      "text/plain": "[(tensor([ 7, 24, 17, 21,  5, 19]), ('h', 'y', 'r', 'v', 'f', 't')),\n (tensor([ 9, 15, 14,  4, 16,  0]), ('j', 'p', 'o', 'e', 'q', 'a')),\n (tensor([22, 13, 25,  3,  2, 11]), ('w', 'n', 'z', 'd', 'c', 'l')),\n (tensor([12, 23,  1, 10,  8, 20]), ('m', 'x', 'b', 'k', 'i', 'u')),\n (tensor([18,  6]), ('s', 'g'))]"
     },
     "metadata": {},
     "execution_count": 3
    }
   ],
   "source": [
    "dl = DataLoader(ds, batch_size=6, shuffle=True)\n",
    "list(dl)"
   ]
  },
  {
   "cell_type": "code",
   "execution_count": 4,
   "metadata": {},
   "outputs": [
    {
     "output_type": "execute_result",
     "data": {
      "text/plain": "tensor([6, 5, 4])"
     },
     "metadata": {},
     "execution_count": 4
    }
   ],
   "source": [
    "torch.randperm(10)[:3]"
   ]
  },
  {
   "cell_type": "code",
   "execution_count": 15,
   "metadata": {},
   "outputs": [],
   "source": [
    "a = [(1, 0.4), (2, 0.5), (3, 0.3), (4, 0.1), (5, 0.4), (6, 0.2), (7, 0.3), (8, 0.1)]\n",
    "tex = torch.tensor(a)"
   ]
  },
  {
   "cell_type": "code",
   "execution_count": 27,
   "metadata": {
    "tags": []
   },
   "outputs": [
    {
     "output_type": "stream",
     "name": "stdout",
     "text": "[tensor([[5.0000, 0.4000],\n        [2.0000, 0.5000]]), tensor([[4.0000, 0.1000],\n        [3.0000, 0.3000]]), tensor([[8.0000, 0.1000],\n        [6.0000, 0.2000]]), tensor([[1.0000, 0.4000],\n        [7.0000, 0.3000]])]\n"
    },
    {
     "output_type": "execute_result",
     "data": {
      "text/plain": "tensor([4.0000, 0.1000])"
     },
     "metadata": {},
     "execution_count": 27
    }
   ],
   "source": [
    "dl = DataLoader(tex, batch_size=2, shuffle=True)\n",
    "print(list(dl))\n",
    "xb,yb = first(dl)\n",
    "xb.shape,yb.shape\n",
    "yb"
   ]
  },
  {
   "cell_type": "code",
   "execution_count": 28,
   "metadata": {},
   "outputs": [
    {
     "output_type": "display_data",
     "data": {
      "text/plain": "<Figure size 432x288 with 1 Axes>",
      "image/svg+xml": "<?xml version=\"1.0\" encoding=\"utf-8\" standalone=\"no\"?>\n<!DOCTYPE svg PUBLIC \"-//W3C//DTD SVG 1.1//EN\"\n  \"http://www.w3.org/Graphics/SVG/1.1/DTD/svg11.dtd\">\n<!-- Created with matplotlib (https://matplotlib.org/) -->\n<svg height=\"250.45375pt\" version=\"1.1\" viewBox=\"0 0 382.91875 250.45375\" width=\"382.91875pt\" xmlns=\"http://www.w3.org/2000/svg\" xmlns:xlink=\"http://www.w3.org/1999/xlink\">\n <metadata>\n  <rdf:RDF xmlns:cc=\"http://creativecommons.org/ns#\" xmlns:dc=\"http://purl.org/dc/elements/1.1/\" xmlns:rdf=\"http://www.w3.org/1999/02/22-rdf-syntax-ns#\">\n   <cc:Work>\n    <dc:type rdf:resource=\"http://purl.org/dc/dcmitype/StillImage\"/>\n    <dc:date>2020-09-09T11:43:18.824488</dc:date>\n    <dc:format>image/svg+xml</dc:format>\n    <dc:creator>\n     <cc:Agent>\n      <dc:title>Matplotlib v3.3.0, https://matplotlib.org/</dc:title>\n     </cc:Agent>\n    </dc:creator>\n   </cc:Work>\n  </rdf:RDF>\n </metadata>\n <defs>\n  <style type=\"text/css\">*{stroke-linecap:butt;stroke-linejoin:round;}</style>\n </defs>\n <g id=\"figure_1\">\n  <g id=\"patch_1\">\n   <path d=\"M 0 250.45375 \nL 382.91875 250.45375 \nL 382.91875 0 \nL 0 0 \nz\n\" style=\"fill:none;\"/>\n  </g>\n  <g id=\"axes_1\">\n   <g id=\"patch_2\">\n    <path d=\"M 40.91875 224.64 \nL 375.71875 224.64 \nL 375.71875 7.2 \nL 40.91875 7.2 \nz\n\" style=\"fill:#ffffff;\"/>\n   </g>\n   <g id=\"matplotlib.axis_1\">\n    <g id=\"xtick_1\">\n     <g id=\"line2d_1\">\n      <defs>\n       <path d=\"M 0 0 \nL 0 3.5 \n\" id=\"m563e7a112c\" style=\"stroke:#000000;stroke-width:0.8;\"/>\n      </defs>\n      <g>\n       <use style=\"stroke:#000000;stroke-width:0.8;\" x=\"56.136932\" xlink:href=\"#m563e7a112c\" y=\"224.64\"/>\n      </g>\n     </g>\n     <g id=\"text_1\">\n      <!-- −2.0 -->\n      <g transform=\"translate(41.567244 240.758125)scale(0.12 -0.12)\">\n       <defs>\n        <path d=\"M 10.59375 35.5 \nL 73.1875 35.5 \nL 73.1875 27.203125 \nL 10.59375 27.203125 \nz\n\" id=\"DejaVuSans-8722\"/>\n        <path d=\"M 19.1875 8.296875 \nL 53.609375 8.296875 \nL 53.609375 0 \nL 7.328125 0 \nL 7.328125 8.296875 \nQ 12.9375 14.109375 22.625 23.890625 \nQ 32.328125 33.6875 34.8125 36.53125 \nQ 39.546875 41.84375 41.421875 45.53125 \nQ 43.3125 49.21875 43.3125 52.78125 \nQ 43.3125 58.59375 39.234375 62.25 \nQ 35.15625 65.921875 28.609375 65.921875 \nQ 23.96875 65.921875 18.8125 64.3125 \nQ 13.671875 62.703125 7.8125 59.421875 \nL 7.8125 69.390625 \nQ 13.765625 71.78125 18.9375 73 \nQ 24.125 74.21875 28.421875 74.21875 \nQ 39.75 74.21875 46.484375 68.546875 \nQ 53.21875 62.890625 53.21875 53.421875 \nQ 53.21875 48.921875 51.53125 44.890625 \nQ 49.859375 40.875 45.40625 35.40625 \nQ 44.1875 33.984375 37.640625 27.21875 \nQ 31.109375 20.453125 19.1875 8.296875 \nz\n\" id=\"DejaVuSans-50\"/>\n        <path d=\"M 10.6875 12.40625 \nL 21 12.40625 \nL 21 0 \nL 10.6875 0 \nz\n\" id=\"DejaVuSans-46\"/>\n        <path d=\"M 31.78125 66.40625 \nQ 24.171875 66.40625 20.328125 58.90625 \nQ 16.5 51.421875 16.5 36.375 \nQ 16.5 21.390625 20.328125 13.890625 \nQ 24.171875 6.390625 31.78125 6.390625 \nQ 39.453125 6.390625 43.28125 13.890625 \nQ 47.125 21.390625 47.125 36.375 \nQ 47.125 51.421875 43.28125 58.90625 \nQ 39.453125 66.40625 31.78125 66.40625 \nz\nM 31.78125 74.21875 \nQ 44.046875 74.21875 50.515625 64.515625 \nQ 56.984375 54.828125 56.984375 36.375 \nQ 56.984375 17.96875 50.515625 8.265625 \nQ 44.046875 -1.421875 31.78125 -1.421875 \nQ 19.53125 -1.421875 13.0625 8.265625 \nQ 6.59375 17.96875 6.59375 36.375 \nQ 6.59375 54.828125 13.0625 64.515625 \nQ 19.53125 74.21875 31.78125 74.21875 \nz\n\" id=\"DejaVuSans-48\"/>\n       </defs>\n       <use xlink:href=\"#DejaVuSans-8722\"/>\n       <use x=\"83.789062\" xlink:href=\"#DejaVuSans-50\"/>\n       <use x=\"147.412109\" xlink:href=\"#DejaVuSans-46\"/>\n       <use x=\"179.199219\" xlink:href=\"#DejaVuSans-48\"/>\n      </g>\n     </g>\n    </g>\n    <g id=\"xtick_2\">\n     <g id=\"line2d_2\">\n      <g>\n       <use style=\"stroke:#000000;stroke-width:0.8;\" x=\"94.182386\" xlink:href=\"#m563e7a112c\" y=\"224.64\"/>\n      </g>\n     </g>\n     <g id=\"text_2\">\n      <!-- −1.5 -->\n      <g transform=\"translate(79.612699 240.758125)scale(0.12 -0.12)\">\n       <defs>\n        <path d=\"M 12.40625 8.296875 \nL 28.515625 8.296875 \nL 28.515625 63.921875 \nL 10.984375 60.40625 \nL 10.984375 69.390625 \nL 28.421875 72.90625 \nL 38.28125 72.90625 \nL 38.28125 8.296875 \nL 54.390625 8.296875 \nL 54.390625 0 \nL 12.40625 0 \nz\n\" id=\"DejaVuSans-49\"/>\n        <path d=\"M 10.796875 72.90625 \nL 49.515625 72.90625 \nL 49.515625 64.59375 \nL 19.828125 64.59375 \nL 19.828125 46.734375 \nQ 21.96875 47.46875 24.109375 47.828125 \nQ 26.265625 48.1875 28.421875 48.1875 \nQ 40.625 48.1875 47.75 41.5 \nQ 54.890625 34.8125 54.890625 23.390625 \nQ 54.890625 11.625 47.5625 5.09375 \nQ 40.234375 -1.421875 26.90625 -1.421875 \nQ 22.3125 -1.421875 17.546875 -0.640625 \nQ 12.796875 0.140625 7.71875 1.703125 \nL 7.71875 11.625 \nQ 12.109375 9.234375 16.796875 8.0625 \nQ 21.484375 6.890625 26.703125 6.890625 \nQ 35.15625 6.890625 40.078125 11.328125 \nQ 45.015625 15.765625 45.015625 23.390625 \nQ 45.015625 31 40.078125 35.4375 \nQ 35.15625 39.890625 26.703125 39.890625 \nQ 22.75 39.890625 18.8125 39.015625 \nQ 14.890625 38.140625 10.796875 36.28125 \nz\n\" id=\"DejaVuSans-53\"/>\n       </defs>\n       <use xlink:href=\"#DejaVuSans-8722\"/>\n       <use x=\"83.789062\" xlink:href=\"#DejaVuSans-49\"/>\n       <use x=\"147.412109\" xlink:href=\"#DejaVuSans-46\"/>\n       <use x=\"179.199219\" xlink:href=\"#DejaVuSans-53\"/>\n      </g>\n     </g>\n    </g>\n    <g id=\"xtick_3\">\n     <g id=\"line2d_3\">\n      <g>\n       <use style=\"stroke:#000000;stroke-width:0.8;\" x=\"132.227841\" xlink:href=\"#m563e7a112c\" y=\"224.64\"/>\n      </g>\n     </g>\n     <g id=\"text_3\">\n      <!-- −1.0 -->\n      <g transform=\"translate(117.658153 240.758125)scale(0.12 -0.12)\">\n       <use xlink:href=\"#DejaVuSans-8722\"/>\n       <use x=\"83.789062\" xlink:href=\"#DejaVuSans-49\"/>\n       <use x=\"147.412109\" xlink:href=\"#DejaVuSans-46\"/>\n       <use x=\"179.199219\" xlink:href=\"#DejaVuSans-48\"/>\n      </g>\n     </g>\n    </g>\n    <g id=\"xtick_4\">\n     <g id=\"line2d_4\">\n      <g>\n       <use style=\"stroke:#000000;stroke-width:0.8;\" x=\"170.273295\" xlink:href=\"#m563e7a112c\" y=\"224.64\"/>\n      </g>\n     </g>\n     <g id=\"text_4\">\n      <!-- −0.5 -->\n      <g transform=\"translate(155.703608 240.758125)scale(0.12 -0.12)\">\n       <use xlink:href=\"#DejaVuSans-8722\"/>\n       <use x=\"83.789062\" xlink:href=\"#DejaVuSans-48\"/>\n       <use x=\"147.412109\" xlink:href=\"#DejaVuSans-46\"/>\n       <use x=\"179.199219\" xlink:href=\"#DejaVuSans-53\"/>\n      </g>\n     </g>\n    </g>\n    <g id=\"xtick_5\">\n     <g id=\"line2d_5\">\n      <g>\n       <use style=\"stroke:#000000;stroke-width:0.8;\" x=\"208.31875\" xlink:href=\"#m563e7a112c\" y=\"224.64\"/>\n      </g>\n     </g>\n     <g id=\"text_5\">\n      <!-- 0.0 -->\n      <g transform=\"translate(198.776875 240.758125)scale(0.12 -0.12)\">\n       <use xlink:href=\"#DejaVuSans-48\"/>\n       <use x=\"63.623047\" xlink:href=\"#DejaVuSans-46\"/>\n       <use x=\"95.410156\" xlink:href=\"#DejaVuSans-48\"/>\n      </g>\n     </g>\n    </g>\n    <g id=\"xtick_6\">\n     <g id=\"line2d_6\">\n      <g>\n       <use style=\"stroke:#000000;stroke-width:0.8;\" x=\"246.364205\" xlink:href=\"#m563e7a112c\" y=\"224.64\"/>\n      </g>\n     </g>\n     <g id=\"text_6\">\n      <!-- 0.5 -->\n      <g transform=\"translate(236.82233 240.758125)scale(0.12 -0.12)\">\n       <use xlink:href=\"#DejaVuSans-48\"/>\n       <use x=\"63.623047\" xlink:href=\"#DejaVuSans-46\"/>\n       <use x=\"95.410156\" xlink:href=\"#DejaVuSans-53\"/>\n      </g>\n     </g>\n    </g>\n    <g id=\"xtick_7\">\n     <g id=\"line2d_7\">\n      <g>\n       <use style=\"stroke:#000000;stroke-width:0.8;\" x=\"284.409659\" xlink:href=\"#m563e7a112c\" y=\"224.64\"/>\n      </g>\n     </g>\n     <g id=\"text_7\">\n      <!-- 1.0 -->\n      <g transform=\"translate(274.867784 240.758125)scale(0.12 -0.12)\">\n       <use xlink:href=\"#DejaVuSans-49\"/>\n       <use x=\"63.623047\" xlink:href=\"#DejaVuSans-46\"/>\n       <use x=\"95.410156\" xlink:href=\"#DejaVuSans-48\"/>\n      </g>\n     </g>\n    </g>\n    <g id=\"xtick_8\">\n     <g id=\"line2d_8\">\n      <g>\n       <use style=\"stroke:#000000;stroke-width:0.8;\" x=\"322.455114\" xlink:href=\"#m563e7a112c\" y=\"224.64\"/>\n      </g>\n     </g>\n     <g id=\"text_8\">\n      <!-- 1.5 -->\n      <g transform=\"translate(312.913239 240.758125)scale(0.12 -0.12)\">\n       <use xlink:href=\"#DejaVuSans-49\"/>\n       <use x=\"63.623047\" xlink:href=\"#DejaVuSans-46\"/>\n       <use x=\"95.410156\" xlink:href=\"#DejaVuSans-53\"/>\n      </g>\n     </g>\n    </g>\n    <g id=\"xtick_9\">\n     <g id=\"line2d_9\">\n      <g>\n       <use style=\"stroke:#000000;stroke-width:0.8;\" x=\"360.500568\" xlink:href=\"#m563e7a112c\" y=\"224.64\"/>\n      </g>\n     </g>\n     <g id=\"text_9\">\n      <!-- 2.0 -->\n      <g transform=\"translate(350.958693 240.758125)scale(0.12 -0.12)\">\n       <use xlink:href=\"#DejaVuSans-50\"/>\n       <use x=\"63.623047\" xlink:href=\"#DejaVuSans-46\"/>\n       <use x=\"95.410156\" xlink:href=\"#DejaVuSans-48\"/>\n      </g>\n     </g>\n    </g>\n   </g>\n   <g id=\"matplotlib.axis_2\">\n    <g id=\"ytick_1\">\n     <g id=\"line2d_10\">\n      <defs>\n       <path d=\"M 0 0 \nL -3.5 0 \n\" id=\"m4b49c9a0d1\" style=\"stroke:#000000;stroke-width:0.8;\"/>\n      </defs>\n      <g>\n       <use style=\"stroke:#000000;stroke-width:0.8;\" x=\"40.91875\" xlink:href=\"#m4b49c9a0d1\" y=\"214.756364\"/>\n      </g>\n     </g>\n     <g id=\"text_10\">\n      <!-- 0.00 -->\n      <g transform=\"translate(7.2 219.315426)scale(0.12 -0.12)\">\n       <use xlink:href=\"#DejaVuSans-48\"/>\n       <use x=\"63.623047\" xlink:href=\"#DejaVuSans-46\"/>\n       <use x=\"95.410156\" xlink:href=\"#DejaVuSans-48\"/>\n       <use x=\"159.033203\" xlink:href=\"#DejaVuSans-48\"/>\n      </g>\n     </g>\n    </g>\n    <g id=\"ytick_2\">\n     <g id=\"line2d_11\">\n      <g>\n       <use style=\"stroke:#000000;stroke-width:0.8;\" x=\"40.91875\" xlink:href=\"#m4b49c9a0d1\" y=\"190.047273\"/>\n      </g>\n     </g>\n     <g id=\"text_11\">\n      <!-- 0.25 -->\n      <g transform=\"translate(7.2 194.606335)scale(0.12 -0.12)\">\n       <use xlink:href=\"#DejaVuSans-48\"/>\n       <use x=\"63.623047\" xlink:href=\"#DejaVuSans-46\"/>\n       <use x=\"95.410156\" xlink:href=\"#DejaVuSans-50\"/>\n       <use x=\"159.033203\" xlink:href=\"#DejaVuSans-53\"/>\n      </g>\n     </g>\n    </g>\n    <g id=\"ytick_3\">\n     <g id=\"line2d_12\">\n      <g>\n       <use style=\"stroke:#000000;stroke-width:0.8;\" x=\"40.91875\" xlink:href=\"#m4b49c9a0d1\" y=\"165.338182\"/>\n      </g>\n     </g>\n     <g id=\"text_12\">\n      <!-- 0.50 -->\n      <g transform=\"translate(7.2 169.897244)scale(0.12 -0.12)\">\n       <use xlink:href=\"#DejaVuSans-48\"/>\n       <use x=\"63.623047\" xlink:href=\"#DejaVuSans-46\"/>\n       <use x=\"95.410156\" xlink:href=\"#DejaVuSans-53\"/>\n       <use x=\"159.033203\" xlink:href=\"#DejaVuSans-48\"/>\n      </g>\n     </g>\n    </g>\n    <g id=\"ytick_4\">\n     <g id=\"line2d_13\">\n      <g>\n       <use style=\"stroke:#000000;stroke-width:0.8;\" x=\"40.91875\" xlink:href=\"#m4b49c9a0d1\" y=\"140.629091\"/>\n      </g>\n     </g>\n     <g id=\"text_13\">\n      <!-- 0.75 -->\n      <g transform=\"translate(7.2 145.188153)scale(0.12 -0.12)\">\n       <defs>\n        <path d=\"M 8.203125 72.90625 \nL 55.078125 72.90625 \nL 55.078125 68.703125 \nL 28.609375 0 \nL 18.3125 0 \nL 43.21875 64.59375 \nL 8.203125 64.59375 \nz\n\" id=\"DejaVuSans-55\"/>\n       </defs>\n       <use xlink:href=\"#DejaVuSans-48\"/>\n       <use x=\"63.623047\" xlink:href=\"#DejaVuSans-46\"/>\n       <use x=\"95.410156\" xlink:href=\"#DejaVuSans-55\"/>\n       <use x=\"159.033203\" xlink:href=\"#DejaVuSans-53\"/>\n      </g>\n     </g>\n    </g>\n    <g id=\"ytick_5\">\n     <g id=\"line2d_14\">\n      <g>\n       <use style=\"stroke:#000000;stroke-width:0.8;\" x=\"40.91875\" xlink:href=\"#m4b49c9a0d1\" y=\"115.92\"/>\n      </g>\n     </g>\n     <g id=\"text_14\">\n      <!-- 1.00 -->\n      <g transform=\"translate(7.2 120.479062)scale(0.12 -0.12)\">\n       <use xlink:href=\"#DejaVuSans-49\"/>\n       <use x=\"63.623047\" xlink:href=\"#DejaVuSans-46\"/>\n       <use x=\"95.410156\" xlink:href=\"#DejaVuSans-48\"/>\n       <use x=\"159.033203\" xlink:href=\"#DejaVuSans-48\"/>\n      </g>\n     </g>\n    </g>\n    <g id=\"ytick_6\">\n     <g id=\"line2d_15\">\n      <g>\n       <use style=\"stroke:#000000;stroke-width:0.8;\" x=\"40.91875\" xlink:href=\"#m4b49c9a0d1\" y=\"91.210909\"/>\n      </g>\n     </g>\n     <g id=\"text_15\">\n      <!-- 1.25 -->\n      <g transform=\"translate(7.2 95.769972)scale(0.12 -0.12)\">\n       <use xlink:href=\"#DejaVuSans-49\"/>\n       <use x=\"63.623047\" xlink:href=\"#DejaVuSans-46\"/>\n       <use x=\"95.410156\" xlink:href=\"#DejaVuSans-50\"/>\n       <use x=\"159.033203\" xlink:href=\"#DejaVuSans-53\"/>\n      </g>\n     </g>\n    </g>\n    <g id=\"ytick_7\">\n     <g id=\"line2d_16\">\n      <g>\n       <use style=\"stroke:#000000;stroke-width:0.8;\" x=\"40.91875\" xlink:href=\"#m4b49c9a0d1\" y=\"66.501818\"/>\n      </g>\n     </g>\n     <g id=\"text_16\">\n      <!-- 1.50 -->\n      <g transform=\"translate(7.2 71.060881)scale(0.12 -0.12)\">\n       <use xlink:href=\"#DejaVuSans-49\"/>\n       <use x=\"63.623047\" xlink:href=\"#DejaVuSans-46\"/>\n       <use x=\"95.410156\" xlink:href=\"#DejaVuSans-53\"/>\n       <use x=\"159.033203\" xlink:href=\"#DejaVuSans-48\"/>\n      </g>\n     </g>\n    </g>\n    <g id=\"ytick_8\">\n     <g id=\"line2d_17\">\n      <g>\n       <use style=\"stroke:#000000;stroke-width:0.8;\" x=\"40.91875\" xlink:href=\"#m4b49c9a0d1\" y=\"41.792727\"/>\n      </g>\n     </g>\n     <g id=\"text_17\">\n      <!-- 1.75 -->\n      <g transform=\"translate(7.2 46.35179)scale(0.12 -0.12)\">\n       <use xlink:href=\"#DejaVuSans-49\"/>\n       <use x=\"63.623047\" xlink:href=\"#DejaVuSans-46\"/>\n       <use x=\"95.410156\" xlink:href=\"#DejaVuSans-55\"/>\n       <use x=\"159.033203\" xlink:href=\"#DejaVuSans-53\"/>\n      </g>\n     </g>\n    </g>\n    <g id=\"ytick_9\">\n     <g id=\"line2d_18\">\n      <g>\n       <use style=\"stroke:#000000;stroke-width:0.8;\" x=\"40.91875\" xlink:href=\"#m4b49c9a0d1\" y=\"17.083636\"/>\n      </g>\n     </g>\n     <g id=\"text_18\">\n      <!-- 2.00 -->\n      <g transform=\"translate(7.2 21.642699)scale(0.12 -0.12)\">\n       <use xlink:href=\"#DejaVuSans-50\"/>\n       <use x=\"63.623047\" xlink:href=\"#DejaVuSans-46\"/>\n       <use x=\"95.410156\" xlink:href=\"#DejaVuSans-48\"/>\n       <use x=\"159.033203\" xlink:href=\"#DejaVuSans-48\"/>\n      </g>\n     </g>\n    </g>\n   </g>\n   <g id=\"line2d_19\">\n    <path clip-path=\"url(#p6b04541a10)\" d=\"M 56.136932 214.756364 \nL 59.211315 214.756364 \nL 62.285689 214.756364 \nL 65.360073 214.756364 \nL 68.434456 214.756364 \nL 71.50883 214.756364 \nL 74.583213 214.756364 \nL 77.657597 214.756364 \nL 80.731971 214.756364 \nL 83.806354 214.756364 \nL 86.880728 214.756364 \nL 89.955112 214.756364 \nL 93.029495 214.756364 \nL 96.103869 214.756364 \nL 99.178252 214.756364 \nL 102.252627 214.756364 \nL 105.32701 214.756364 \nL 108.401393 214.756364 \nL 111.475767 214.756364 \nL 114.550151 214.756364 \nL 117.624534 214.756364 \nL 120.698908 214.756364 \nL 123.773291 214.756364 \nL 126.847675 214.756364 \nL 129.922058 214.756364 \nL 132.996437 214.756364 \nL 136.07082 214.756364 \nL 139.145199 214.756364 \nL 142.219577 214.756364 \nL 145.293956 214.756364 \nL 148.36834 214.756364 \nL 151.442718 214.756364 \nL 154.517097 214.756364 \nL 157.591476 214.756364 \nL 160.665859 214.756364 \nL 163.740238 214.756364 \nL 166.814617 214.756364 \nL 169.888995 214.756364 \nL 172.963379 214.756364 \nL 176.037757 214.756364 \nL 179.112136 214.756364 \nL 182.186517 214.756364 \nL 185.260896 214.756364 \nL 188.335277 214.756364 \nL 191.409657 214.756364 \nL 194.484037 214.756364 \nL 197.558418 214.756364 \nL 200.632796 214.756364 \nL 203.707184 214.756364 \nL 206.781564 214.756364 \nL 209.855944 212.759664 \nL 212.930325 208.766275 \nL 216.004705 204.772887 \nL 219.079085 200.779499 \nL 222.153466 196.786109 \nL 225.227844 192.792723 \nL 228.302223 188.799336 \nL 231.376604 184.805947 \nL 234.450983 180.81256 \nL 237.525364 176.81917 \nL 240.599743 172.825784 \nL 243.674124 168.832394 \nL 246.748505 164.839005 \nL 249.822883 160.845618 \nL 252.897262 156.852232 \nL 255.971641 152.858845 \nL 259.046024 148.865453 \nL 262.120403 144.872066 \nL 265.194782 140.878679 \nL 268.26916 136.885293 \nL 271.343544 132.8919 \nL 274.417923 128.898514 \nL 277.492301 124.905127 \nL 280.56668 120.911741 \nL 283.641063 116.918348 \nL 286.715442 112.924962 \nL 289.789825 108.931569 \nL 292.8642 104.938188 \nL 295.938583 100.944796 \nL 299.012957 96.951415 \nL 302.08734 92.958023 \nL 305.161724 88.96463 \nL 308.236098 84.97125 \nL 311.310481 80.977857 \nL 314.384864 76.984465 \nL 317.459239 72.991084 \nL 320.533622 68.997691 \nL 323.608005 65.004299 \nL 326.682388 61.010906 \nL 329.756772 57.017514 \nL 332.831146 53.024133 \nL 335.905529 49.030741 \nL 338.979912 45.037348 \nL 342.054287 41.043968 \nL 345.12867 37.050575 \nL 348.203053 33.057183 \nL 351.277427 29.063802 \nL 354.351811 25.07041 \nL 357.426185 21.077029 \nL 360.500568 17.083636 \n\" style=\"fill:none;stroke:#1f77b4;stroke-linecap:square;stroke-width:1.5;\"/>\n   </g>\n   <g id=\"patch_3\">\n    <path d=\"M 40.91875 224.64 \nL 40.91875 7.2 \n\" style=\"fill:none;stroke:#000000;stroke-linecap:square;stroke-linejoin:miter;stroke-width:0.8;\"/>\n   </g>\n   <g id=\"patch_4\">\n    <path d=\"M 375.71875 224.64 \nL 375.71875 7.2 \n\" style=\"fill:none;stroke:#000000;stroke-linecap:square;stroke-linejoin:miter;stroke-width:0.8;\"/>\n   </g>\n   <g id=\"patch_5\">\n    <path d=\"M 40.91875 224.64 \nL 375.71875 224.64 \n\" style=\"fill:none;stroke:#000000;stroke-linecap:square;stroke-linejoin:miter;stroke-width:0.8;\"/>\n   </g>\n   <g id=\"patch_6\">\n    <path d=\"M 40.91875 7.2 \nL 375.71875 7.2 \n\" style=\"fill:none;stroke:#000000;stroke-linecap:square;stroke-linejoin:miter;stroke-width:0.8;\"/>\n   </g>\n  </g>\n </g>\n <defs>\n  <clipPath id=\"p6b04541a10\">\n   <rect height=\"217.44\" width=\"334.8\" x=\"40.91875\" y=\"7.2\"/>\n  </clipPath>\n </defs>\n</svg>\n",
      "image/png": "[encoded data removed]"
     },
     "metadata": {
      "needs_background": "light"
     }
    }
   ],
   "source": [
    "plot_function(F.relu)"
   ]
  },
  {
   "source": [
    "Create a function that, if passed two arguments [1,2,3,4] and 'abcd', returns [(1, 'a'), (2, 'b'), (3, 'c'), (4, 'd')]. What is special about that output data structure?"
   ],
   "cell_type": "code",
   "metadata": {},
   "execution_count": null,
   "outputs": []
  },
  {
   "cell_type": "code",
   "execution_count": 1,
   "metadata": {},
   "outputs": [
    {
     "output_type": "stream",
     "text": "\u001b[0;31mInit signature:\u001b[0m \u001b[0mzip\u001b[0m\u001b[0;34m(\u001b[0m\u001b[0mself\u001b[0m\u001b[0;34m,\u001b[0m \u001b[0;34m/\u001b[0m\u001b[0;34m,\u001b[0m \u001b[0;34m*\u001b[0m\u001b[0margs\u001b[0m\u001b[0;34m,\u001b[0m \u001b[0;34m**\u001b[0m\u001b[0mkwargs\u001b[0m\u001b[0;34m)\u001b[0m\u001b[0;34m\u001b[0m\u001b[0;34m\u001b[0m\u001b[0m\n\u001b[0;31mDocstring:\u001b[0m     \nzip(*iterables) --> A zip object yielding tuples until an input is exhausted.\n\n   >>> list(zip('abcdefg', range(3), range(4)))\n   [('a', 0, 0), ('b', 1, 1), ('c', 2, 2)]\n\nThe zip object yields n-length tuples, where n is the number of iterables\npassed as positional arguments to zip().  The i-th element in every tuple\ncomes from the i-th iterable argument to zip().  This continues until the\nshortest argument is exhausted.\n\u001b[0;31mType:\u001b[0m           type\n\u001b[0;31mSubclasses:\u001b[0m     \n"
    }
   ],
   "source": [
    "??zip"
   ]
  },
  {
   "cell_type": "code",
   "execution_count": 2,
   "metadata": {},
   "outputs": [
    {
     "output_type": "execute_result",
     "data": {
      "text/plain": "[(1, 'a'), (2, 'b'), (3, 'c'), (4, 'd')]"
     },
     "metadata": {},
     "execution_count": 2
    }
   ],
   "source": [
    "list(zip([1,2,3,4],'abcd'))"
   ]
  },
  {
   "source": [
    "What does view do in Pytorch?"
   ],
   "cell_type": "markdown",
   "metadata": {}
  },
  {
   "cell_type": "code",
   "execution_count": 9,
   "metadata": {},
   "outputs": [
    {
     "output_type": "execute_result",
     "data": {
      "text/plain": "tensor([ 1.,  2.,  3.,  4.,  5.,  6.,  7.,  8.,  9., 10., 11., 12., 13., 14., 15., 16.])"
     },
     "metadata": {},
     "execution_count": 9
    }
   ],
   "source": [
    "a = torch.range(1, 16)\n",
    "a"
   ]
  },
  {
   "cell_type": "code",
   "execution_count": 10,
   "metadata": {},
   "outputs": [
    {
     "output_type": "execute_result",
     "data": {
      "text/plain": "tensor([[ 1.,  2.,  3.,  4.],\n        [ 5.,  6.,  7.,  8.],\n        [ 9., 10., 11., 12.],\n        [13., 14., 15., 16.]])"
     },
     "metadata": {},
     "execution_count": 10
    }
   ],
   "source": [
    "a.view(4,4)"
   ]
  },
  {
   "source": [
    "**view** reshapes a tensor."
   ],
   "cell_type": "markdown",
   "metadata": {}
  },
  {
   "source": [
    "## Debugging\n",
    "The standard Python distribution includes a module named pdb, which provides debugging support directly within the interpreter. "
   ],
   "cell_type": "markdown",
   "metadata": {
    "tags": []
   }
  },
  {
   "source": [
    "Member functions = Methods\n",
    "<br>\n",
    "Attributes = fields, instance variables, or data members"
   ],
   "cell_type": "markdown",
   "metadata": {}
  },
  {
   "source": [
    "# 05 Pet breeds\n"
   ],
   "cell_type": "markdown",
   "metadata": {}
  },
  {
   "source": [
    "## Softmax"
   ],
   "cell_type": "markdown",
   "metadata": {}
  },
  {
   "cell_type": "code",
   "execution_count": 2,
   "metadata": {},
   "outputs": [],
   "source": [
    "def softmax(x): return exp(x) / exp(x).sum(dim=1, keepdim=True)"
   ]
  },
  {
   "cell_type": "code",
   "execution_count": 17,
   "metadata": {},
   "outputs": [
    {
     "output_type": "execute_result",
     "data": {
      "text/plain": "tensor([[-1.8455, -1.4580],\n        [ 1.4554, -0.0143],\n        [-1.9558,  2.0080],\n        [-0.0495,  0.2945],\n        [-0.2605, -1.5103],\n        [-1.2726, -1.3691]])"
     },
     "metadata": {},
     "execution_count": 17
    }
   ],
   "source": [
    "acts = torch.randn((6,2))*2\n",
    "acts"
   ]
  },
  {
   "cell_type": "code",
   "execution_count": 23,
   "metadata": {},
   "outputs": [
    {
     "output_type": "execute_result",
     "data": {
      "text/plain": "tensor([-1.8455,  1.4554, -1.9558, -0.0495, -0.2605, -1.2726])"
     },
     "metadata": {},
     "execution_count": 23
    }
   ],
   "source": [
    "x,y = torch.transpose(acts, 0, 1)\n",
    "x"
   ]
  },
  {
   "cell_type": "code",
   "execution_count": 24,
   "metadata": {},
   "outputs": [
    {
     "output_type": "execute_result",
     "data": {
      "text/plain": "tensor([0.4043, 0.8130, 0.0186, 0.4148, 0.7773, 0.5241])"
     },
     "metadata": {},
     "execution_count": 24
    }
   ],
   "source": [
    "(acts[:,0]-acts[:,1]).sigmoid()"
   ]
  },
  {
   "cell_type": "code",
   "execution_count": 29,
   "metadata": {},
   "outputs": [
    {
     "output_type": "execute_result",
     "data": {
      "text/plain": "tensor([[0.4043, 0.5957],\n        [0.8130, 0.1870],\n        [0.0186, 0.9814],\n        [0.4148, 0.5852],\n        [0.7773, 0.2227],\n        [0.5241, 0.4759]])"
     },
     "metadata": {},
     "execution_count": 29
    }
   ],
   "source": [
    "sm_acts = torch.softmax(acts, dim=1)\n",
    "sm_acts"
   ]
  },
  {
   "cell_type": "code",
   "execution_count": null,
   "metadata": {},
   "outputs": [],
   "source": []
  }
 ]
}